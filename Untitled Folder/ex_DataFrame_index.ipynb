{
 "cells": [
  {
   "cell_type": "markdown",
   "id": "979ee95f",
   "metadata": {},
   "source": [
    "## [DataFrame 인덱스 다루기]"
   ]
  },
  {
   "cell_type": "markdown",
   "id": "fa1ac765",
   "metadata": {},
   "source": [
    "- (1) 새로운 인덱스 설정 : 컬럼 ==> 인덱스 설정"
   ]
  },
  {
   "cell_type": "markdown",
   "id": "5976a154",
   "metadata": {},
   "source": [
    "- (1) 모듈 로딩<hr>"
   ]
  },
  {
   "cell_type": "code",
   "execution_count": 22,
   "id": "159a7537",
   "metadata": {},
   "outputs": [],
   "source": [
    "import pandas as pd"
   ]
  },
  {
   "cell_type": "markdown",
   "id": "2f857e2d",
   "metadata": {},
   "source": [
    "- (2) 데이터 준비<hr>"
   ]
  },
  {
   "cell_type": "code",
   "execution_count": 23,
   "id": "2058be15",
   "metadata": {},
   "outputs": [],
   "source": [
    "# dict 타입의 데이터 생성\n",
    "exam={'이름':['김','이','박','조'],\n",
    "       '국어': [90,60,40,39],\n",
    "       '수학': [80,30,40,20],\n",
    "       '사회': [30,35,49,97],\n",
    "       '과학': [47,60,30,65]\n",
    "     }"
   ]
  },
  {
   "cell_type": "markdown",
   "id": "4a68ed02",
   "metadata": {},
   "source": [
    "- (3) 데이터 저장"
   ]
  },
  {
   "cell_type": "code",
   "execution_count": 24,
   "id": "35475e51",
   "metadata": {},
   "outputs": [],
   "source": [
    "examDF=pd.DataFrame(exam)"
   ]
  },
  {
   "cell_type": "markdown",
   "id": "b80175a8",
   "metadata": {},
   "source": [
    "- (4) 데이터 확인"
   ]
  },
  {
   "cell_type": "code",
   "execution_count": 25,
   "id": "63886dce",
   "metadata": {},
   "outputs": [
    {
     "data": {
      "text/html": [
       "<div>\n",
       "<style scoped>\n",
       "    .dataframe tbody tr th:only-of-type {\n",
       "        vertical-align: middle;\n",
       "    }\n",
       "\n",
       "    .dataframe tbody tr th {\n",
       "        vertical-align: top;\n",
       "    }\n",
       "\n",
       "    .dataframe thead th {\n",
       "        text-align: right;\n",
       "    }\n",
       "</style>\n",
       "<table border=\"1\" class=\"dataframe\">\n",
       "  <thead>\n",
       "    <tr style=\"text-align: right;\">\n",
       "      <th></th>\n",
       "      <th>이름</th>\n",
       "      <th>국어</th>\n",
       "      <th>수학</th>\n",
       "      <th>사회</th>\n",
       "      <th>과학</th>\n",
       "    </tr>\n",
       "  </thead>\n",
       "  <tbody>\n",
       "    <tr>\n",
       "      <th>0</th>\n",
       "      <td>김</td>\n",
       "      <td>90</td>\n",
       "      <td>80</td>\n",
       "      <td>30</td>\n",
       "      <td>47</td>\n",
       "    </tr>\n",
       "    <tr>\n",
       "      <th>1</th>\n",
       "      <td>이</td>\n",
       "      <td>60</td>\n",
       "      <td>30</td>\n",
       "      <td>35</td>\n",
       "      <td>60</td>\n",
       "    </tr>\n",
       "    <tr>\n",
       "      <th>2</th>\n",
       "      <td>박</td>\n",
       "      <td>40</td>\n",
       "      <td>40</td>\n",
       "      <td>49</td>\n",
       "      <td>30</td>\n",
       "    </tr>\n",
       "    <tr>\n",
       "      <th>3</th>\n",
       "      <td>조</td>\n",
       "      <td>39</td>\n",
       "      <td>20</td>\n",
       "      <td>97</td>\n",
       "      <td>65</td>\n",
       "    </tr>\n",
       "  </tbody>\n",
       "</table>\n",
       "</div>"
      ],
      "text/plain": [
       "  이름  국어  수학  사회  과학\n",
       "0  김  90  80  30  47\n",
       "1  이  60  30  35  60\n",
       "2  박  40  40  49  30\n",
       "3  조  39  20  97  65"
      ]
     },
     "execution_count": 25,
     "metadata": {},
     "output_type": "execute_result"
    }
   ],
   "source": [
    "examDF"
   ]
  },
  {
   "cell_type": "markdown",
   "id": "4a9e342b",
   "metadata": {},
   "source": [
    "- (5) 새로운 인덱스 설정 : 컬럼 ==> 인덱스 일부 변경 DF.rename()"
   ]
  },
  {
   "cell_type": "code",
   "execution_count": 26,
   "id": "6b48db03",
   "metadata": {},
   "outputs": [],
   "source": [
    "# 행 인덱스 일부 변경 => {기존인덱스:새로운인덱스}\n",
    "# inplace 매개변수/파라미터 => 원본 DataFrame에 변경 여부 결정, 기본은 원본 변경 안함 False!!\n",
    "examDF.rename(index={0:'zero'}, inplace=True)"
   ]
  },
  {
   "cell_type": "code",
   "execution_count": 27,
   "id": "7452b2ab",
   "metadata": {},
   "outputs": [
    {
     "data": {
      "text/html": [
       "<div>\n",
       "<style scoped>\n",
       "    .dataframe tbody tr th:only-of-type {\n",
       "        vertical-align: middle;\n",
       "    }\n",
       "\n",
       "    .dataframe tbody tr th {\n",
       "        vertical-align: top;\n",
       "    }\n",
       "\n",
       "    .dataframe thead th {\n",
       "        text-align: right;\n",
       "    }\n",
       "</style>\n",
       "<table border=\"1\" class=\"dataframe\">\n",
       "  <thead>\n",
       "    <tr style=\"text-align: right;\">\n",
       "      <th></th>\n",
       "      <th>이름</th>\n",
       "      <th>국어</th>\n",
       "      <th>수학</th>\n",
       "      <th>사회</th>\n",
       "      <th>과학</th>\n",
       "    </tr>\n",
       "  </thead>\n",
       "  <tbody>\n",
       "    <tr>\n",
       "      <th>zero</th>\n",
       "      <td>김</td>\n",
       "      <td>90</td>\n",
       "      <td>80</td>\n",
       "      <td>30</td>\n",
       "      <td>47</td>\n",
       "    </tr>\n",
       "    <tr>\n",
       "      <th>1</th>\n",
       "      <td>이</td>\n",
       "      <td>60</td>\n",
       "      <td>30</td>\n",
       "      <td>35</td>\n",
       "      <td>60</td>\n",
       "    </tr>\n",
       "    <tr>\n",
       "      <th>2</th>\n",
       "      <td>박</td>\n",
       "      <td>40</td>\n",
       "      <td>40</td>\n",
       "      <td>49</td>\n",
       "      <td>30</td>\n",
       "    </tr>\n",
       "    <tr>\n",
       "      <th>3</th>\n",
       "      <td>조</td>\n",
       "      <td>39</td>\n",
       "      <td>20</td>\n",
       "      <td>97</td>\n",
       "      <td>65</td>\n",
       "    </tr>\n",
       "  </tbody>\n",
       "</table>\n",
       "</div>"
      ],
      "text/plain": [
       "     이름  국어  수학  사회  과학\n",
       "zero  김  90  80  30  47\n",
       "1     이  60  30  35  60\n",
       "2     박  40  40  49  30\n",
       "3     조  39  20  97  65"
      ]
     },
     "execution_count": 27,
     "metadata": {},
     "output_type": "execute_result"
    }
   ],
   "source": [
    "examDF"
   ]
  },
  {
   "cell_type": "code",
   "execution_count": 29,
   "id": "fae307b6",
   "metadata": {},
   "outputs": [],
   "source": [
    "# 열 이름 인덱스 일부 변경 => column={기존인덱스:새로운인덱스}\n",
    "examDF.rename(columns={'과학':'영어'}, inplace=True)"
   ]
  },
  {
   "cell_type": "code",
   "execution_count": 31,
   "id": "7e4db07a",
   "metadata": {},
   "outputs": [
    {
     "data": {
      "text/plain": [
       "Index(['이름', '국어', '수학', '사회', '영어'], dtype='object')"
      ]
     },
     "execution_count": 31,
     "metadata": {},
     "output_type": "execute_result"
    }
   ],
   "source": [
    "examDF.columns"
   ]
  },
  {
   "cell_type": "code",
   "execution_count": null,
   "id": "be8bac9d",
   "metadata": {},
   "outputs": [],
   "source": []
  }
 ],
 "metadata": {
  "kernelspec": {
   "display_name": "Python 3 (ipykernel)",
   "language": "python",
   "name": "python3"
  },
  "language_info": {
   "codemirror_mode": {
    "name": "ipython",
    "version": 3
   },
   "file_extension": ".py",
   "mimetype": "text/x-python",
   "name": "python",
   "nbconvert_exporter": "python",
   "pygments_lexer": "ipython3",
   "version": "3.11.5"
  }
 },
 "nbformat": 4,
 "nbformat_minor": 5
}
