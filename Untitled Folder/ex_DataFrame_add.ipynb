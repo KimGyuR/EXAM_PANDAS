{
 "cells": [
  {
   "cell_type": "markdown",
   "id": "ca3f0417",
   "metadata": {},
   "source": [
    "## [DataFrame에 행/열 추가]"
   ]
  },
  {
   "cell_type": "markdown",
   "id": "9bd40b34",
   "metadata": {},
   "source": [
    "(1) 모듈 로딩 <hr>"
   ]
  },
  {
   "cell_type": "code",
   "execution_count": 40,
   "id": "de674b8a",
   "metadata": {},
   "outputs": [],
   "source": [
    "import pandas as pd"
   ]
  },
  {
   "cell_type": "markdown",
   "id": "6c72b5dc",
   "metadata": {},
   "source": [
    "(2) 데이터 준비 <hr>"
   ]
  },
  {
   "cell_type": "code",
   "execution_count": 41,
   "id": "624680a7",
   "metadata": {},
   "outputs": [],
   "source": [
    "# dict 타입의 데이터 생성\n",
    "exam={'이름':['김','이','박','조','전'],\n",
    "       '국어': [90,60,40,39,84],\n",
    "       '수학': [80,30,40,20,35],\n",
    "       '사회': [30,35,49,97,45],\n",
    "       '과학': [47,60,30,65,87],\n",
    "       '체육': [90,70,60,59,99]}"
   ]
  },
  {
   "cell_type": "markdown",
   "id": "33be1c56",
   "metadata": {},
   "source": [
    "(3) DataFrame에 데이터 저장 <hr>"
   ]
  },
  {
   "cell_type": "code",
   "execution_count": 42,
   "id": "b997e669",
   "metadata": {},
   "outputs": [],
   "source": [
    "examDF=pd.DataFrame(exam)"
   ]
  },
  {
   "cell_type": "code",
   "execution_count": 43,
   "id": "d24f8d47",
   "metadata": {},
   "outputs": [
    {
     "data": {
      "text/html": [
       "<div>\n",
       "<style scoped>\n",
       "    .dataframe tbody tr th:only-of-type {\n",
       "        vertical-align: middle;\n",
       "    }\n",
       "\n",
       "    .dataframe tbody tr th {\n",
       "        vertical-align: top;\n",
       "    }\n",
       "\n",
       "    .dataframe thead th {\n",
       "        text-align: right;\n",
       "    }\n",
       "</style>\n",
       "<table border=\"1\" class=\"dataframe\">\n",
       "  <thead>\n",
       "    <tr style=\"text-align: right;\">\n",
       "      <th></th>\n",
       "      <th>이름</th>\n",
       "      <th>국어</th>\n",
       "      <th>수학</th>\n",
       "      <th>사회</th>\n",
       "      <th>과학</th>\n",
       "      <th>체육</th>\n",
       "    </tr>\n",
       "  </thead>\n",
       "  <tbody>\n",
       "    <tr>\n",
       "      <th>0</th>\n",
       "      <td>김</td>\n",
       "      <td>90</td>\n",
       "      <td>80</td>\n",
       "      <td>30</td>\n",
       "      <td>47</td>\n",
       "      <td>90</td>\n",
       "    </tr>\n",
       "    <tr>\n",
       "      <th>1</th>\n",
       "      <td>이</td>\n",
       "      <td>60</td>\n",
       "      <td>30</td>\n",
       "      <td>35</td>\n",
       "      <td>60</td>\n",
       "      <td>70</td>\n",
       "    </tr>\n",
       "    <tr>\n",
       "      <th>2</th>\n",
       "      <td>박</td>\n",
       "      <td>40</td>\n",
       "      <td>40</td>\n",
       "      <td>49</td>\n",
       "      <td>30</td>\n",
       "      <td>60</td>\n",
       "    </tr>\n",
       "    <tr>\n",
       "      <th>3</th>\n",
       "      <td>조</td>\n",
       "      <td>39</td>\n",
       "      <td>20</td>\n",
       "      <td>97</td>\n",
       "      <td>65</td>\n",
       "      <td>59</td>\n",
       "    </tr>\n",
       "    <tr>\n",
       "      <th>4</th>\n",
       "      <td>전</td>\n",
       "      <td>84</td>\n",
       "      <td>35</td>\n",
       "      <td>45</td>\n",
       "      <td>87</td>\n",
       "      <td>99</td>\n",
       "    </tr>\n",
       "  </tbody>\n",
       "</table>\n",
       "</div>"
      ],
      "text/plain": [
       "  이름  국어  수학  사회  과학  체육\n",
       "0  김  90  80  30  47  90\n",
       "1  이  60  30  35  60  70\n",
       "2  박  40  40  49  30  60\n",
       "3  조  39  20  97  65  59\n",
       "4  전  84  35  45  87  99"
      ]
     },
     "execution_count": 43,
     "metadata": {},
     "output_type": "execute_result"
    }
   ],
   "source": [
    "examDF"
   ]
  },
  {
   "cell_type": "markdown",
   "id": "3ebc2ca7",
   "metadata": {},
   "source": [
    "(4) 저장된 데이터 속성 확인 <hr>"
   ]
  },
  {
   "cell_type": "code",
   "execution_count": 44,
   "id": "bffb1c6f",
   "metadata": {},
   "outputs": [],
   "source": [
    "def printAttribute(df,dfname):\n",
    "    print(f'[{dfname} Attributes]')\n",
    "    print(f'index\\n ==> {df.index}')\n",
    "    print(f'columns\\n ==> {df.columns}')\n",
    "    print(f'shape\\n ==> {df.shape}')\n",
    "    print(f'ndim\\n ==> {df.ndim}')\n",
    "    print(f'size\\n ==> {df.size}')\n",
    "    print(f'dtypes\\n ==> {df.dtypes}')"
   ]
  },
  {
   "cell_type": "code",
   "execution_count": 45,
   "id": "1c0ffcd4",
   "metadata": {},
   "outputs": [
    {
     "name": "stdout",
     "output_type": "stream",
     "text": [
      "[examDF Attributes]\n",
      "index\n",
      " ==> RangeIndex(start=0, stop=5, step=1)\n",
      "columns\n",
      " ==> Index(['이름', '국어', '수학', '사회', '과학', '체육'], dtype='object')\n",
      "shape\n",
      " ==> (5, 6)\n",
      "ndim\n",
      " ==> 2\n",
      "size\n",
      " ==> 30\n",
      "dtypes\n",
      " ==> 이름    object\n",
      "국어     int64\n",
      "수학     int64\n",
      "사회     int64\n",
      "과학     int64\n",
      "체육     int64\n",
      "dtype: object\n"
     ]
    }
   ],
   "source": [
    "printAttribute(examDF, 'examDF')"
   ]
  },
  {
   "cell_type": "markdown",
   "id": "9dbd26ec",
   "metadata": {},
   "source": [
    "(5) DataFrame에 컬럼(column)추가 <hr>"
   ]
  },
  {
   "cell_type": "markdown",
   "id": "ce6fce47",
   "metadata": {},
   "source": [
    "- 방법 : DF객체변수명[새로운 컬럼명]=값"
   ]
  },
  {
   "cell_type": "code",
   "execution_count": 46,
   "id": "8610c31c",
   "metadata": {},
   "outputs": [
    {
     "data": {
      "text/plain": [
       "Index(['이름', '국어', '수학', '사회', '과학', '체육'], dtype='object')"
      ]
     },
     "execution_count": 46,
     "metadata": {},
     "output_type": "execute_result"
    }
   ],
   "source": [
    "examDF.columns"
   ]
  },
  {
   "cell_type": "code",
   "execution_count": 47,
   "id": "9b968f6d",
   "metadata": {},
   "outputs": [],
   "source": [
    "# 행 개수 만큼 값 추가\n",
    "examDF['영어']=[90,80,70,60,50]"
   ]
  },
  {
   "cell_type": "code",
   "execution_count": 48,
   "id": "a146c9cc",
   "metadata": {},
   "outputs": [
    {
     "data": {
      "text/html": [
       "<div>\n",
       "<style scoped>\n",
       "    .dataframe tbody tr th:only-of-type {\n",
       "        vertical-align: middle;\n",
       "    }\n",
       "\n",
       "    .dataframe tbody tr th {\n",
       "        vertical-align: top;\n",
       "    }\n",
       "\n",
       "    .dataframe thead th {\n",
       "        text-align: right;\n",
       "    }\n",
       "</style>\n",
       "<table border=\"1\" class=\"dataframe\">\n",
       "  <thead>\n",
       "    <tr style=\"text-align: right;\">\n",
       "      <th></th>\n",
       "      <th>이름</th>\n",
       "      <th>국어</th>\n",
       "      <th>수학</th>\n",
       "      <th>사회</th>\n",
       "      <th>과학</th>\n",
       "      <th>체육</th>\n",
       "      <th>영어</th>\n",
       "    </tr>\n",
       "  </thead>\n",
       "  <tbody>\n",
       "    <tr>\n",
       "      <th>0</th>\n",
       "      <td>김</td>\n",
       "      <td>90</td>\n",
       "      <td>80</td>\n",
       "      <td>30</td>\n",
       "      <td>47</td>\n",
       "      <td>90</td>\n",
       "      <td>90</td>\n",
       "    </tr>\n",
       "    <tr>\n",
       "      <th>1</th>\n",
       "      <td>이</td>\n",
       "      <td>60</td>\n",
       "      <td>30</td>\n",
       "      <td>35</td>\n",
       "      <td>60</td>\n",
       "      <td>70</td>\n",
       "      <td>80</td>\n",
       "    </tr>\n",
       "    <tr>\n",
       "      <th>2</th>\n",
       "      <td>박</td>\n",
       "      <td>40</td>\n",
       "      <td>40</td>\n",
       "      <td>49</td>\n",
       "      <td>30</td>\n",
       "      <td>60</td>\n",
       "      <td>70</td>\n",
       "    </tr>\n",
       "    <tr>\n",
       "      <th>3</th>\n",
       "      <td>조</td>\n",
       "      <td>39</td>\n",
       "      <td>20</td>\n",
       "      <td>97</td>\n",
       "      <td>65</td>\n",
       "      <td>59</td>\n",
       "      <td>60</td>\n",
       "    </tr>\n",
       "    <tr>\n",
       "      <th>4</th>\n",
       "      <td>전</td>\n",
       "      <td>84</td>\n",
       "      <td>35</td>\n",
       "      <td>45</td>\n",
       "      <td>87</td>\n",
       "      <td>99</td>\n",
       "      <td>50</td>\n",
       "    </tr>\n",
       "  </tbody>\n",
       "</table>\n",
       "</div>"
      ],
      "text/plain": [
       "  이름  국어  수학  사회  과학  체육  영어\n",
       "0  김  90  80  30  47  90  90\n",
       "1  이  60  30  35  60  70  80\n",
       "2  박  40  40  49  30  60  70\n",
       "3  조  39  20  97  65  59  60\n",
       "4  전  84  35  45  87  99  50"
      ]
     },
     "execution_count": 48,
     "metadata": {},
     "output_type": "execute_result"
    }
   ],
   "source": [
    "examDF"
   ]
  },
  {
   "cell_type": "code",
   "execution_count": 49,
   "id": "c7d6119c",
   "metadata": {},
   "outputs": [],
   "source": [
    "# 1개의 데이터 즉 값 추가 시 모든 행에 동일 값으로 저장\n",
    "examDF['과학']=10"
   ]
  },
  {
   "cell_type": "code",
   "execution_count": 50,
   "id": "f89df38d",
   "metadata": {},
   "outputs": [
    {
     "data": {
      "text/html": [
       "<div>\n",
       "<style scoped>\n",
       "    .dataframe tbody tr th:only-of-type {\n",
       "        vertical-align: middle;\n",
       "    }\n",
       "\n",
       "    .dataframe tbody tr th {\n",
       "        vertical-align: top;\n",
       "    }\n",
       "\n",
       "    .dataframe thead th {\n",
       "        text-align: right;\n",
       "    }\n",
       "</style>\n",
       "<table border=\"1\" class=\"dataframe\">\n",
       "  <thead>\n",
       "    <tr style=\"text-align: right;\">\n",
       "      <th></th>\n",
       "      <th>이름</th>\n",
       "      <th>국어</th>\n",
       "      <th>수학</th>\n",
       "      <th>사회</th>\n",
       "      <th>과학</th>\n",
       "      <th>체육</th>\n",
       "      <th>영어</th>\n",
       "    </tr>\n",
       "  </thead>\n",
       "  <tbody>\n",
       "    <tr>\n",
       "      <th>0</th>\n",
       "      <td>김</td>\n",
       "      <td>90</td>\n",
       "      <td>80</td>\n",
       "      <td>30</td>\n",
       "      <td>10</td>\n",
       "      <td>90</td>\n",
       "      <td>90</td>\n",
       "    </tr>\n",
       "    <tr>\n",
       "      <th>1</th>\n",
       "      <td>이</td>\n",
       "      <td>60</td>\n",
       "      <td>30</td>\n",
       "      <td>35</td>\n",
       "      <td>10</td>\n",
       "      <td>70</td>\n",
       "      <td>80</td>\n",
       "    </tr>\n",
       "    <tr>\n",
       "      <th>2</th>\n",
       "      <td>박</td>\n",
       "      <td>40</td>\n",
       "      <td>40</td>\n",
       "      <td>49</td>\n",
       "      <td>10</td>\n",
       "      <td>60</td>\n",
       "      <td>70</td>\n",
       "    </tr>\n",
       "    <tr>\n",
       "      <th>3</th>\n",
       "      <td>조</td>\n",
       "      <td>39</td>\n",
       "      <td>20</td>\n",
       "      <td>97</td>\n",
       "      <td>10</td>\n",
       "      <td>59</td>\n",
       "      <td>60</td>\n",
       "    </tr>\n",
       "    <tr>\n",
       "      <th>4</th>\n",
       "      <td>전</td>\n",
       "      <td>84</td>\n",
       "      <td>35</td>\n",
       "      <td>45</td>\n",
       "      <td>10</td>\n",
       "      <td>99</td>\n",
       "      <td>50</td>\n",
       "    </tr>\n",
       "  </tbody>\n",
       "</table>\n",
       "</div>"
      ],
      "text/plain": [
       "  이름  국어  수학  사회  과학  체육  영어\n",
       "0  김  90  80  30  10  90  90\n",
       "1  이  60  30  35  10  70  80\n",
       "2  박  40  40  49  10  60  70\n",
       "3  조  39  20  97  10  59  60\n",
       "4  전  84  35  45  10  99  50"
      ]
     },
     "execution_count": 50,
     "metadata": {},
     "output_type": "execute_result"
    }
   ],
   "source": [
    "examDF"
   ]
  },
  {
   "cell_type": "code",
   "execution_count": 51,
   "id": "460f0045",
   "metadata": {},
   "outputs": [],
   "source": [
    "# 1개의 데이터 즉 값 추가 시 모든 행에 동일 값으로 저장\n",
    "examDF[7]=0"
   ]
  },
  {
   "cell_type": "code",
   "execution_count": 52,
   "id": "6296db92",
   "metadata": {},
   "outputs": [
    {
     "data": {
      "text/html": [
       "<div>\n",
       "<style scoped>\n",
       "    .dataframe tbody tr th:only-of-type {\n",
       "        vertical-align: middle;\n",
       "    }\n",
       "\n",
       "    .dataframe tbody tr th {\n",
       "        vertical-align: top;\n",
       "    }\n",
       "\n",
       "    .dataframe thead th {\n",
       "        text-align: right;\n",
       "    }\n",
       "</style>\n",
       "<table border=\"1\" class=\"dataframe\">\n",
       "  <thead>\n",
       "    <tr style=\"text-align: right;\">\n",
       "      <th></th>\n",
       "      <th>이름</th>\n",
       "      <th>국어</th>\n",
       "      <th>수학</th>\n",
       "      <th>사회</th>\n",
       "      <th>과학</th>\n",
       "      <th>체육</th>\n",
       "      <th>영어</th>\n",
       "      <th>7</th>\n",
       "    </tr>\n",
       "  </thead>\n",
       "  <tbody>\n",
       "    <tr>\n",
       "      <th>0</th>\n",
       "      <td>김</td>\n",
       "      <td>90</td>\n",
       "      <td>80</td>\n",
       "      <td>30</td>\n",
       "      <td>10</td>\n",
       "      <td>90</td>\n",
       "      <td>90</td>\n",
       "      <td>0</td>\n",
       "    </tr>\n",
       "    <tr>\n",
       "      <th>1</th>\n",
       "      <td>이</td>\n",
       "      <td>60</td>\n",
       "      <td>30</td>\n",
       "      <td>35</td>\n",
       "      <td>10</td>\n",
       "      <td>70</td>\n",
       "      <td>80</td>\n",
       "      <td>0</td>\n",
       "    </tr>\n",
       "    <tr>\n",
       "      <th>2</th>\n",
       "      <td>박</td>\n",
       "      <td>40</td>\n",
       "      <td>40</td>\n",
       "      <td>49</td>\n",
       "      <td>10</td>\n",
       "      <td>60</td>\n",
       "      <td>70</td>\n",
       "      <td>0</td>\n",
       "    </tr>\n",
       "    <tr>\n",
       "      <th>3</th>\n",
       "      <td>조</td>\n",
       "      <td>39</td>\n",
       "      <td>20</td>\n",
       "      <td>97</td>\n",
       "      <td>10</td>\n",
       "      <td>59</td>\n",
       "      <td>60</td>\n",
       "      <td>0</td>\n",
       "    </tr>\n",
       "    <tr>\n",
       "      <th>4</th>\n",
       "      <td>전</td>\n",
       "      <td>84</td>\n",
       "      <td>35</td>\n",
       "      <td>45</td>\n",
       "      <td>10</td>\n",
       "      <td>99</td>\n",
       "      <td>50</td>\n",
       "      <td>0</td>\n",
       "    </tr>\n",
       "  </tbody>\n",
       "</table>\n",
       "</div>"
      ],
      "text/plain": [
       "  이름  국어  수학  사회  과학  체육  영어  7\n",
       "0  김  90  80  30  10  90  90  0\n",
       "1  이  60  30  35  10  70  80  0\n",
       "2  박  40  40  49  10  60  70  0\n",
       "3  조  39  20  97  10  59  60  0\n",
       "4  전  84  35  45  10  99  50  0"
      ]
     },
     "execution_count": 52,
     "metadata": {},
     "output_type": "execute_result"
    }
   ],
   "source": [
    "examDF"
   ]
  },
  {
   "cell_type": "code",
   "execution_count": 53,
   "id": "e81caee5",
   "metadata": {},
   "outputs": [
    {
     "data": {
      "text/plain": [
       "Index(['이름', '국어', '수학', '사회', '과학', '체육', '영어', 7], dtype='object')"
      ]
     },
     "execution_count": 53,
     "metadata": {},
     "output_type": "execute_result"
    }
   ],
   "source": [
    "examDF.columns"
   ]
  },
  {
   "cell_type": "markdown",
   "id": "13274d8c",
   "metadata": {},
   "source": [
    "(6) DataFrame에 행(row) 추가 <hr>\n",
    "- 방법 : DF객체변수명.loc[새로운 행인덱스] = [컬럼수 만큼 데이터]\n",
    "- 방법 : DF객체변수명.loc[새로운 행인덱스] = 데이터\n",
    "- 불가 방법 : DF객체변수명.iloc[새로운 행인덱스] = 데이터 => 데이터 존재해야지 인덱스 할당됨"
   ]
  },
  {
   "cell_type": "code",
   "execution_count": 54,
   "id": "dc546b88",
   "metadata": {},
   "outputs": [
    {
     "data": {
      "text/plain": [
       "RangeIndex(start=0, stop=5, step=1)"
      ]
     },
     "execution_count": 54,
     "metadata": {},
     "output_type": "execute_result"
    }
   ],
   "source": [
    "examDF.index"
   ]
  },
  {
   "cell_type": "code",
   "execution_count": 55,
   "id": "9a75cad8",
   "metadata": {},
   "outputs": [],
   "source": [
    "# 컬럼 수 만큼의 데이터를 가진 행 추가\n",
    "examDF.loc[5]=['원더우먼', 100,100,100,100,100,100,100]"
   ]
  },
  {
   "cell_type": "code",
   "execution_count": 56,
   "id": "cf0282ff",
   "metadata": {},
   "outputs": [
    {
     "data": {
      "text/html": [
       "<div>\n",
       "<style scoped>\n",
       "    .dataframe tbody tr th:only-of-type {\n",
       "        vertical-align: middle;\n",
       "    }\n",
       "\n",
       "    .dataframe tbody tr th {\n",
       "        vertical-align: top;\n",
       "    }\n",
       "\n",
       "    .dataframe thead th {\n",
       "        text-align: right;\n",
       "    }\n",
       "</style>\n",
       "<table border=\"1\" class=\"dataframe\">\n",
       "  <thead>\n",
       "    <tr style=\"text-align: right;\">\n",
       "      <th></th>\n",
       "      <th>이름</th>\n",
       "      <th>국어</th>\n",
       "      <th>수학</th>\n",
       "      <th>사회</th>\n",
       "      <th>과학</th>\n",
       "      <th>체육</th>\n",
       "      <th>영어</th>\n",
       "      <th>7</th>\n",
       "    </tr>\n",
       "  </thead>\n",
       "  <tbody>\n",
       "    <tr>\n",
       "      <th>0</th>\n",
       "      <td>김</td>\n",
       "      <td>90</td>\n",
       "      <td>80</td>\n",
       "      <td>30</td>\n",
       "      <td>10</td>\n",
       "      <td>90</td>\n",
       "      <td>90</td>\n",
       "      <td>0</td>\n",
       "    </tr>\n",
       "    <tr>\n",
       "      <th>1</th>\n",
       "      <td>이</td>\n",
       "      <td>60</td>\n",
       "      <td>30</td>\n",
       "      <td>35</td>\n",
       "      <td>10</td>\n",
       "      <td>70</td>\n",
       "      <td>80</td>\n",
       "      <td>0</td>\n",
       "    </tr>\n",
       "    <tr>\n",
       "      <th>2</th>\n",
       "      <td>박</td>\n",
       "      <td>40</td>\n",
       "      <td>40</td>\n",
       "      <td>49</td>\n",
       "      <td>10</td>\n",
       "      <td>60</td>\n",
       "      <td>70</td>\n",
       "      <td>0</td>\n",
       "    </tr>\n",
       "    <tr>\n",
       "      <th>3</th>\n",
       "      <td>조</td>\n",
       "      <td>39</td>\n",
       "      <td>20</td>\n",
       "      <td>97</td>\n",
       "      <td>10</td>\n",
       "      <td>59</td>\n",
       "      <td>60</td>\n",
       "      <td>0</td>\n",
       "    </tr>\n",
       "    <tr>\n",
       "      <th>4</th>\n",
       "      <td>전</td>\n",
       "      <td>84</td>\n",
       "      <td>35</td>\n",
       "      <td>45</td>\n",
       "      <td>10</td>\n",
       "      <td>99</td>\n",
       "      <td>50</td>\n",
       "      <td>0</td>\n",
       "    </tr>\n",
       "    <tr>\n",
       "      <th>5</th>\n",
       "      <td>원더우먼</td>\n",
       "      <td>100</td>\n",
       "      <td>100</td>\n",
       "      <td>100</td>\n",
       "      <td>100</td>\n",
       "      <td>100</td>\n",
       "      <td>100</td>\n",
       "      <td>100</td>\n",
       "    </tr>\n",
       "  </tbody>\n",
       "</table>\n",
       "</div>"
      ],
      "text/plain": [
       "     이름   국어   수학   사회   과학   체육   영어    7\n",
       "0     김   90   80   30   10   90   90    0\n",
       "1     이   60   30   35   10   70   80    0\n",
       "2     박   40   40   49   10   60   70    0\n",
       "3     조   39   20   97   10   59   60    0\n",
       "4     전   84   35   45   10   99   50    0\n",
       "5  원더우먼  100  100  100  100  100  100  100"
      ]
     },
     "execution_count": 56,
     "metadata": {},
     "output_type": "execute_result"
    }
   ],
   "source": [
    "examDF"
   ]
  },
  {
   "cell_type": "code",
   "execution_count": 57,
   "id": "2a3fe7da",
   "metadata": {},
   "outputs": [],
   "source": [
    "# 행 추가 시 iloc는 사용불가 => why? 데이터 수에 맞게 인덱스 범위 지정이 되기 때문에\n",
    "# 현재 인덱스에 없는 인덱스로 불가\n",
    "#examDF.iloc[6]=['슈퍼맨', 100,100,100,100,100,100,100]"
   ]
  },
  {
   "cell_type": "code",
   "execution_count": 58,
   "id": "0bf518d7",
   "metadata": {},
   "outputs": [],
   "source": [
    "# 1개 데이터 가진 행 추가\n",
    "examDF.loc[6]='슈퍼맨'"
   ]
  },
  {
   "cell_type": "code",
   "execution_count": 59,
   "id": "7020abc7",
   "metadata": {},
   "outputs": [
    {
     "data": {
      "text/html": [
       "<div>\n",
       "<style scoped>\n",
       "    .dataframe tbody tr th:only-of-type {\n",
       "        vertical-align: middle;\n",
       "    }\n",
       "\n",
       "    .dataframe tbody tr th {\n",
       "        vertical-align: top;\n",
       "    }\n",
       "\n",
       "    .dataframe thead th {\n",
       "        text-align: right;\n",
       "    }\n",
       "</style>\n",
       "<table border=\"1\" class=\"dataframe\">\n",
       "  <thead>\n",
       "    <tr style=\"text-align: right;\">\n",
       "      <th></th>\n",
       "      <th>이름</th>\n",
       "      <th>국어</th>\n",
       "      <th>수학</th>\n",
       "      <th>사회</th>\n",
       "      <th>과학</th>\n",
       "      <th>체육</th>\n",
       "      <th>영어</th>\n",
       "      <th>7</th>\n",
       "    </tr>\n",
       "  </thead>\n",
       "  <tbody>\n",
       "    <tr>\n",
       "      <th>0</th>\n",
       "      <td>김</td>\n",
       "      <td>90</td>\n",
       "      <td>80</td>\n",
       "      <td>30</td>\n",
       "      <td>10</td>\n",
       "      <td>90</td>\n",
       "      <td>90</td>\n",
       "      <td>0</td>\n",
       "    </tr>\n",
       "    <tr>\n",
       "      <th>1</th>\n",
       "      <td>이</td>\n",
       "      <td>60</td>\n",
       "      <td>30</td>\n",
       "      <td>35</td>\n",
       "      <td>10</td>\n",
       "      <td>70</td>\n",
       "      <td>80</td>\n",
       "      <td>0</td>\n",
       "    </tr>\n",
       "    <tr>\n",
       "      <th>2</th>\n",
       "      <td>박</td>\n",
       "      <td>40</td>\n",
       "      <td>40</td>\n",
       "      <td>49</td>\n",
       "      <td>10</td>\n",
       "      <td>60</td>\n",
       "      <td>70</td>\n",
       "      <td>0</td>\n",
       "    </tr>\n",
       "    <tr>\n",
       "      <th>3</th>\n",
       "      <td>조</td>\n",
       "      <td>39</td>\n",
       "      <td>20</td>\n",
       "      <td>97</td>\n",
       "      <td>10</td>\n",
       "      <td>59</td>\n",
       "      <td>60</td>\n",
       "      <td>0</td>\n",
       "    </tr>\n",
       "    <tr>\n",
       "      <th>4</th>\n",
       "      <td>전</td>\n",
       "      <td>84</td>\n",
       "      <td>35</td>\n",
       "      <td>45</td>\n",
       "      <td>10</td>\n",
       "      <td>99</td>\n",
       "      <td>50</td>\n",
       "      <td>0</td>\n",
       "    </tr>\n",
       "    <tr>\n",
       "      <th>5</th>\n",
       "      <td>원더우먼</td>\n",
       "      <td>100</td>\n",
       "      <td>100</td>\n",
       "      <td>100</td>\n",
       "      <td>100</td>\n",
       "      <td>100</td>\n",
       "      <td>100</td>\n",
       "      <td>100</td>\n",
       "    </tr>\n",
       "    <tr>\n",
       "      <th>6</th>\n",
       "      <td>슈퍼맨</td>\n",
       "      <td>슈퍼맨</td>\n",
       "      <td>슈퍼맨</td>\n",
       "      <td>슈퍼맨</td>\n",
       "      <td>슈퍼맨</td>\n",
       "      <td>슈퍼맨</td>\n",
       "      <td>슈퍼맨</td>\n",
       "      <td>슈퍼맨</td>\n",
       "    </tr>\n",
       "  </tbody>\n",
       "</table>\n",
       "</div>"
      ],
      "text/plain": [
       "     이름   국어   수학   사회   과학   체육   영어    7\n",
       "0     김   90   80   30   10   90   90    0\n",
       "1     이   60   30   35   10   70   80    0\n",
       "2     박   40   40   49   10   60   70    0\n",
       "3     조   39   20   97   10   59   60    0\n",
       "4     전   84   35   45   10   99   50    0\n",
       "5  원더우먼  100  100  100  100  100  100  100\n",
       "6   슈퍼맨  슈퍼맨  슈퍼맨  슈퍼맨  슈퍼맨  슈퍼맨  슈퍼맨  슈퍼맨"
      ]
     },
     "execution_count": 59,
     "metadata": {},
     "output_type": "execute_result"
    }
   ],
   "source": [
    "examDF"
   ]
  },
  {
   "cell_type": "code",
   "execution_count": null,
   "id": "aecc293d",
   "metadata": {},
   "outputs": [],
   "source": []
  }
 ],
 "metadata": {
  "kernelspec": {
   "display_name": "Python 3 (ipykernel)",
   "language": "python",
   "name": "python3"
  },
  "language_info": {
   "codemirror_mode": {
    "name": "ipython",
    "version": 3
   },
   "file_extension": ".py",
   "mimetype": "text/x-python",
   "name": "python",
   "nbconvert_exporter": "python",
   "pygments_lexer": "ipython3",
   "version": "3.11.5"
  }
 },
 "nbformat": 4,
 "nbformat_minor": 5
}
