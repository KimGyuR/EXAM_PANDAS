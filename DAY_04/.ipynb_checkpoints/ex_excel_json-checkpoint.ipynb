{
 "cells": [
  {
   "cell_type": "markdown",
   "id": "c5c7055d",
   "metadata": {},
   "source": [
    "## [ Excel => DataFrame 저장 다루기 ]"
   ]
  },
  {
   "cell_type": "markdown",
   "id": "d6587bc0",
   "metadata": {},
   "source": [
    "(1) 모듈 로딩 <hr>"
   ]
  },
  {
   "cell_type": "code",
   "execution_count": 119,
   "id": "97d74725",
   "metadata": {},
   "outputs": [],
   "source": [
    "import pandas as pd"
   ]
  },
  {
   "cell_type": "markdown",
   "id": "df09f126",
   "metadata": {},
   "source": [
    "(2) 데이터 준비"
   ]
  },
  {
   "cell_type": "code",
   "execution_count": 120,
   "id": "754cfe8d",
   "metadata": {},
   "outputs": [],
   "source": [
    "file1='../DATA/Single Worksheet.xlsx'\n",
    "file2='../DATA/Multiple Worksheets.xlsx'"
   ]
  },
  {
   "cell_type": "markdown",
   "id": "9ea21f7c",
   "metadata": {},
   "source": [
    "(3) Excel => DataFrame 저장하기"
   ]
  },
  {
   "cell_type": "code",
   "execution_count": 121,
   "id": "8bfb986a",
   "metadata": {},
   "outputs": [
    {
     "data": {
      "text/html": [
       "<div>\n",
       "<style scoped>\n",
       "    .dataframe tbody tr th:only-of-type {\n",
       "        vertical-align: middle;\n",
       "    }\n",
       "\n",
       "    .dataframe tbody tr th {\n",
       "        vertical-align: top;\n",
       "    }\n",
       "\n",
       "    .dataframe thead th {\n",
       "        text-align: right;\n",
       "    }\n",
       "</style>\n",
       "<table border=\"1\" class=\"dataframe\">\n",
       "  <thead>\n",
       "    <tr style=\"text-align: right;\">\n",
       "      <th></th>\n",
       "      <th>1</th>\n",
       "      <th>3</th>\n",
       "    </tr>\n",
       "  </thead>\n",
       "  <tbody>\n",
       "    <tr>\n",
       "      <th>0</th>\n",
       "      <td>Last Name</td>\n",
       "      <td>Gender</td>\n",
       "    </tr>\n",
       "    <tr>\n",
       "      <th>1</th>\n",
       "      <td>James</td>\n",
       "      <td>M</td>\n",
       "    </tr>\n",
       "    <tr>\n",
       "      <th>2</th>\n",
       "      <td>Hawkins</td>\n",
       "      <td>M</td>\n",
       "    </tr>\n",
       "    <tr>\n",
       "      <th>3</th>\n",
       "      <td>Day</td>\n",
       "      <td>F</td>\n",
       "    </tr>\n",
       "    <tr>\n",
       "      <th>4</th>\n",
       "      <td>Ruiz</td>\n",
       "      <td>F</td>\n",
       "    </tr>\n",
       "    <tr>\n",
       "      <th>5</th>\n",
       "      <td>Gomez</td>\n",
       "      <td>F</td>\n",
       "    </tr>\n",
       "  </tbody>\n",
       "</table>\n",
       "</div>"
      ],
      "text/plain": [
       "           1       3\n",
       "0  Last Name  Gender\n",
       "1      James       M\n",
       "2    Hawkins       M\n",
       "3        Day       F\n",
       "4       Ruiz       F\n",
       "5      Gomez       F"
      ]
     },
     "execution_count": 121,
     "metadata": {},
     "output_type": "execute_result"
    }
   ],
   "source": [
    "pd.read_excel(file1, header=None, usecols=[1,3])"
   ]
  },
  {
   "cell_type": "code",
   "execution_count": 122,
   "id": "fea8aa89",
   "metadata": {},
   "outputs": [
    {
     "data": {
      "text/html": [
       "<div>\n",
       "<style scoped>\n",
       "    .dataframe tbody tr th:only-of-type {\n",
       "        vertical-align: middle;\n",
       "    }\n",
       "\n",
       "    .dataframe tbody tr th {\n",
       "        vertical-align: top;\n",
       "    }\n",
       "\n",
       "    .dataframe thead th {\n",
       "        text-align: right;\n",
       "    }\n",
       "</style>\n",
       "<table border=\"1\" class=\"dataframe\">\n",
       "  <thead>\n",
       "    <tr style=\"text-align: right;\">\n",
       "      <th></th>\n",
       "      <th>First Name</th>\n",
       "      <th>Last Name</th>\n",
       "      <th>City</th>\n",
       "      <th>Gender</th>\n",
       "    </tr>\n",
       "  </thead>\n",
       "  <tbody>\n",
       "    <tr>\n",
       "      <th>0</th>\n",
       "      <td>Brandon</td>\n",
       "      <td>James</td>\n",
       "      <td>Miami</td>\n",
       "      <td>M</td>\n",
       "    </tr>\n",
       "    <tr>\n",
       "      <th>1</th>\n",
       "      <td>Sean</td>\n",
       "      <td>Hawkins</td>\n",
       "      <td>Denver</td>\n",
       "      <td>M</td>\n",
       "    </tr>\n",
       "    <tr>\n",
       "      <th>2</th>\n",
       "      <td>Judy</td>\n",
       "      <td>Day</td>\n",
       "      <td>Los Angeles</td>\n",
       "      <td>F</td>\n",
       "    </tr>\n",
       "    <tr>\n",
       "      <th>3</th>\n",
       "      <td>Ashley</td>\n",
       "      <td>Ruiz</td>\n",
       "      <td>San Francisco</td>\n",
       "      <td>F</td>\n",
       "    </tr>\n",
       "    <tr>\n",
       "      <th>4</th>\n",
       "      <td>Stephanie</td>\n",
       "      <td>Gomez</td>\n",
       "      <td>Portland</td>\n",
       "      <td>F</td>\n",
       "    </tr>\n",
       "  </tbody>\n",
       "</table>\n",
       "</div>"
      ],
      "text/plain": [
       "  First Name Last Name           City Gender\n",
       "0    Brandon     James          Miami      M\n",
       "1       Sean   Hawkins         Denver      M\n",
       "2       Judy       Day    Los Angeles      F\n",
       "3     Ashley      Ruiz  San Francisco      F\n",
       "4  Stephanie     Gomez       Portland      F"
      ]
     },
     "execution_count": 122,
     "metadata": {},
     "output_type": "execute_result"
    }
   ],
   "source": [
    "pd.read_excel(file2)"
   ]
  },
  {
   "cell_type": "code",
   "execution_count": 123,
   "id": "550a28a1",
   "metadata": {},
   "outputs": [
    {
     "data": {
      "text/html": [
       "<div>\n",
       "<style scoped>\n",
       "    .dataframe tbody tr th:only-of-type {\n",
       "        vertical-align: middle;\n",
       "    }\n",
       "\n",
       "    .dataframe tbody tr th {\n",
       "        vertical-align: top;\n",
       "    }\n",
       "\n",
       "    .dataframe thead th {\n",
       "        text-align: right;\n",
       "    }\n",
       "</style>\n",
       "<table border=\"1\" class=\"dataframe\">\n",
       "  <thead>\n",
       "    <tr style=\"text-align: right;\">\n",
       "      <th></th>\n",
       "      <th>First Name</th>\n",
       "      <th>Last Name</th>\n",
       "      <th>City</th>\n",
       "      <th>Gender</th>\n",
       "    </tr>\n",
       "  </thead>\n",
       "  <tbody>\n",
       "    <tr>\n",
       "      <th>0</th>\n",
       "      <td>Robert</td>\n",
       "      <td>Miller</td>\n",
       "      <td>Seattle</td>\n",
       "      <td>M</td>\n",
       "    </tr>\n",
       "    <tr>\n",
       "      <th>1</th>\n",
       "      <td>Tara</td>\n",
       "      <td>Garcia</td>\n",
       "      <td>Phoenix</td>\n",
       "      <td>F</td>\n",
       "    </tr>\n",
       "    <tr>\n",
       "      <th>2</th>\n",
       "      <td>Raphael</td>\n",
       "      <td>Rodriguez</td>\n",
       "      <td>Orlando</td>\n",
       "      <td>M</td>\n",
       "    </tr>\n",
       "  </tbody>\n",
       "</table>\n",
       "</div>"
      ],
      "text/plain": [
       "  First Name  Last Name     City Gender\n",
       "0     Robert     Miller  Seattle      M\n",
       "1       Tara     Garcia  Phoenix      F\n",
       "2    Raphael  Rodriguez  Orlando      M"
      ]
     },
     "execution_count": 123,
     "metadata": {},
     "output_type": "execute_result"
    }
   ],
   "source": [
    "pd.read_excel(file2, sheet_name=2)"
   ]
  },
  {
   "cell_type": "code",
   "execution_count": 124,
   "id": "ba817c22",
   "metadata": {},
   "outputs": [
    {
     "data": {
      "text/html": [
       "<div>\n",
       "<style scoped>\n",
       "    .dataframe tbody tr th:only-of-type {\n",
       "        vertical-align: middle;\n",
       "    }\n",
       "\n",
       "    .dataframe tbody tr th {\n",
       "        vertical-align: top;\n",
       "    }\n",
       "\n",
       "    .dataframe thead th {\n",
       "        text-align: right;\n",
       "    }\n",
       "</style>\n",
       "<table border=\"1\" class=\"dataframe\">\n",
       "  <thead>\n",
       "    <tr style=\"text-align: right;\">\n",
       "      <th></th>\n",
       "      <th>First Name</th>\n",
       "      <th>Last Name</th>\n",
       "      <th>City</th>\n",
       "      <th>Gender</th>\n",
       "    </tr>\n",
       "  </thead>\n",
       "  <tbody>\n",
       "    <tr>\n",
       "      <th>0</th>\n",
       "      <td>Robert</td>\n",
       "      <td>Miller</td>\n",
       "      <td>Seattle</td>\n",
       "      <td>M</td>\n",
       "    </tr>\n",
       "    <tr>\n",
       "      <th>1</th>\n",
       "      <td>Tara</td>\n",
       "      <td>Garcia</td>\n",
       "      <td>Phoenix</td>\n",
       "      <td>F</td>\n",
       "    </tr>\n",
       "    <tr>\n",
       "      <th>2</th>\n",
       "      <td>Raphael</td>\n",
       "      <td>Rodriguez</td>\n",
       "      <td>Orlando</td>\n",
       "      <td>M</td>\n",
       "    </tr>\n",
       "  </tbody>\n",
       "</table>\n",
       "</div>"
      ],
      "text/plain": [
       "  First Name  Last Name     City Gender\n",
       "0     Robert     Miller  Seattle      M\n",
       "1       Tara     Garcia  Phoenix      F\n",
       "2    Raphael  Rodriguez  Orlando      M"
      ]
     },
     "execution_count": 124,
     "metadata": {},
     "output_type": "execute_result"
    }
   ],
   "source": [
    "pd.read_excel(file2, sheet_name='Data 3')"
   ]
  },
  {
   "cell_type": "markdown",
   "id": "b3805d04",
   "metadata": {},
   "source": [
    "## [JSON ==> DataFrame 저장하기]"
   ]
  },
  {
   "cell_type": "markdown",
   "id": "feb01fe0",
   "metadata": {},
   "source": [
    "(1) 데이터 준비"
   ]
  },
  {
   "cell_type": "code",
   "execution_count": 125,
   "id": "6b1bab78",
   "metadata": {},
   "outputs": [],
   "source": [
    "file3='../DATA/nobel.json'"
   ]
  },
  {
   "cell_type": "markdown",
   "id": "a914e87d",
   "metadata": {},
   "source": [
    "(2) JSON ==> DataFrame으로 저장"
   ]
  },
  {
   "cell_type": "code",
   "execution_count": 126,
   "id": "e545f4c3",
   "metadata": {},
   "outputs": [
    {
     "name": "stdout",
     "output_type": "stream",
     "text": [
      "<class 'pandas.core.frame.DataFrame'>\n",
      "RangeIndex: 646 entries, 0 to 645\n",
      "Data columns (total 1 columns):\n",
      " #   Column  Non-Null Count  Dtype \n",
      "---  ------  --------------  ----- \n",
      " 0   prizes  646 non-null    object\n",
      "dtypes: object(1)\n",
      "memory usage: 5.2+ KB\n"
     ]
    }
   ],
   "source": [
    "novelDF = pd.read_json(file3)\n",
    "novelDF.info()"
   ]
  },
  {
   "cell_type": "markdown",
   "id": "6584151e",
   "metadata": {},
   "source": [
    "(3) 데이터 확인"
   ]
  },
  {
   "cell_type": "code",
   "execution_count": 127,
   "id": "6d33b203",
   "metadata": {},
   "outputs": [
    {
     "name": "stdout",
     "output_type": "stream",
     "text": [
      "                                              prizes\n",
      "0  {'year': '2019', 'category': 'chemistry', 'lau...\n",
      "1  {'year': '2019', 'category': 'economics', 'lau...\n",
      "2  {'year': '2019', 'category': 'literature', 'la...\n",
      "\n",
      "                                                prizes\n",
      "644  {'year': '1901', 'category': 'physics', 'laure...\n",
      "645  {'year': '1901', 'category': 'medicine', 'laur...\n"
     ]
    }
   ],
   "source": [
    "print(novelDF.head(3), novelDF.tail(2), sep='\\n\\n')"
   ]
  },
  {
   "cell_type": "markdown",
   "id": "c44c1f4f",
   "metadata": {},
   "source": [
    "(4) 데이터 추출"
   ]
  },
  {
   "cell_type": "code",
   "execution_count": 128,
   "id": "64b0caec",
   "metadata": {},
   "outputs": [
    {
     "data": {
      "text/plain": [
       "(pandas.core.series.Series,\n",
       " prizes    {'year': '2019', 'category': 'chemistry', 'lau...\n",
       " Name: 0, dtype: object)"
      ]
     },
     "execution_count": 128,
     "metadata": {},
     "output_type": "execute_result"
    }
   ],
   "source": [
    "# 행 추출 => iloc[] / loc[]\n",
    "type(novelDF.iloc[0]), novelDF.iloc[0]"
   ]
  },
  {
   "cell_type": "code",
   "execution_count": 129,
   "id": "f18d0b9a",
   "metadata": {},
   "outputs": [
    {
     "data": {
      "text/plain": [
       "dict"
      ]
     },
     "execution_count": 129,
     "metadata": {},
     "output_type": "execute_result"
    }
   ],
   "source": [
    "type(novelDF.iloc[0]['prizes'])"
   ]
  },
  {
   "cell_type": "code",
   "execution_count": 130,
   "id": "11229d5d",
   "metadata": {},
   "outputs": [
    {
     "data": {
      "text/plain": [
       "dict"
      ]
     },
     "execution_count": 130,
     "metadata": {},
     "output_type": "execute_result"
    }
   ],
   "source": [
    "oneData = novelDF.iloc[0]['prizes']\n",
    "type(oneData)"
   ]
  },
  {
   "cell_type": "code",
   "execution_count": 131,
   "id": "59ede999",
   "metadata": {},
   "outputs": [
    {
     "name": "stdout",
     "output_type": "stream",
     "text": [
      "[year]\n",
      "===>2019\n",
      "[category]\n",
      "===>chemistry\n",
      "[laureates]\n",
      "===>[{'id': '976', 'firstname': 'John', 'surname': 'Goodenough', 'motivation': '\"for the development of lithium-ion batteries\"', 'share': '3'}, {'id': '977', 'firstname': 'M. Stanley', 'surname': 'Whittingham', 'motivation': '\"for the development of lithium-ion batteries\"', 'share': '3'}, {'id': '978', 'firstname': 'Akira', 'surname': 'Yoshino', 'motivation': '\"for the development of lithium-ion batteries\"', 'share': '3'}]\n",
      "- id 976\n",
      "- firstname John\n",
      "- surname Goodenough\n",
      "- motivation \"for the development of lithium-ion batteries\"\n",
      "- share 3\n",
      "- id 977\n",
      "- firstname M. Stanley\n",
      "- surname Whittingham\n",
      "- motivation \"for the development of lithium-ion batteries\"\n",
      "- share 3\n",
      "- id 978\n",
      "- firstname Akira\n",
      "- surname Yoshino\n",
      "- motivation \"for the development of lithium-ion batteries\"\n",
      "- share 3\n"
     ]
    }
   ],
   "source": [
    "for k, v in oneData.items():\n",
    "    print(f'[{k}]\\n===>{v}')\n",
    "    if k == 'laureates':\n",
    "        for d in v:\n",
    "            for k1, v1 in d.items():\n",
    "                print(\"-\", k1, v1)"
   ]
  },
  {
   "cell_type": "code",
   "execution_count": 132,
   "id": "1e15c14e",
   "metadata": {},
   "outputs": [
    {
     "data": {
      "text/html": [
       "<div>\n",
       "<style scoped>\n",
       "    .dataframe tbody tr th:only-of-type {\n",
       "        vertical-align: middle;\n",
       "    }\n",
       "\n",
       "    .dataframe tbody tr th {\n",
       "        vertical-align: top;\n",
       "    }\n",
       "\n",
       "    .dataframe thead th {\n",
       "        text-align: right;\n",
       "    }\n",
       "</style>\n",
       "<table border=\"1\" class=\"dataframe\">\n",
       "  <thead>\n",
       "    <tr style=\"text-align: right;\">\n",
       "      <th></th>\n",
       "      <th>prizes</th>\n",
       "    </tr>\n",
       "  </thead>\n",
       "  <tbody>\n",
       "    <tr>\n",
       "      <th>0</th>\n",
       "      <td>{'year': '2019', 'category': 'chemistry', 'lau...</td>\n",
       "    </tr>\n",
       "    <tr>\n",
       "      <th>3</th>\n",
       "      <td>{'year': '2019', 'category': 'peace', 'laureat...</td>\n",
       "    </tr>\n",
       "  </tbody>\n",
       "</table>\n",
       "</div>"
      ],
      "text/plain": [
       "                                              prizes\n",
       "0  {'year': '2019', 'category': 'chemistry', 'lau...\n",
       "3  {'year': '2019', 'category': 'peace', 'laureat..."
      ]
     },
     "execution_count": 132,
     "metadata": {},
     "output_type": "execute_result"
    }
   ],
   "source": [
    "# 행 추출 => iloc[[n1,...,]] / loc[]\n",
    "novelDF.iloc[[0,3]]"
   ]
  },
  {
   "cell_type": "markdown",
   "id": "0e9ee176",
   "metadata": {},
   "source": [
    "- json 중첩 데이터의 다중 반복문 처리 ==> 단일 리스트 형태 처리 : 평탄화 / 정규화"
   ]
  },
  {
   "cell_type": "code",
   "execution_count": 133,
   "id": "9c1fbf51",
   "metadata": {},
   "outputs": [
    {
     "data": {
      "text/html": [
       "<div>\n",
       "<style scoped>\n",
       "    .dataframe tbody tr th:only-of-type {\n",
       "        vertical-align: middle;\n",
       "    }\n",
       "\n",
       "    .dataframe tbody tr th {\n",
       "        vertical-align: top;\n",
       "    }\n",
       "\n",
       "    .dataframe thead th {\n",
       "        text-align: right;\n",
       "    }\n",
       "</style>\n",
       "<table border=\"1\" class=\"dataframe\">\n",
       "  <thead>\n",
       "    <tr style=\"text-align: right;\">\n",
       "      <th></th>\n",
       "      <th>year</th>\n",
       "      <th>category</th>\n",
       "      <th>laureates</th>\n",
       "    </tr>\n",
       "  </thead>\n",
       "  <tbody>\n",
       "    <tr>\n",
       "      <th>0</th>\n",
       "      <td>2019</td>\n",
       "      <td>chemistry</td>\n",
       "      <td>[{'id': '976', 'firstname': 'John', 'surname':...</td>\n",
       "    </tr>\n",
       "  </tbody>\n",
       "</table>\n",
       "</div>"
      ],
      "text/plain": [
       "   year   category                                          laureates\n",
       "0  2019  chemistry  [{'id': '976', 'firstname': 'John', 'surname':..."
      ]
     },
     "execution_count": 133,
     "metadata": {},
     "output_type": "execute_result"
    }
   ],
   "source": [
    "pd.json_normalize(oneData)"
   ]
  },
  {
   "cell_type": "code",
   "execution_count": 134,
   "id": "6ec2d717",
   "metadata": {},
   "outputs": [
    {
     "data": {
      "text/html": [
       "<div>\n",
       "<style scoped>\n",
       "    .dataframe tbody tr th:only-of-type {\n",
       "        vertical-align: middle;\n",
       "    }\n",
       "\n",
       "    .dataframe tbody tr th {\n",
       "        vertical-align: top;\n",
       "    }\n",
       "\n",
       "    .dataframe thead th {\n",
       "        text-align: right;\n",
       "    }\n",
       "</style>\n",
       "<table border=\"1\" class=\"dataframe\">\n",
       "  <thead>\n",
       "    <tr style=\"text-align: right;\">\n",
       "      <th></th>\n",
       "      <th>id</th>\n",
       "      <th>firstname</th>\n",
       "      <th>surname</th>\n",
       "      <th>motivation</th>\n",
       "      <th>share</th>\n",
       "    </tr>\n",
       "  </thead>\n",
       "  <tbody>\n",
       "    <tr>\n",
       "      <th>0</th>\n",
       "      <td>976</td>\n",
       "      <td>John</td>\n",
       "      <td>Goodenough</td>\n",
       "      <td>\"for the development of lithium-ion batteries\"</td>\n",
       "      <td>3</td>\n",
       "    </tr>\n",
       "    <tr>\n",
       "      <th>1</th>\n",
       "      <td>977</td>\n",
       "      <td>M. Stanley</td>\n",
       "      <td>Whittingham</td>\n",
       "      <td>\"for the development of lithium-ion batteries\"</td>\n",
       "      <td>3</td>\n",
       "    </tr>\n",
       "    <tr>\n",
       "      <th>2</th>\n",
       "      <td>978</td>\n",
       "      <td>Akira</td>\n",
       "      <td>Yoshino</td>\n",
       "      <td>\"for the development of lithium-ion batteries\"</td>\n",
       "      <td>3</td>\n",
       "    </tr>\n",
       "  </tbody>\n",
       "</table>\n",
       "</div>"
      ],
      "text/plain": [
       "    id   firstname      surname  \\\n",
       "0  976        John   Goodenough   \n",
       "1  977  M. Stanley  Whittingham   \n",
       "2  978       Akira      Yoshino   \n",
       "\n",
       "                                       motivation share  \n",
       "0  \"for the development of lithium-ion batteries\"     3  \n",
       "1  \"for the development of lithium-ion batteries\"     3  \n",
       "2  \"for the development of lithium-ion batteries\"     3  "
      ]
     },
     "execution_count": 134,
     "metadata": {},
     "output_type": "execute_result"
    }
   ],
   "source": [
    "pd.json_normalize(oneData, record_path='laureates')"
   ]
  },
  {
   "cell_type": "code",
   "execution_count": 135,
   "id": "de6cec0b",
   "metadata": {},
   "outputs": [
    {
     "data": {
      "text/html": [
       "<div>\n",
       "<style scoped>\n",
       "    .dataframe tbody tr th:only-of-type {\n",
       "        vertical-align: middle;\n",
       "    }\n",
       "\n",
       "    .dataframe tbody tr th {\n",
       "        vertical-align: top;\n",
       "    }\n",
       "\n",
       "    .dataframe thead th {\n",
       "        text-align: right;\n",
       "    }\n",
       "</style>\n",
       "<table border=\"1\" class=\"dataframe\">\n",
       "  <thead>\n",
       "    <tr style=\"text-align: right;\">\n",
       "      <th></th>\n",
       "      <th>id</th>\n",
       "      <th>firstname</th>\n",
       "      <th>surname</th>\n",
       "      <th>motivation</th>\n",
       "      <th>share</th>\n",
       "      <th>year</th>\n",
       "      <th>category</th>\n",
       "    </tr>\n",
       "  </thead>\n",
       "  <tbody>\n",
       "    <tr>\n",
       "      <th>0</th>\n",
       "      <td>976</td>\n",
       "      <td>John</td>\n",
       "      <td>Goodenough</td>\n",
       "      <td>\"for the development of lithium-ion batteries\"</td>\n",
       "      <td>3</td>\n",
       "      <td>2019</td>\n",
       "      <td>chemistry</td>\n",
       "    </tr>\n",
       "    <tr>\n",
       "      <th>1</th>\n",
       "      <td>977</td>\n",
       "      <td>M. Stanley</td>\n",
       "      <td>Whittingham</td>\n",
       "      <td>\"for the development of lithium-ion batteries\"</td>\n",
       "      <td>3</td>\n",
       "      <td>2019</td>\n",
       "      <td>chemistry</td>\n",
       "    </tr>\n",
       "    <tr>\n",
       "      <th>2</th>\n",
       "      <td>978</td>\n",
       "      <td>Akira</td>\n",
       "      <td>Yoshino</td>\n",
       "      <td>\"for the development of lithium-ion batteries\"</td>\n",
       "      <td>3</td>\n",
       "      <td>2019</td>\n",
       "      <td>chemistry</td>\n",
       "    </tr>\n",
       "  </tbody>\n",
       "</table>\n",
       "</div>"
      ],
      "text/plain": [
       "    id   firstname      surname  \\\n",
       "0  976        John   Goodenough   \n",
       "1  977  M. Stanley  Whittingham   \n",
       "2  978       Akira      Yoshino   \n",
       "\n",
       "                                       motivation share  year   category  \n",
       "0  \"for the development of lithium-ion batteries\"     3  2019  chemistry  \n",
       "1  \"for the development of lithium-ion batteries\"     3  2019  chemistry  \n",
       "2  \"for the development of lithium-ion batteries\"     3  2019  chemistry  "
      ]
     },
     "execution_count": 135,
     "metadata": {},
     "output_type": "execute_result"
    }
   ],
   "source": [
    "pd.json_normalize(oneData, record_path='laureates', meta=['year','category'])"
   ]
  },
  {
   "cell_type": "markdown",
   "id": "bdeeafab",
   "metadata": {},
   "source": [
    "- 모든 행에 대한 정규화/평탄화 진행"
   ]
  },
  {
   "cell_type": "code",
   "execution_count": 136,
   "id": "b5515e51",
   "metadata": {},
   "outputs": [],
   "source": [
    "# 컬럼 읽기 => DF객체변수명['컬럼명'], DF객체변수명컬럼명\n",
    "# ===> 모든 행에 record_path에 해당하는 키(key)가 존재해야 함!!\n",
    "# ===> 없는 행에 record_path에 해당하는 키 추가\n",
    "for data in novelDF.prizes:\n",
    "    #print(type(data), data.keys(), end='\\n\\n')\n",
    "    # 해당 dict에 laureates 키가 없다면 추가\n",
    "    data.setdefault('laureates', [])"
   ]
  },
  {
   "cell_type": "code",
   "execution_count": 137,
   "id": "b47b58a4",
   "metadata": {},
   "outputs": [
    {
     "name": "stdout",
     "output_type": "stream",
     "text": [
      "<class 'pandas.core.frame.DataFrame'>\n",
      "RangeIndex: 950 entries, 0 to 949\n",
      "Data columns (total 7 columns):\n",
      " #   Column      Non-Null Count  Dtype \n",
      "---  ------      --------------  ----- \n",
      " 0   id          950 non-null    object\n",
      " 1   firstname   950 non-null    object\n",
      " 2   surname     921 non-null    object\n",
      " 3   motivation  950 non-null    object\n",
      " 4   share       950 non-null    object\n",
      " 5   year        950 non-null    object\n",
      " 6   category    950 non-null    object\n",
      "dtypes: object(7)\n",
      "memory usage: 52.1+ KB\n"
     ]
    }
   ],
   "source": [
    "novelDF2 = pd.json_normalize(novelDF.prizes, record_path='laureates', meta=['year', 'category'])\n",
    "novelDF2.info()"
   ]
  },
  {
   "cell_type": "markdown",
   "id": "df0b7899",
   "metadata": {},
   "source": [
    "- (7) JSON의 다양한 방식의 DataFrame 저장하기 => orient 파라미터 "
   ]
  },
  {
   "cell_type": "code",
   "execution_count": 138,
   "id": "8ad31749",
   "metadata": {},
   "outputs": [],
   "source": [
    "json_data = '''\n",
    "[\n",
    "    {\"id\":\"1\",\"name\": \"sravan\",\"age\":22},\n",
    "    {\"id\":\"2\",\"name\": \"harsha\",\"age\":22},\n",
    "    {\"id\":\"3\",\"name\": \"deepika\",\"age\":21},\n",
    "    {\"id\":\"4\",\"name\": \"jyothika\",\"age\":23}\n",
    "]\n",
    "'''"
   ]
  },
  {
   "cell_type": "markdown",
   "id": "2c0c86bf",
   "metadata": {},
   "source": [
    "- orient = 'record' 설정 =>  JSON 파일 데이터를 행단위로 읽어서 DataFrame에 저장"
   ]
  },
  {
   "cell_type": "code",
   "execution_count": 139,
   "id": "12fab9f1",
   "metadata": {},
   "outputs": [
    {
     "name": "stdout",
     "output_type": "stream",
     "text": [
      "   id      name  age\n",
      "0   1    sravan   22\n",
      "1   2    harsha   22\n",
      "2   3   deepika   21\n",
      "3   4  jyothika   23\n"
     ]
    }
   ],
   "source": [
    "df = pd.read_json(json_data) #, orient='records')\n",
    "print(df)"
   ]
  },
  {
   "cell_type": "code",
   "execution_count": 150,
   "id": "5f98d5db",
   "metadata": {},
   "outputs": [],
   "source": [
    "# 데이터 => 키 : {값}    키는 컬럼명으로 \n",
    "json_data2 = '''\n",
    "{\n",
    "    \"student-1\": { \"id\": \"1\", \"name\": \"sravan\",\"age\":22 },\n",
    "    \"student-2\": { \"id\": \"2\", \"name\": \"harsha\",\"age\":22 },\n",
    "    \"student-3\": { \"id\": \"3\", \"name\": \"deepika\",\"age\":21 },\n",
    "    \"student-4\": { \"id\": \"4\", \"name\": \"jyothika\",\"age\":23 }\n",
    "} '''"
   ]
  },
  {
   "cell_type": "code",
   "execution_count": 151,
   "id": "105a08b0",
   "metadata": {},
   "outputs": [
    {
     "name": "stdout",
     "output_type": "stream",
     "text": [
      "           id      name  age\n",
      "student-1   1    sravan   22\n",
      "student-2   2    harsha   22\n",
      "student-3   3   deepika   21\n",
      "student-4   4  jyothika   23\n"
     ]
    }
   ],
   "source": [
    "# 키 => 인덱스로 설정\n",
    "df = pd.read_json(json_data2, orient = 'index')\n",
    "print(df)"
   ]
  },
  {
   "cell_type": "code",
   "execution_count": 156,
   "id": "3293a11e",
   "metadata": {},
   "outputs": [
    {
     "name": "stdout",
     "output_type": "stream",
     "text": [
      "          id      name age\n",
      "student-1  1    sravan  22\n",
      "student-2  2    harsha  22\n",
      "student-3  3   deepika  21\n",
      "student-4  4  jyothika  23\n"
     ]
    }
   ],
   "source": [
    "# 키 => 컬럼\n",
    "df = pd.read_json(json_data2).T # orient='columns')\n",
    "print(df)"
   ]
  },
  {
   "cell_type": "code",
   "execution_count": 162,
   "id": "407d1069",
   "metadata": {},
   "outputs": [],
   "source": [
    "json_data3 = '''\n",
    "[\n",
    "    [ \"1\", \"sravan\",22 ],\n",
    "    [ \"2\", \"harsha\",22 ],\n",
    "    [ \"3\", \"deepika\",21 ],\n",
    "    [ \"4\", \"jyothika\",23 ]\n",
    "]\n",
    "'''"
   ]
  },
  {
   "cell_type": "code",
   "execution_count": 164,
   "id": "94fdadcc",
   "metadata": {},
   "outputs": [
    {
     "name": "stdout",
     "output_type": "stream",
     "text": [
      "   0         1   2\n",
      "0  1    sravan  22\n",
      "1  2    harsha  22\n",
      "2  3   deepika  21\n",
      "3  4  jyothika  23\n"
     ]
    }
   ],
   "source": [
    "df = pd.read_json(json_data3, orient = 'values')\n",
    "print(df)"
   ]
  },
  {
   "cell_type": "code",
   "execution_count": 171,
   "id": "8d61c28d",
   "metadata": {},
   "outputs": [],
   "source": []
  }
 ],
 "metadata": {
  "kernelspec": {
   "display_name": "Python 3 (ipykernel)",
   "language": "python",
   "name": "python3"
  },
  "language_info": {
   "codemirror_mode": {
    "name": "ipython",
    "version": 3
   },
   "file_extension": ".py",
   "mimetype": "text/x-python",
   "name": "python",
   "nbconvert_exporter": "python",
   "pygments_lexer": "ipython3",
   "version": "3.11.5"
  }
 },
 "nbformat": 4,
 "nbformat_minor": 5
}
