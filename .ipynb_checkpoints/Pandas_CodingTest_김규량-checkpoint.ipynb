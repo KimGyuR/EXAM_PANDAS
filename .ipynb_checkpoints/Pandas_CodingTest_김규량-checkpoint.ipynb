{
 "cells": [
  {
   "cell_type": "code",
   "execution_count": 71,
   "id": "40b2e2e4",
   "metadata": {},
   "outputs": [],
   "source": [
    "import pandas as pd\n",
    "import numpy as np"
   ]
  },
  {
   "cell_type": "markdown",
   "id": "4ea0c66e-e763-4b1e-8a51-f783d73be47f",
   "metadata": {},
   "source": [
    "[문1] 아래 조건을 만족하는 Series를 생성하세요.\n",
    "1) 데이터 : 1~50 범위에서 7의 배수 정수\n",
    "2) 인덱스 : 'a~z' 범위에서 데이터 갯수 만큼의 알파벳\n",
    "3) 타  입 : 부호가 없는 1바이트 정수\n",
    "4) 이  름 : sevens\n",
    "5) 속  성 : index, values, dtype, ndim, shape, size"
   ]
  },
  {
   "cell_type": "code",
   "execution_count": 160,
   "id": "ed3d967d-dcdb-430c-8cbc-2b29b34c5410",
   "metadata": {},
   "outputs": [
    {
     "name": "stdout",
     "output_type": "stream",
     "text": [
      "Index(['a', 'b', 'c', 'd', 'e', 'f', 'g'], dtype='object')\n",
      "\n",
      "[ 7 14 21 28 35 42 49]\n",
      "\n",
      "int64\n",
      "\n",
      "1\n",
      "\n",
      "(7,)\n",
      "\n",
      "7\n"
     ]
    }
   ],
   "source": [
    "seven = {'a':7, 'b':14, 'c':21, 'd':28, 'e':35, 'f':42, 'g':49}\n",
    "sevens =pd.Series(seven)\n",
    "print(sevens.index, sevens.values, sevens.dtype, \n",
    "      sevens.ndim, sevens.shape, sevens.size, sep='\\n\\n')"
   ]
  },
  {
   "cell_type": "markdown",
   "id": "6e816108-d335-45c5-bbc0-3ceeed3c7f60",
   "metadata": {},
   "source": [
    "[문2] 아래 조건을 만족하는 데이터 객체를 생성하세요.\n",
    "1) 데이터 : knu_data.csv\n",
    "2) 인덱스 : 컬럼 중 하나를 인덱스로 설정\n",
    "3) 속성 정보 출력 \n",
    "4) 데이터 확인 정보 출력\n",
    "5) 타입과 실제 데이터 타입 일치 "
   ]
  },
  {
   "cell_type": "code",
   "execution_count": 73,
   "id": "3ae58fb0-6a09-40c6-860d-c846ae2fdad5",
   "metadata": {},
   "outputs": [],
   "source": [
    "file='../EXAM_PANDAS/DATA/knu_data.csv'"
   ]
  },
  {
   "cell_type": "code",
   "execution_count": 74,
   "id": "1d2103be",
   "metadata": {},
   "outputs": [],
   "source": [
    "knuDF = pd.read_csv(file)"
   ]
  },
  {
   "cell_type": "code",
   "execution_count": 75,
   "id": "dfea4991",
   "metadata": {},
   "outputs": [
    {
     "data": {
      "text/html": [
       "<div>\n",
       "<style scoped>\n",
       "    .dataframe tbody tr th:only-of-type {\n",
       "        vertical-align: middle;\n",
       "    }\n",
       "\n",
       "    .dataframe tbody tr th {\n",
       "        vertical-align: top;\n",
       "    }\n",
       "\n",
       "    .dataframe thead th {\n",
       "        text-align: right;\n",
       "    }\n",
       "</style>\n",
       "<table border=\"1\" class=\"dataframe\">\n",
       "  <thead>\n",
       "    <tr style=\"text-align: right;\">\n",
       "      <th></th>\n",
       "      <th>mem_id</th>\n",
       "      <th>team</th>\n",
       "      <th>time</th>\n",
       "    </tr>\n",
       "  </thead>\n",
       "  <tbody>\n",
       "    <tr>\n",
       "      <th>0</th>\n",
       "      <td>knu_21</td>\n",
       "      <td>경영지원팀</td>\n",
       "      <td>20231102200000</td>\n",
       "    </tr>\n",
       "    <tr>\n",
       "      <th>1</th>\n",
       "      <td>knu_03</td>\n",
       "      <td>대외협력팀</td>\n",
       "      <td>20231117200000</td>\n",
       "    </tr>\n",
       "    <tr>\n",
       "      <th>2</th>\n",
       "      <td>knu_01</td>\n",
       "      <td>대외협력팀</td>\n",
       "      <td>20231109200000</td>\n",
       "    </tr>\n",
       "    <tr>\n",
       "      <th>3</th>\n",
       "      <td>knu_09</td>\n",
       "      <td>경영지원팀</td>\n",
       "      <td>20221122200000</td>\n",
       "    </tr>\n",
       "    <tr>\n",
       "      <th>4</th>\n",
       "      <td>knu_01</td>\n",
       "      <td>경영지원팀</td>\n",
       "      <td>20221111200000</td>\n",
       "    </tr>\n",
       "  </tbody>\n",
       "</table>\n",
       "</div>"
      ],
      "text/plain": [
       "   mem_id    team            time\n",
       "0  knu_21   경영지원팀  20231102200000\n",
       "1  knu_03   대외협력팀  20231117200000\n",
       "2  knu_01   대외협력팀  20231109200000\n",
       "3  knu_09   경영지원팀  20221122200000\n",
       "4  knu_01   경영지원팀  20221111200000"
      ]
     },
     "execution_count": 75,
     "metadata": {},
     "output_type": "execute_result"
    }
   ],
   "source": [
    "knuDF"
   ]
  },
  {
   "cell_type": "code",
   "execution_count": 76,
   "id": "71f9ee6d",
   "metadata": {},
   "outputs": [
    {
     "data": {
      "text/plain": [
       "(RangeIndex(start=0, stop=5, step=1),\n",
       " Index(['mem_id', 'team', 'time'], dtype='object'))"
      ]
     },
     "execution_count": 76,
     "metadata": {},
     "output_type": "execute_result"
    }
   ],
   "source": [
    "knuDF.index, knuDF.columns"
   ]
  },
  {
   "cell_type": "code",
   "execution_count": 77,
   "id": "b1ab334a",
   "metadata": {},
   "outputs": [
    {
     "name": "stdout",
     "output_type": "stream",
     "text": [
      "<class 'pandas.core.frame.DataFrame'>\n",
      "RangeIndex: 5 entries, 0 to 4\n",
      "Data columns (total 3 columns):\n",
      " #   Column  Non-Null Count  Dtype \n",
      "---  ------  --------------  ----- \n",
      " 0   mem_id  5 non-null      object\n",
      " 1   team    5 non-null      object\n",
      " 2   time    5 non-null      int64 \n",
      "dtypes: int64(1), object(2)\n",
      "memory usage: 252.0+ bytes\n"
     ]
    }
   ],
   "source": [
    "knuDF.info()"
   ]
  },
  {
   "cell_type": "code",
   "execution_count": null,
   "id": "8d08a762",
   "metadata": {},
   "outputs": [],
   "source": []
  },
  {
   "cell_type": "code",
   "execution_count": null,
   "id": "233e70dd",
   "metadata": {},
   "outputs": [],
   "source": []
  },
  {
   "cell_type": "markdown",
   "id": "ed5b8afb-0d0e-4337-82a5-b74c857a5f67",
   "metadata": {},
   "source": [
    "[문3] 아래 조건을 만족하는 데이터 객체를 생성하세요.\n",
    "1) 데이터 : stats_100701.xlsx\n",
    "2) 년도별 인구가 가장 많은 지역과 가장 적은 지역 \n",
    "3) 6대 광역시에서 년도별 인구가 가장 많은 지역과 가장 적은 지역 \n",
    "4) 8도 중 7도에서 년도별 인구가 가장 많은 지역과 가장 적은 지역 "
   ]
  },
  {
   "cell_type": "code",
   "execution_count": 78,
   "id": "07f3b5e3-f715-4766-95b1-3bd99a341bfb",
   "metadata": {},
   "outputs": [],
   "source": [
    "file='../EXAM_PANDAS/DATA/stats_100701.xlsx'"
   ]
  },
  {
   "cell_type": "code",
   "execution_count": 79,
   "id": "70f87bd2-182d-4a9f-b184-db7e1905cf55",
   "metadata": {},
   "outputs": [],
   "source": [
    "statsDF = pd.read_excel(file)"
   ]
  },
  {
   "cell_type": "code",
   "execution_count": 80,
   "id": "7e587fd4",
   "metadata": {},
   "outputs": [
    {
     "data": {
      "text/html": [
       "<div>\n",
       "<style scoped>\n",
       "    .dataframe tbody tr th:only-of-type {\n",
       "        vertical-align: middle;\n",
       "    }\n",
       "\n",
       "    .dataframe tbody tr th {\n",
       "        vertical-align: top;\n",
       "    }\n",
       "\n",
       "    .dataframe thead th {\n",
       "        text-align: right;\n",
       "    }\n",
       "</style>\n",
       "<table border=\"1\" class=\"dataframe\">\n",
       "  <thead>\n",
       "    <tr style=\"text-align: right;\">\n",
       "      <th></th>\n",
       "      <th>지역별 인구  [단위 : 천명, 명/㎢]</th>\n",
       "      <th>Unnamed: 1</th>\n",
       "      <th>Unnamed: 2</th>\n",
       "      <th>Unnamed: 3</th>\n",
       "      <th>Unnamed: 4</th>\n",
       "    </tr>\n",
       "  </thead>\n",
       "  <tbody>\n",
       "    <tr>\n",
       "      <th>0</th>\n",
       "      <td>NaN</td>\n",
       "      <td>2015</td>\n",
       "      <td>2016</td>\n",
       "      <td>2017</td>\n",
       "      <td>2018</td>\n",
       "    </tr>\n",
       "    <tr>\n",
       "      <th>1</th>\n",
       "      <td>계</td>\n",
       "      <td>51015</td>\n",
       "      <td>51218</td>\n",
       "      <td>51362</td>\n",
       "      <td>51607</td>\n",
       "    </tr>\n",
       "    <tr>\n",
       "      <th>2</th>\n",
       "      <td>서울</td>\n",
       "      <td>9941</td>\n",
       "      <td>9843</td>\n",
       "      <td>9766</td>\n",
       "      <td>9705</td>\n",
       "    </tr>\n",
       "    <tr>\n",
       "      <th>3</th>\n",
       "      <td>부산</td>\n",
       "      <td>3452</td>\n",
       "      <td>3447</td>\n",
       "      <td>3424</td>\n",
       "      <td>3400</td>\n",
       "    </tr>\n",
       "    <tr>\n",
       "      <th>4</th>\n",
       "      <td>대구</td>\n",
       "      <td>2469</td>\n",
       "      <td>2461</td>\n",
       "      <td>2458</td>\n",
       "      <td>2450</td>\n",
       "    </tr>\n",
       "    <tr>\n",
       "      <th>5</th>\n",
       "      <td>인천</td>\n",
       "      <td>2883</td>\n",
       "      <td>2907</td>\n",
       "      <td>2924</td>\n",
       "      <td>2939</td>\n",
       "    </tr>\n",
       "    <tr>\n",
       "      <th>6</th>\n",
       "      <td>광주</td>\n",
       "      <td>1506</td>\n",
       "      <td>1502</td>\n",
       "      <td>1495</td>\n",
       "      <td>1493</td>\n",
       "    </tr>\n",
       "    <tr>\n",
       "      <th>7</th>\n",
       "      <td>대전</td>\n",
       "      <td>1542</td>\n",
       "      <td>1536</td>\n",
       "      <td>1528</td>\n",
       "      <td>1518</td>\n",
       "    </tr>\n",
       "    <tr>\n",
       "      <th>8</th>\n",
       "      <td>울산</td>\n",
       "      <td>1164</td>\n",
       "      <td>1166</td>\n",
       "      <td>1159</td>\n",
       "      <td>1154</td>\n",
       "    </tr>\n",
       "    <tr>\n",
       "      <th>9</th>\n",
       "      <td>세종</td>\n",
       "      <td>187</td>\n",
       "      <td>234</td>\n",
       "      <td>266</td>\n",
       "      <td>304</td>\n",
       "    </tr>\n",
       "    <tr>\n",
       "      <th>10</th>\n",
       "      <td>경기</td>\n",
       "      <td>12423</td>\n",
       "      <td>12600</td>\n",
       "      <td>12786</td>\n",
       "      <td>13031</td>\n",
       "    </tr>\n",
       "    <tr>\n",
       "      <th>11</th>\n",
       "      <td>강원</td>\n",
       "      <td>1517</td>\n",
       "      <td>1521</td>\n",
       "      <td>1521</td>\n",
       "      <td>1521</td>\n",
       "    </tr>\n",
       "    <tr>\n",
       "      <th>12</th>\n",
       "      <td>충북</td>\n",
       "      <td>1589</td>\n",
       "      <td>1601</td>\n",
       "      <td>1609</td>\n",
       "      <td>1619</td>\n",
       "    </tr>\n",
       "    <tr>\n",
       "      <th>13</th>\n",
       "      <td>충남</td>\n",
       "      <td>2103</td>\n",
       "      <td>2126</td>\n",
       "      <td>2153</td>\n",
       "      <td>2180</td>\n",
       "    </tr>\n",
       "    <tr>\n",
       "      <th>14</th>\n",
       "      <td>전북</td>\n",
       "      <td>1835</td>\n",
       "      <td>1835</td>\n",
       "      <td>1829</td>\n",
       "      <td>1820</td>\n",
       "    </tr>\n",
       "    <tr>\n",
       "      <th>15</th>\n",
       "      <td>전남</td>\n",
       "      <td>1797</td>\n",
       "      <td>1798</td>\n",
       "      <td>1795</td>\n",
       "      <td>1790</td>\n",
       "    </tr>\n",
       "    <tr>\n",
       "      <th>16</th>\n",
       "      <td>경북</td>\n",
       "      <td>2678</td>\n",
       "      <td>2683</td>\n",
       "      <td>2675</td>\n",
       "      <td>2674</td>\n",
       "    </tr>\n",
       "    <tr>\n",
       "      <th>17</th>\n",
       "      <td>경남</td>\n",
       "      <td>3330</td>\n",
       "      <td>3338</td>\n",
       "      <td>3339</td>\n",
       "      <td>3356</td>\n",
       "    </tr>\n",
       "    <tr>\n",
       "      <th>18</th>\n",
       "      <td>제주</td>\n",
       "      <td>599</td>\n",
       "      <td>618</td>\n",
       "      <td>635</td>\n",
       "      <td>653</td>\n",
       "    </tr>\n",
       "    <tr>\n",
       "      <th>19</th>\n",
       "      <td>수도권</td>\n",
       "      <td>25247</td>\n",
       "      <td>25350</td>\n",
       "      <td>25476</td>\n",
       "      <td>25675</td>\n",
       "    </tr>\n",
       "  </tbody>\n",
       "</table>\n",
       "</div>"
      ],
      "text/plain": [
       "   지역별 인구  [단위 : 천명, 명/㎢]  Unnamed: 1  Unnamed: 2  Unnamed: 3  Unnamed: 4\n",
       "0                     NaN        2015        2016        2017        2018\n",
       "1                       계       51015       51218       51362       51607\n",
       "2                      서울        9941        9843        9766        9705\n",
       "3                      부산        3452        3447        3424        3400\n",
       "4                      대구        2469        2461        2458        2450\n",
       "5                      인천        2883        2907        2924        2939\n",
       "6                      광주        1506        1502        1495        1493\n",
       "7                      대전        1542        1536        1528        1518\n",
       "8                      울산        1164        1166        1159        1154\n",
       "9                      세종         187         234         266         304\n",
       "10                     경기       12423       12600       12786       13031\n",
       "11                     강원        1517        1521        1521        1521\n",
       "12                     충북        1589        1601        1609        1619\n",
       "13                     충남        2103        2126        2153        2180\n",
       "14                     전북        1835        1835        1829        1820\n",
       "15                     전남        1797        1798        1795        1790\n",
       "16                     경북        2678        2683        2675        2674\n",
       "17                     경남        3330        3338        3339        3356\n",
       "18                     제주         599         618         635         653\n",
       "19                    수도권       25247       25350       25476       25675"
      ]
     },
     "execution_count": 80,
     "metadata": {},
     "output_type": "execute_result"
    }
   ],
   "source": [
    "statsDF"
   ]
  },
  {
   "cell_type": "code",
   "execution_count": null,
   "id": "780c4074",
   "metadata": {},
   "outputs": [],
   "source": []
  },
  {
   "cell_type": "markdown",
   "id": "6f694094-19ef-4c06-a0d2-2a547a29be4e",
   "metadata": {},
   "source": [
    "[문4] 아래 조건을 만족하는 데이터 객체를 생성하세요.\n",
    "1) 데이터 : stock price.xlsx\n",
    "2) 데이터 로딩 시 인덱스로 사용할 수 있는 컬럼 설정\n",
    "3) 결측치 처리 =>\n",
    "   (가) 1개라도 NaN이면 모두 제거 / price가 NaN이면 제거 / value가 10000이하면 제거\n",
    "   (나) 평균값으로 결측치 대체, 이전/이후 값으로 결측치 대체\n",
    "4) value가 1000이하 이거나 price가 90000이상인 데이터"
   ]
  },
  {
   "cell_type": "code",
   "execution_count": 81,
   "id": "fa648dd9-a90d-48cb-9080-ea3b1d3d539b",
   "metadata": {},
   "outputs": [],
   "source": [
    "file = '../EXAM_PANDAS/DATA/stock price.xlsx'"
   ]
  },
  {
   "cell_type": "code",
   "execution_count": 82,
   "id": "a91524eb-e063-4fc2-9bb7-c39443d9ecdd",
   "metadata": {},
   "outputs": [],
   "source": [
    "stockDF = pd.read_excel(file)"
   ]
  },
  {
   "cell_type": "code",
   "execution_count": 83,
   "id": "dd69ae0e-a269-4457-8fc0-af8d0be3b4f5",
   "metadata": {},
   "outputs": [
    {
     "data": {
      "text/html": [
       "<div>\n",
       "<style scoped>\n",
       "    .dataframe tbody tr th:only-of-type {\n",
       "        vertical-align: middle;\n",
       "    }\n",
       "\n",
       "    .dataframe tbody tr th {\n",
       "        vertical-align: top;\n",
       "    }\n",
       "\n",
       "    .dataframe thead th {\n",
       "        text-align: right;\n",
       "    }\n",
       "</style>\n",
       "<table border=\"1\" class=\"dataframe\">\n",
       "  <thead>\n",
       "    <tr style=\"text-align: right;\">\n",
       "      <th></th>\n",
       "      <th>id</th>\n",
       "      <th>stock_name</th>\n",
       "      <th>value</th>\n",
       "      <th>price</th>\n",
       "    </tr>\n",
       "  </thead>\n",
       "  <tbody>\n",
       "    <tr>\n",
       "      <th>0</th>\n",
       "      <td>128940</td>\n",
       "      <td>한미약품</td>\n",
       "      <td>59385.666667</td>\n",
       "      <td>421000.0</td>\n",
       "    </tr>\n",
       "    <tr>\n",
       "      <th>1</th>\n",
       "      <td>138040</td>\n",
       "      <td>메리츠금융지주</td>\n",
       "      <td>827.500000</td>\n",
       "      <td>NaN</td>\n",
       "    </tr>\n",
       "    <tr>\n",
       "      <th>2</th>\n",
       "      <td>130960</td>\n",
       "      <td>CJ E&amp;M</td>\n",
       "      <td>58540.666667</td>\n",
       "      <td>98900.0</td>\n",
       "    </tr>\n",
       "    <tr>\n",
       "      <th>3</th>\n",
       "      <td>138250</td>\n",
       "      <td>엔에스쇼핑</td>\n",
       "      <td>14558.666667</td>\n",
       "      <td>13200.0</td>\n",
       "    </tr>\n",
       "    <tr>\n",
       "      <th>4</th>\n",
       "      <td>139480</td>\n",
       "      <td>이마트</td>\n",
       "      <td>239230.833333</td>\n",
       "      <td>254500.0</td>\n",
       "    </tr>\n",
       "    <tr>\n",
       "      <th>5</th>\n",
       "      <td>142280</td>\n",
       "      <td>녹십자엠에스</td>\n",
       "      <td>468.833333</td>\n",
       "      <td>10200.0</td>\n",
       "    </tr>\n",
       "    <tr>\n",
       "      <th>6</th>\n",
       "      <td>145990</td>\n",
       "      <td>삼양사</td>\n",
       "      <td>82750.000000</td>\n",
       "      <td>82000.0</td>\n",
       "    </tr>\n",
       "    <tr>\n",
       "      <th>7</th>\n",
       "      <td>181710</td>\n",
       "      <td>NHN엔터테인먼트</td>\n",
       "      <td>NaN</td>\n",
       "      <td>NaN</td>\n",
       "    </tr>\n",
       "    <tr>\n",
       "      <th>8</th>\n",
       "      <td>185750</td>\n",
       "      <td>종근당</td>\n",
       "      <td>40293.666667</td>\n",
       "      <td>100500.0</td>\n",
       "    </tr>\n",
       "    <tr>\n",
       "      <th>9</th>\n",
       "      <td>192400</td>\n",
       "      <td>쿠쿠홀딩스</td>\n",
       "      <td>179204.666667</td>\n",
       "      <td>177500.0</td>\n",
       "    </tr>\n",
       "    <tr>\n",
       "      <th>10</th>\n",
       "      <td>199800</td>\n",
       "      <td>툴젠</td>\n",
       "      <td>-2514.333333</td>\n",
       "      <td>115400.0</td>\n",
       "    </tr>\n",
       "    <tr>\n",
       "      <th>11</th>\n",
       "      <td>204210</td>\n",
       "      <td>모두투어리츠</td>\n",
       "      <td>3093.333333</td>\n",
       "      <td>3475.0</td>\n",
       "    </tr>\n",
       "    <tr>\n",
       "      <th>12</th>\n",
       "      <td>207940</td>\n",
       "      <td>삼성바이오로직스</td>\n",
       "      <td>NaN</td>\n",
       "      <td>91900.0</td>\n",
       "    </tr>\n",
       "  </tbody>\n",
       "</table>\n",
       "</div>"
      ],
      "text/plain": [
       "        id stock_name          value     price\n",
       "0   128940       한미약품   59385.666667  421000.0\n",
       "1   138040    메리츠금융지주     827.500000       NaN\n",
       "2   130960     CJ E&M   58540.666667   98900.0\n",
       "3   138250      엔에스쇼핑   14558.666667   13200.0\n",
       "4   139480        이마트  239230.833333  254500.0\n",
       "5   142280     녹십자엠에스     468.833333   10200.0\n",
       "6   145990        삼양사   82750.000000   82000.0\n",
       "7   181710  NHN엔터테인먼트            NaN       NaN\n",
       "8   185750        종근당   40293.666667  100500.0\n",
       "9   192400      쿠쿠홀딩스  179204.666667  177500.0\n",
       "10  199800         툴젠   -2514.333333  115400.0\n",
       "11  204210     모두투어리츠    3093.333333    3475.0\n",
       "12  207940   삼성바이오로직스            NaN   91900.0"
      ]
     },
     "execution_count": 83,
     "metadata": {},
     "output_type": "execute_result"
    }
   ],
   "source": [
    "stockDF"
   ]
  },
  {
   "cell_type": "code",
   "execution_count": null,
   "id": "e586b465",
   "metadata": {},
   "outputs": [],
   "source": []
  },
  {
   "cell_type": "code",
   "execution_count": 151,
   "id": "ff96a88d",
   "metadata": {},
   "outputs": [
    {
     "ename": "ValueError",
     "evalue": "The truth value of a Series is ambiguous. Use a.empty, a.bool(), a.item(), a.any() or a.all().",
     "output_type": "error",
     "traceback": [
      "\u001b[1;31m---------------------------------------------------------------------------\u001b[0m",
      "\u001b[1;31mValueError\u001b[0m                                Traceback (most recent call last)",
      "Cell \u001b[1;32mIn[151], line 1\u001b[0m\n\u001b[1;32m----> 1\u001b[0m \u001b[38;5;28;01mif\u001b[39;00m stockDF[\u001b[38;5;124m'\u001b[39m\u001b[38;5;124mprice\u001b[39m\u001b[38;5;124m'\u001b[39m] \u001b[38;5;241m==\u001b[39m np\u001b[38;5;241m.\u001b[39mnan:\n\u001b[0;32m      2\u001b[0m     \u001b[38;5;28mprint\u001b[39m(stockDF)\n\u001b[0;32m      3\u001b[0m \u001b[38;5;28;01melif\u001b[39;00m stockDF[\u001b[38;5;124m'\u001b[39m\u001b[38;5;124mprice\u001b[39m\u001b[38;5;124m'\u001b[39m] \u001b[38;5;241m==\u001b[39m np\u001b[38;5;241m.\u001b[39mnan:\n",
      "File \u001b[1;32mC:\\ProgramData\\anaconda3\\Lib\\site-packages\\pandas\\core\\generic.py:1466\u001b[0m, in \u001b[0;36mNDFrame.__nonzero__\u001b[1;34m(self)\u001b[0m\n\u001b[0;32m   1464\u001b[0m \u001b[38;5;129m@final\u001b[39m\n\u001b[0;32m   1465\u001b[0m \u001b[38;5;28;01mdef\u001b[39;00m \u001b[38;5;21m__nonzero__\u001b[39m(\u001b[38;5;28mself\u001b[39m) \u001b[38;5;241m-\u001b[39m\u001b[38;5;241m>\u001b[39m NoReturn:\n\u001b[1;32m-> 1466\u001b[0m     \u001b[38;5;28;01mraise\u001b[39;00m \u001b[38;5;167;01mValueError\u001b[39;00m(\n\u001b[0;32m   1467\u001b[0m         \u001b[38;5;124mf\u001b[39m\u001b[38;5;124m\"\u001b[39m\u001b[38;5;124mThe truth value of a \u001b[39m\u001b[38;5;132;01m{\u001b[39;00m\u001b[38;5;28mtype\u001b[39m(\u001b[38;5;28mself\u001b[39m)\u001b[38;5;241m.\u001b[39m\u001b[38;5;18m__name__\u001b[39m\u001b[38;5;132;01m}\u001b[39;00m\u001b[38;5;124m is ambiguous. \u001b[39m\u001b[38;5;124m\"\u001b[39m\n\u001b[0;32m   1468\u001b[0m         \u001b[38;5;124m\"\u001b[39m\u001b[38;5;124mUse a.empty, a.bool(), a.item(), a.any() or a.all().\u001b[39m\u001b[38;5;124m\"\u001b[39m\n\u001b[0;32m   1469\u001b[0m     )\n",
      "\u001b[1;31mValueError\u001b[0m: The truth value of a Series is ambiguous. Use a.empty, a.bool(), a.item(), a.any() or a.all()."
     ]
    }
   ],
   "source": [
    "if stockDF['price'] == np.nan:\n",
    "    print(stockDF)\n",
    "elif stockDF['price'] == np.nan:\n",
    "    print(stockDF)\n",
    "elif stockDF['value'] <= 10000: \n",
    "    print(stockDF)"
   ]
  },
  {
   "cell_type": "code",
   "execution_count": 115,
   "id": "13acddaf",
   "metadata": {},
   "outputs": [
    {
     "name": "stdout",
     "output_type": "stream",
     "text": [
      "        id stock_name          value     price\n",
      "0   128940       한미약품   59385.666667  421000.0\n",
      "1   138040    메리츠금융지주     827.500000  421000.0\n",
      "2   130960     CJ E&M   58540.666667   98900.0\n",
      "3   138250      엔에스쇼핑   14558.666667   13200.0\n",
      "4   139480        이마트  239230.833333  254500.0\n",
      "5   142280     녹십자엠에스     468.833333   10200.0\n",
      "6   145990        삼양사   82750.000000   82000.0\n",
      "7   181710  NHN엔터테인먼트   82750.000000   82000.0\n",
      "8   185750        종근당   40293.666667  100500.0\n",
      "9   192400      쿠쿠홀딩스  179204.666667  177500.0\n",
      "10  199800         툴젠   -2514.333333  115400.0\n",
      "11  204210     모두투어리츠    3093.333333    3475.0\n",
      "12  207940   삼성바이오로직스    3093.333333   91900.0\n",
      "\n",
      "        id stock_name          value     price\n",
      "0   128940       한미약품   59385.666667  421000.0\n",
      "1   138040    메리츠금융지주     827.500000   98900.0\n",
      "2   130960     CJ E&M   58540.666667   98900.0\n",
      "3   138250      엔에스쇼핑   14558.666667   13200.0\n",
      "4   139480        이마트  239230.833333  254500.0\n",
      "5   142280     녹십자엠에스     468.833333   10200.0\n",
      "6   145990        삼양사   82750.000000   82000.0\n",
      "7   181710  NHN엔터테인먼트   40293.666667  100500.0\n",
      "8   185750        종근당   40293.666667  100500.0\n",
      "9   192400      쿠쿠홀딩스  179204.666667  177500.0\n",
      "10  199800         툴젠   -2514.333333  115400.0\n",
      "11  204210     모두투어리츠    3093.333333    3475.0\n",
      "12  207940   삼성바이오로직스            NaN   91900.0\n"
     ]
    }
   ],
   "source": [
    "print(stockDF.ffill(), stockDF.bfill(), sep='\\n\\n')"
   ]
  },
  {
   "cell_type": "code",
   "execution_count": 84,
   "id": "e57b7349",
   "metadata": {},
   "outputs": [
    {
     "data": {
      "text/plain": [
       "0      True\n",
       "1      True\n",
       "2      True\n",
       "3     False\n",
       "4      True\n",
       "5      True\n",
       "6     False\n",
       "7     False\n",
       "8      True\n",
       "9      True\n",
       "10     True\n",
       "11    False\n",
       "12     True\n",
       "dtype: bool"
      ]
     },
     "execution_count": 84,
     "metadata": {},
     "output_type": "execute_result"
    }
   ],
   "source": [
    "# 4-4 문제\n",
    "(stockDF['value'] < 1000) | (stockDF['price'] >= 90000)"
   ]
  },
  {
   "cell_type": "code",
   "execution_count": null,
   "id": "9dc94137",
   "metadata": {},
   "outputs": [],
   "source": []
  }
 ],
 "metadata": {
  "kernelspec": {
   "display_name": "Python 3 (ipykernel)",
   "language": "python",
   "name": "python3"
  },
  "language_info": {
   "codemirror_mode": {
    "name": "ipython",
    "version": 3
   },
   "file_extension": ".py",
   "mimetype": "text/x-python",
   "name": "python",
   "nbconvert_exporter": "python",
   "pygments_lexer": "ipython3",
   "version": "3.11.5"
  }
 },
 "nbformat": 4,
 "nbformat_minor": 5
}
