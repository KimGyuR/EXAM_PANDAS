{
 "cells": [
  {
   "cell_type": "markdown",
   "id": "81d43bb1-9192-4232-b860-d36eb93d7b75",
   "metadata": {},
   "source": [
    "<h1>시리즈(Series) 살펴보기</h1>\n",
    "  \n",
    "    판다스에서 데이터를 저장하는 자료 구조 중 하나\n",
    "    동일한 타입의 데이터를 연속된 메모리 공간에 저장 함\n",
    "    구성 : 인덱스 + 데이터\n",
    "    생성 : Series() 생성자 메서드"
   ]
  },
  {
   "cell_type": "markdown",
   "id": "a3ced53b-db35-4513-8bec-131dfe0f6b46",
   "metadata": {},
   "source": [
    "### (1) 모듈 로딩 --------------------------------------------"
   ]
  },
  {
   "cell_type": "code",
   "execution_count": 5,
   "id": "9750339b-7947-4200-8e78-d9596b90fed5",
   "metadata": {},
   "outputs": [],
   "source": [
    "import pandas as pd"
   ]
  },
  {
   "cell_type": "markdown",
   "id": "243d1306-abd5-48a2-8df9-5409124e20c7",
   "metadata": {},
   "source": [
    "#### (2) 시리즈 객체 생성 -------------------------------------------"
   ]
  },
  {
   "cell_type": "code",
   "execution_count": 6,
   "id": "5bcdeec1-acc2-4189-b15f-14893eba7504",
   "metadata": {},
   "outputs": [],
   "source": [
    "# 객체 생성에 사용되는 메서드 => 생성자(Constructor)\n",
    "# 데이터 타입과 동일한 이름의 메서드 => Series()\n",
    "sr=pd.Series([11,22.,'33'])"
   ]
  },
  {
   "cell_type": "code",
   "execution_count": 7,
   "id": "4978b220-1790-40bf-8b5e-ec34cf9215c4",
   "metadata": {},
   "outputs": [
    {
     "data": {
      "text/plain": [
       "0      11\n",
       "1    22.0\n",
       "2      33\n",
       "dtype: object"
      ]
     },
     "execution_count": 7,
     "metadata": {},
     "output_type": "execute_result"
    }
   ],
   "source": [
    "sr"
   ]
  },
  {
   "cell_type": "code",
   "execution_count": 8,
   "id": "f59fc311-50f7-417d-9f95-c61ffc40bc26",
   "metadata": {},
   "outputs": [
    {
     "data": {
      "text/plain": [
       "pandas.core.series.Series"
      ]
     },
     "execution_count": 8,
     "metadata": {},
     "output_type": "execute_result"
    }
   ],
   "source": [
    "type(sr)"
   ]
  },
  {
   "cell_type": "markdown",
   "id": "7053e41c-dc3e-44ac-8bba-a2e7f3b2d734",
   "metadata": {},
   "source": [
    "#### (3) Series 객체의 속성(attributes)/필드(field) 살펴보기  \n",
    "    * 기본 : data, index, dtype  \n",
    "    * 읽기 : 객체변수명.속성명  \n",
    "    * 쓰기 : 객체변수명.속성명 = 새로운 값 [모든 속성이 가능한 것은 아님!!!]"
   ]
  },
  {
   "cell_type": "code",
   "execution_count": 9,
   "id": "927ff52f-880a-4dee-8804-ce8e102c8901",
   "metadata": {},
   "outputs": [
    {
     "data": {
      "text/plain": [
       "RangeIndex(start=0, stop=3, step=1)"
      ]
     },
     "execution_count": 9,
     "metadata": {},
     "output_type": "execute_result"
    }
   ],
   "source": [
    "# 현재 시리즈 객체에 저장된 인덱스 속성 확인\n",
    "sr.index"
   ]
  },
  {
   "cell_type": "code",
   "execution_count": 10,
   "id": "3bab8496-782d-4968-bd09-e72538b85057",
   "metadata": {},
   "outputs": [
    {
     "data": {
      "text/plain": [
       "array([11, 22.0, '33'], dtype=object)"
      ]
     },
     "execution_count": 10,
     "metadata": {},
     "output_type": "execute_result"
    }
   ],
   "source": [
    "# 현재 시리즈 객체에 저장된 데이터 즉 값 확인\n",
    "sr.values"
   ]
  },
  {
   "cell_type": "code",
   "execution_count": 11,
   "id": "9694012d-7fe4-4ea3-81a3-3d967061cf1b",
   "metadata": {},
   "outputs": [],
   "source": [
    "# 시리즈 객체의 인덱스 변경\n",
    "sr.index=[100, 200, 300]"
   ]
  },
  {
   "cell_type": "code",
   "execution_count": 12,
   "id": "8b42c7b9-5aeb-443c-9445-b454e45ef83d",
   "metadata": {},
   "outputs": [
    {
     "data": {
      "text/plain": [
       "100      11\n",
       "200    22.0\n",
       "300      33\n",
       "dtype: object"
      ]
     },
     "execution_count": 12,
     "metadata": {},
     "output_type": "execute_result"
    }
   ],
   "source": [
    "sr"
   ]
  },
  {
   "cell_type": "code",
   "execution_count": 13,
   "id": "21ec06b0-d8d8-4f72-8285-323033de60c7",
   "metadata": {},
   "outputs": [
    {
     "data": {
      "text/plain": [
       "A      11\n",
       "B    22.0\n",
       "C      33\n",
       "dtype: object"
      ]
     },
     "execution_count": 13,
     "metadata": {},
     "output_type": "execute_result"
    }
   ],
   "source": [
    "sr.index=['A', 'B', 'C']\n",
    "sr"
   ]
  },
  {
   "cell_type": "code",
   "execution_count": 14,
   "id": "5f8258a0-0ed4-42d2-ab6b-f28fb863495a",
   "metadata": {},
   "outputs": [],
   "source": [
    "# values 속성은 속성방식으로 변경 불가 !!!\n",
    "# sr.values=[777,888,999]"
   ]
  },
  {
   "cell_type": "markdown",
   "id": "e951782e-c6e9-4c76-b73d-0807c72fd9cc",
   "metadata": {},
   "source": [
    "#### (4) 시리즈 객체의 요소 데이터/값 제어\n",
    "    * 읽기 : 객체변수명[인덱스]\n",
    "    * 쓰기 : 객체변수명[인덱스] = 새로운 값"
   ]
  },
  {
   "cell_type": "code",
   "execution_count": 15,
   "id": "70b6bc4e-e294-465e-b629-0981117028ba",
   "metadata": {},
   "outputs": [
    {
     "data": {
      "text/plain": [
       "11"
      ]
     },
     "execution_count": 15,
     "metadata": {},
     "output_type": "execute_result"
    }
   ],
   "source": [
    "sr['A']"
   ]
  },
  {
   "cell_type": "code",
   "execution_count": 16,
   "id": "1a9837d7-37ec-4573-95e2-6d0552be5ab9",
   "metadata": {},
   "outputs": [],
   "source": [
    "sr['A']=2024"
   ]
  },
  {
   "cell_type": "code",
   "execution_count": 17,
   "id": "d6b7a389-534a-4397-aada-f698a764e694",
   "metadata": {},
   "outputs": [
    {
     "data": {
      "text/plain": [
       "A    2024\n",
       "B    22.0\n",
       "C      33\n",
       "dtype: object"
      ]
     },
     "execution_count": 17,
     "metadata": {},
     "output_type": "execute_result"
    }
   ],
   "source": [
    "sr"
   ]
  },
  {
   "cell_type": "code",
   "execution_count": 18,
   "id": "a77ede82-29fe-4482-8f89-857692f774ae",
   "metadata": {},
   "outputs": [
    {
     "data": {
      "text/plain": [
       "Index(['A', 'B', 'C'], dtype='object')"
      ]
     },
     "execution_count": 18,
     "metadata": {},
     "output_type": "execute_result"
    }
   ],
   "source": [
    "sr.index"
   ]
  },
  {
   "cell_type": "code",
   "execution_count": 19,
   "id": "24e58f34-f3df-4e6b-86e8-cfb338974bcf",
   "metadata": {},
   "outputs": [
    {
     "data": {
      "text/plain": [
       "(2024, 2024)"
      ]
     },
     "execution_count": 19,
     "metadata": {},
     "output_type": "execute_result"
    }
   ],
   "source": [
    "sr[0], sr['A']"
   ]
  },
  {
   "cell_type": "code",
   "execution_count": 20,
   "id": "519327db-7f74-469a-896d-255f0e44f9a7",
   "metadata": {},
   "outputs": [],
   "source": [
    "sr.index=[11,22,33]"
   ]
  },
  {
   "cell_type": "code",
   "execution_count": 21,
   "id": "4935236d-6124-4ed2-a58d-6a8ecb52ab53",
   "metadata": {},
   "outputs": [
    {
     "data": {
      "text/plain": [
       "Index([11, 22, 33], dtype='int64')"
      ]
     },
     "execution_count": 21,
     "metadata": {},
     "output_type": "execute_result"
    }
   ],
   "source": [
    "sr.index"
   ]
  },
  {
   "cell_type": "code",
   "execution_count": 22,
   "id": "5e2fe8f9-9bd6-4c88-a993-a09a7f1b9672",
   "metadata": {},
   "outputs": [
    {
     "data": {
      "text/plain": [
       "2024"
      ]
     },
     "execution_count": 22,
     "metadata": {},
     "output_type": "execute_result"
    }
   ],
   "source": [
    "sr[11]"
   ]
  },
  {
   "cell_type": "code",
   "execution_count": 23,
   "id": "2043d938-7064-4b7a-a7b0-226a58af1653",
   "metadata": {},
   "outputs": [
    {
     "ename": "KeyError",
     "evalue": "0",
     "output_type": "error",
     "traceback": [
      "\u001b[1;31m---------------------------------------------------------------------------\u001b[0m",
      "\u001b[1;31mKeyError\u001b[0m                                  Traceback (most recent call last)",
      "File \u001b[1;32mC:\\ProgramData\\anaconda3\\Lib\\site-packages\\pandas\\core\\indexes\\base.py:3653\u001b[0m, in \u001b[0;36mIndex.get_loc\u001b[1;34m(self, key)\u001b[0m\n\u001b[0;32m   3652\u001b[0m \u001b[38;5;28;01mtry\u001b[39;00m:\n\u001b[1;32m-> 3653\u001b[0m     \u001b[38;5;28;01mreturn\u001b[39;00m \u001b[38;5;28mself\u001b[39m\u001b[38;5;241m.\u001b[39m_engine\u001b[38;5;241m.\u001b[39mget_loc(casted_key)\n\u001b[0;32m   3654\u001b[0m \u001b[38;5;28;01mexcept\u001b[39;00m \u001b[38;5;167;01mKeyError\u001b[39;00m \u001b[38;5;28;01mas\u001b[39;00m err:\n",
      "File \u001b[1;32mC:\\ProgramData\\anaconda3\\Lib\\site-packages\\pandas\\_libs\\index.pyx:147\u001b[0m, in \u001b[0;36mpandas._libs.index.IndexEngine.get_loc\u001b[1;34m()\u001b[0m\n",
      "File \u001b[1;32mC:\\ProgramData\\anaconda3\\Lib\\site-packages\\pandas\\_libs\\index.pyx:176\u001b[0m, in \u001b[0;36mpandas._libs.index.IndexEngine.get_loc\u001b[1;34m()\u001b[0m\n",
      "File \u001b[1;32mpandas\\_libs\\hashtable_class_helper.pxi:2606\u001b[0m, in \u001b[0;36mpandas._libs.hashtable.Int64HashTable.get_item\u001b[1;34m()\u001b[0m\n",
      "File \u001b[1;32mpandas\\_libs\\hashtable_class_helper.pxi:2630\u001b[0m, in \u001b[0;36mpandas._libs.hashtable.Int64HashTable.get_item\u001b[1;34m()\u001b[0m\n",
      "\u001b[1;31mKeyError\u001b[0m: 0",
      "\nThe above exception was the direct cause of the following exception:\n",
      "\u001b[1;31mKeyError\u001b[0m                                  Traceback (most recent call last)",
      "Cell \u001b[1;32mIn[23], line 1\u001b[0m\n\u001b[1;32m----> 1\u001b[0m sr[\u001b[38;5;241m0\u001b[39m]\n",
      "File \u001b[1;32mC:\\ProgramData\\anaconda3\\Lib\\site-packages\\pandas\\core\\series.py:1007\u001b[0m, in \u001b[0;36mSeries.__getitem__\u001b[1;34m(self, key)\u001b[0m\n\u001b[0;32m   1004\u001b[0m     \u001b[38;5;28;01mreturn\u001b[39;00m \u001b[38;5;28mself\u001b[39m\u001b[38;5;241m.\u001b[39m_values[key]\n\u001b[0;32m   1006\u001b[0m \u001b[38;5;28;01melif\u001b[39;00m key_is_scalar:\n\u001b[1;32m-> 1007\u001b[0m     \u001b[38;5;28;01mreturn\u001b[39;00m \u001b[38;5;28mself\u001b[39m\u001b[38;5;241m.\u001b[39m_get_value(key)\n\u001b[0;32m   1009\u001b[0m \u001b[38;5;28;01mif\u001b[39;00m is_hashable(key):\n\u001b[0;32m   1010\u001b[0m     \u001b[38;5;66;03m# Otherwise index.get_value will raise InvalidIndexError\u001b[39;00m\n\u001b[0;32m   1011\u001b[0m     \u001b[38;5;28;01mtry\u001b[39;00m:\n\u001b[0;32m   1012\u001b[0m         \u001b[38;5;66;03m# For labels that don't resolve as scalars like tuples and frozensets\u001b[39;00m\n",
      "File \u001b[1;32mC:\\ProgramData\\anaconda3\\Lib\\site-packages\\pandas\\core\\series.py:1116\u001b[0m, in \u001b[0;36mSeries._get_value\u001b[1;34m(self, label, takeable)\u001b[0m\n\u001b[0;32m   1113\u001b[0m     \u001b[38;5;28;01mreturn\u001b[39;00m \u001b[38;5;28mself\u001b[39m\u001b[38;5;241m.\u001b[39m_values[label]\n\u001b[0;32m   1115\u001b[0m \u001b[38;5;66;03m# Similar to Index.get_value, but we do not fall back to positional\u001b[39;00m\n\u001b[1;32m-> 1116\u001b[0m loc \u001b[38;5;241m=\u001b[39m \u001b[38;5;28mself\u001b[39m\u001b[38;5;241m.\u001b[39mindex\u001b[38;5;241m.\u001b[39mget_loc(label)\n\u001b[0;32m   1118\u001b[0m \u001b[38;5;28;01mif\u001b[39;00m is_integer(loc):\n\u001b[0;32m   1119\u001b[0m     \u001b[38;5;28;01mreturn\u001b[39;00m \u001b[38;5;28mself\u001b[39m\u001b[38;5;241m.\u001b[39m_values[loc]\n",
      "File \u001b[1;32mC:\\ProgramData\\anaconda3\\Lib\\site-packages\\pandas\\core\\indexes\\base.py:3655\u001b[0m, in \u001b[0;36mIndex.get_loc\u001b[1;34m(self, key)\u001b[0m\n\u001b[0;32m   3653\u001b[0m     \u001b[38;5;28;01mreturn\u001b[39;00m \u001b[38;5;28mself\u001b[39m\u001b[38;5;241m.\u001b[39m_engine\u001b[38;5;241m.\u001b[39mget_loc(casted_key)\n\u001b[0;32m   3654\u001b[0m \u001b[38;5;28;01mexcept\u001b[39;00m \u001b[38;5;167;01mKeyError\u001b[39;00m \u001b[38;5;28;01mas\u001b[39;00m err:\n\u001b[1;32m-> 3655\u001b[0m     \u001b[38;5;28;01mraise\u001b[39;00m \u001b[38;5;167;01mKeyError\u001b[39;00m(key) \u001b[38;5;28;01mfrom\u001b[39;00m \u001b[38;5;21;01merr\u001b[39;00m\n\u001b[0;32m   3656\u001b[0m \u001b[38;5;28;01mexcept\u001b[39;00m \u001b[38;5;167;01mTypeError\u001b[39;00m:\n\u001b[0;32m   3657\u001b[0m     \u001b[38;5;66;03m# If we have a listlike key, _check_indexing_error will raise\u001b[39;00m\n\u001b[0;32m   3658\u001b[0m     \u001b[38;5;66;03m#  InvalidIndexError. Otherwise we fall through and re-raise\u001b[39;00m\n\u001b[0;32m   3659\u001b[0m     \u001b[38;5;66;03m#  the TypeError.\u001b[39;00m\n\u001b[0;32m   3660\u001b[0m     \u001b[38;5;28mself\u001b[39m\u001b[38;5;241m.\u001b[39m_check_indexing_error(key)\n",
      "\u001b[1;31mKeyError\u001b[0m: 0"
     ]
    }
   ],
   "source": [
    "sr[0]"
   ]
  },
  {
   "cell_type": "code",
   "execution_count": null,
   "id": "1da48f51-2c65-4d00-809c-2471123e6552",
   "metadata": {},
   "outputs": [],
   "source": [
    "for idx in sr.index:\n",
    "    print(idx,sr[idx])\n",
    "    sr[idx] = sr[idx]"
   ]
  },
  {
   "cell_type": "code",
   "execution_count": 24,
   "id": "a6bc93fd-a035-4130-8a34-f2a170b390bf",
   "metadata": {},
   "outputs": [
    {
     "data": {
      "text/plain": [
       "1    2024\n",
       "2    22.0\n",
       "3      33\n",
       "dtype: object"
      ]
     },
     "execution_count": 24,
     "metadata": {},
     "output_type": "execute_result"
    }
   ],
   "source": [
    "# 문자열 숫자로 인덱스 변경\n",
    "sr.index=['1', '2', '3']\n",
    "sr"
   ]
  },
  {
   "cell_type": "code",
   "execution_count": 25,
   "id": "58bd608a",
   "metadata": {},
   "outputs": [
    {
     "data": {
      "text/plain": [
       "(2024, 2024)"
      ]
     },
     "execution_count": 25,
     "metadata": {},
     "output_type": "execute_result"
    }
   ],
   "source": [
    "sr['1'], sr[0]"
   ]
  },
  {
   "cell_type": "code",
   "execution_count": 26,
   "id": "9e32748b",
   "metadata": {},
   "outputs": [
    {
     "data": {
      "text/plain": [
       "1    2024\n",
       "2    22.0\n",
       "3      33\n",
       "dtype: object"
      ]
     },
     "execution_count": 26,
     "metadata": {},
     "output_type": "execute_result"
    }
   ],
   "source": [
    "# 정수형 숫자로 인덱스 변경\n",
    "sr.index=[1,2,3]\n",
    "sr"
   ]
  },
  {
   "cell_type": "code",
   "execution_count": 27,
   "id": "19ec47ea",
   "metadata": {},
   "outputs": [
    {
     "data": {
      "text/plain": [
       "2024"
      ]
     },
     "execution_count": 27,
     "metadata": {},
     "output_type": "execute_result"
    }
   ],
   "source": [
    "sr[1]"
   ]
  },
  {
   "cell_type": "code",
   "execution_count": 29,
   "id": "adfb2528",
   "metadata": {},
   "outputs": [],
   "source": [
    "# 숫자 라벨 인덱스 지정하면 정수 위치 인덱스 => 정수 위치 인덱스 사용 불가!!\n",
    "#sr[0]"
   ]
  },
  {
   "cell_type": "code",
   "execution_count": null,
   "id": "1b44a0ed",
   "metadata": {},
   "outputs": [],
   "source": []
  }
 ],
 "metadata": {
  "kernelspec": {
   "display_name": "Python 3 (ipykernel)",
   "language": "python",
   "name": "python3"
  },
  "language_info": {
   "codemirror_mode": {
    "name": "ipython",
    "version": 3
   },
   "file_extension": ".py",
   "mimetype": "text/x-python",
   "name": "python",
   "nbconvert_exporter": "python",
   "pygments_lexer": "ipython3",
   "version": "3.11.5"
  }
 },
 "nbformat": 4,
 "nbformat_minor": 5
}
