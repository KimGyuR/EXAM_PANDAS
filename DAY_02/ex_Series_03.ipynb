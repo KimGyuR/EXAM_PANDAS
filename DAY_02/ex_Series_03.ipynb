{
 "cells": [
  {
   "cell_type": "markdown",
   "id": "0a1e0e30",
   "metadata": {},
   "source": [
    "### [ Series 객체 원소 인덱싱 & 슬라이싱]"
   ]
  },
  {
   "cell_type": "markdown",
   "id": "576a2b53",
   "metadata": {},
   "source": [
    "(1) 모듈 로딩 -------------------------------------"
   ]
  },
  {
   "cell_type": "code",
   "execution_count": 37,
   "id": "75db0b94",
   "metadata": {},
   "outputs": [],
   "source": [
    "from pandas import Series"
   ]
  },
  {
   "cell_type": "markdown",
   "id": "04cff96b",
   "metadata": {},
   "source": [
    "(2) 데이터 준비 ------------------------------------"
   ]
  },
  {
   "cell_type": "code",
   "execution_count": 38,
   "id": "1f45574a",
   "metadata": {},
   "outputs": [],
   "source": [
    "datas={'name':'Hong', 'age':12, 'job':'Thief'}"
   ]
  },
  {
   "cell_type": "markdown",
   "id": "02a1bb57",
   "metadata": {},
   "source": [
    "(3) Series 객체 생성 ----------------------------------"
   ]
  },
  {
   "cell_type": "code",
   "execution_count": 39,
   "id": "edaa84d7",
   "metadata": {},
   "outputs": [],
   "source": [
    "sr1=Series(datas)"
   ]
  },
  {
   "cell_type": "code",
   "execution_count": 40,
   "id": "3f661bfb",
   "metadata": {},
   "outputs": [
    {
     "data": {
      "text/plain": [
       "name     Hong\n",
       "age        12\n",
       "job     Thief\n",
       "dtype: object"
      ]
     },
     "execution_count": 40,
     "metadata": {},
     "output_type": "execute_result"
    }
   ],
   "source": [
    "sr1"
   ]
  },
  {
   "cell_type": "markdown",
   "id": "f7dce78e",
   "metadata": {},
   "source": [
    "(4) 인덱싱으로 원소 읽기 ------------------------------"
   ]
  },
  {
   "cell_type": "markdown",
   "id": "5c215254",
   "metadata": {},
   "source": [
    "=> 1개 원소 읽기"
   ]
  },
  {
   "cell_type": "code",
   "execution_count": 58,
   "id": "799dc276",
   "metadata": {},
   "outputs": [
    {
     "data": {
      "text/plain": [
       "(12, 12, Index(['name', 'age', 'job'], dtype='object'))"
      ]
     },
     "execution_count": 58,
     "metadata": {},
     "output_type": "execute_result"
    }
   ],
   "source": [
    "sr1['age'], sr1[1], sr1.index"
   ]
  },
  {
   "cell_type": "markdown",
   "id": "5e09d7ae",
   "metadata": {},
   "source": [
    "=> 2개 원소 읽기"
   ]
  },
  {
   "cell_type": "code",
   "execution_count": 46,
   "id": "f641b812",
   "metadata": {},
   "outputs": [
    {
     "data": {
      "text/plain": [
       "('Hong', 'Thief', 'Hong', 'Thief', str)"
      ]
     },
     "execution_count": 46,
     "metadata": {},
     "output_type": "execute_result"
    }
   ],
   "source": [
    "# 이름과 직업 데이터 읽기 ==> 원소 단위\n",
    "sr1['name'],sr1['job'],  sr1[0], sr1[2], type(sr1[0])"
   ]
  },
  {
   "cell_type": "code",
   "execution_count": 47,
   "id": "dedfce17",
   "metadata": {},
   "outputs": [],
   "source": [
    "a=[1,2,3]\n",
    "b=(11,22,33)"
   ]
  },
  {
   "cell_type": "code",
   "execution_count": 45,
   "id": "c88bdd8d",
   "metadata": {},
   "outputs": [
    {
     "data": {
      "text/plain": [
       "(1, int)"
      ]
     },
     "execution_count": 45,
     "metadata": {},
     "output_type": "execute_result"
    }
   ],
   "source": [
    "a[0], type(a[0])"
   ]
  },
  {
   "cell_type": "code",
   "execution_count": 44,
   "id": "296e7685",
   "metadata": {},
   "outputs": [
    {
     "data": {
      "text/plain": [
       "([1], list)"
      ]
     },
     "execution_count": 44,
     "metadata": {},
     "output_type": "execute_result"
    }
   ],
   "source": [
    "a[:1], type(a[:1])"
   ]
  },
  {
   "cell_type": "code",
   "execution_count": 43,
   "id": "135cc60a",
   "metadata": {},
   "outputs": [
    {
     "data": {
      "text/plain": [
       "(pandas.core.series.Series,\n",
       " name     Hong\n",
       " job     Thief\n",
       " dtype: object)"
      ]
     },
     "execution_count": 43,
     "metadata": {},
     "output_type": "execute_result"
    }
   ],
   "source": [
    "# 이름과 직업 데이터 읽기 ==> 리스트 단위로 읽기\n",
    "ret = sr1[['name', 'job']]\n",
    "ret2 = sr1[[0, 2]]\n",
    "type(ret), ret"
   ]
  },
  {
   "cell_type": "code",
   "execution_count": 42,
   "id": "29a177b5",
   "metadata": {},
   "outputs": [
    {
     "data": {
      "text/plain": [
       "(pandas.core.series.Series,\n",
       " name     Hong\n",
       " job     Thief\n",
       " dtype: object)"
      ]
     },
     "execution_count": 42,
     "metadata": {},
     "output_type": "execute_result"
    }
   ],
   "source": [
    "type(ret2), ret2"
   ]
  },
  {
   "cell_type": "markdown",
   "id": "f9dc7b8e",
   "metadata": {},
   "source": [
    "(5)슬라이싱으로 원소 읽기 ---------------------------"
   ]
  },
  {
   "cell_type": "code",
   "execution_count": 49,
   "id": "6938b2de",
   "metadata": {},
   "outputs": [
    {
     "data": {
      "text/plain": [
       "name    Hong\n",
       "age       12\n",
       "dtype: object"
      ]
     },
     "execution_count": 49,
     "metadata": {},
     "output_type": "execute_result"
    }
   ],
   "source": [
    "# 위치 인덱스로 슬라이싱 -------------------------------------\n",
    "sr1[:2]                # 시작 <= ~ < 끝"
   ]
  },
  {
   "cell_type": "code",
   "execution_count": 50,
   "id": "84cc6b36",
   "metadata": {},
   "outputs": [
    {
     "data": {
      "text/plain": [
       "name     Hong\n",
       "age        12\n",
       "job     Thief\n",
       "dtype: object"
      ]
     },
     "execution_count": 50,
     "metadata": {},
     "output_type": "execute_result"
    }
   ],
   "source": [
    "sr1[:]                # 시작 <= ~ < 끝"
   ]
  },
  {
   "cell_type": "code",
   "execution_count": 52,
   "id": "c8b36e2d",
   "metadata": {},
   "outputs": [
    {
     "data": {
      "text/plain": [
       "name    Hong\n",
       "age       12\n",
       "dtype: object"
      ]
     },
     "execution_count": 52,
     "metadata": {},
     "output_type": "execute_result"
    }
   ],
   "source": [
    "sr1[:-1]                # 시작 <= ~ < 끝"
   ]
  },
  {
   "cell_type": "code",
   "execution_count": 53,
   "id": "87894b0f",
   "metadata": {},
   "outputs": [
    {
     "data": {
      "text/plain": [
       "name    Hong\n",
       "dtype: object"
      ]
     },
     "execution_count": 53,
     "metadata": {},
     "output_type": "execute_result"
    }
   ],
   "source": [
    "sr1[:-2]                # 시작 <= ~ < 끝"
   ]
  },
  {
   "cell_type": "markdown",
   "id": "b7aacc82",
   "metadata": {},
   "source": [
    "(6)레이블 인덱스로 슬라이싱 ---------------------------------------"
   ]
  },
  {
   "cell_type": "code",
   "execution_count": 54,
   "id": "49110425",
   "metadata": {},
   "outputs": [
    {
     "data": {
      "text/plain": [
       "name     Hong\n",
       "age        12\n",
       "job     Thief\n",
       "dtype: object"
      ]
     },
     "execution_count": 54,
     "metadata": {},
     "output_type": "execute_result"
    }
   ],
   "source": [
    "sr1['name':'job']     # 시작 <= ~ <= 끝"
   ]
  },
  {
   "cell_type": "code",
   "execution_count": 55,
   "id": "67ceee8a",
   "metadata": {},
   "outputs": [
    {
     "data": {
      "text/plain": [
       "name    Hong\n",
       "age       12\n",
       "dtype: object"
      ]
     },
     "execution_count": 55,
     "metadata": {},
     "output_type": "execute_result"
    }
   ],
   "source": [
    "sr1['name':'age']     # 시작 <= ~ <= == sr1[:2]"
   ]
  },
  {
   "cell_type": "code",
   "execution_count": null,
   "id": "ba79b7b7",
   "metadata": {},
   "outputs": [],
   "source": []
  }
 ],
 "metadata": {
  "kernelspec": {
   "display_name": "Python 3 (ipykernel)",
   "language": "python",
   "name": "python3"
  },
  "language_info": {
   "codemirror_mode": {
    "name": "ipython",
    "version": 3
   },
   "file_extension": ".py",
   "mimetype": "text/x-python",
   "name": "python",
   "nbconvert_exporter": "python",
   "pygments_lexer": "ipython3",
   "version": "3.11.5"
  }
 },
 "nbformat": 4,
 "nbformat_minor": 5
}
