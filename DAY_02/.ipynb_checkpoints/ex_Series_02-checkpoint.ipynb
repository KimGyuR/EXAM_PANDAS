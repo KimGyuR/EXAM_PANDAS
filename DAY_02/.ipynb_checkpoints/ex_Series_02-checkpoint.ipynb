{
 "cells": [
  {
   "cell_type": "markdown",
   "id": "b627279b",
   "metadata": {},
   "source": [
    "### [다양한 Series 객체 생성]"
   ]
  },
  {
   "cell_type": "markdown",
   "id": "cedf9974",
   "metadata": {},
   "source": [
    "### (1) 모듈 로딩"
   ]
  },
  {
   "cell_type": "code",
   "execution_count": 5,
   "id": "1c45db66",
   "metadata": {},
   "outputs": [],
   "source": [
    "import pandas as pd"
   ]
  },
  {
   "cell_type": "markdown",
   "id": "66cca388",
   "metadata": {},
   "source": [
    "#### (2) Series 객체 생성 - 방법1\n",
    "- series(data, index=지정)"
   ]
  },
  {
   "cell_type": "code",
   "execution_count": 6,
   "id": "71637b7b",
   "metadata": {},
   "outputs": [
    {
     "data": {
      "text/plain": [
       "one      11\n",
       "two      22\n",
       "three    33\n",
       "dtype: int64"
      ]
     },
     "execution_count": 6,
     "metadata": {},
     "output_type": "execute_result"
    }
   ],
   "source": [
    "sr1=pd.Series([11,22,33], index=['one', 'two', 'three'])\n",
    "sr1"
   ]
  },
  {
   "cell_type": "markdown",
   "id": "0b5e7c2d",
   "metadata": {},
   "source": [
    "#### (2) Series 객체 생성 - 방법2"
   ]
  },
  {
   "cell_type": "code",
   "execution_count": 7,
   "id": "14c91ff6",
   "metadata": {},
   "outputs": [
    {
     "data": {
      "text/plain": [
       "one      11\n",
       "two      22\n",
       "three    33\n",
       "Name: jumsu, dtype: int64"
      ]
     },
     "execution_count": 7,
     "metadata": {},
     "output_type": "execute_result"
    }
   ],
   "source": [
    "sr1=pd.Series([11,22,33], index=['one', 'two', 'three'], name='jumsu')\n",
    "sr1"
   ]
  },
  {
   "cell_type": "markdown",
   "id": "04a9e25e",
   "metadata": {},
   "source": [
    "#### (2) Series 객체 생성 - 방법3"
   ]
  },
  {
   "cell_type": "code",
   "execution_count": 8,
   "id": "0ff2d893",
   "metadata": {},
   "outputs": [
    {
     "data": {
      "text/plain": [
       "one      11\n",
       "two      22\n",
       "three    33\n",
       "Name: jumsu, dtype: uint8"
      ]
     },
     "execution_count": 8,
     "metadata": {},
     "output_type": "execute_result"
    }
   ],
   "source": [
    "sr1=pd.Series([11,22,33], index=['one', 'two', 'three'], name='jumsu', dtype='uint8')\n",
    "sr1"
   ]
  },
  {
   "cell_type": "markdown",
   "id": "820125a9",
   "metadata": {},
   "source": [
    "#### (2) Series 객체 생성 - 방법4 => 저장되는 데이터 dict"
   ]
  },
  {
   "cell_type": "code",
   "execution_count": 13,
   "id": "0eafb409",
   "metadata": {},
   "outputs": [
    {
     "data": {
      "text/plain": [
       "name     hong\n",
       "age        12\n",
       "job     Thief\n",
       "dtype: object"
      ]
     },
     "execution_count": 13,
     "metadata": {},
     "output_type": "execute_result"
    }
   ],
   "source": [
    "data = {'name': 'hong', 'age':12, 'job':'Thief'}\n",
    "\n",
    "sr1=pd.Series(data)\n",
    "sr1"
   ]
  },
  {
   "cell_type": "code",
   "execution_count": 15,
   "id": "a3def772",
   "metadata": {},
   "outputs": [
    {
     "name": "stdout",
     "output_type": "stream",
     "text": [
      "Index(['name', 'age', 'job'], dtype='object')\n",
      "['hong' 12 'Thief']\n"
     ]
    }
   ],
   "source": [
    "# 속성 확인하기\n",
    "print(sr1.index, sr1.values, sep='\\n')"
   ]
  },
  {
   "cell_type": "code",
   "execution_count": 16,
   "id": "7a4a95d8",
   "metadata": {},
   "outputs": [
    {
     "data": {
      "text/plain": [
       "(Index(['name', 'age', 'job'], dtype='object'),\n",
       " array(['hong', 12, 'Thief'], dtype=object))"
      ]
     },
     "execution_count": 16,
     "metadata": {},
     "output_type": "execute_result"
    }
   ],
   "source": [
    "sr1.index, sr1.values"
   ]
  },
  {
   "cell_type": "markdown",
   "id": "1f977473",
   "metadata": {},
   "source": [
    "#### (2) Series 객체 생성 - 방법5 => 저장되는 데이터 set"
   ]
  },
  {
   "cell_type": "code",
   "execution_count": 19,
   "id": "ba58963d",
   "metadata": {},
   "outputs": [
    {
     "data": {
      "text/plain": [
       "1    Thief\n",
       "2       12\n",
       "3     hong\n",
       "dtype: object"
      ]
     },
     "execution_count": 19,
     "metadata": {},
     "output_type": "execute_result"
    }
   ],
   "source": [
    "data = {'hong', 12, 'Thief'}   # 순서없는 데이터, 중복 불허\n",
    "\n",
    "# 형변환 후 객체 생성 가능\n",
    "sr1=pd.Series(list(data), index=[1,2,3])\n",
    "sr1"
   ]
  },
  {
   "cell_type": "code",
   "execution_count": null,
   "id": "199b89cf",
   "metadata": {},
   "outputs": [],
   "source": []
  }
 ],
 "metadata": {
  "kernelspec": {
   "display_name": "Python 3 (ipykernel)",
   "language": "python",
   "name": "python3"
  },
  "language_info": {
   "codemirror_mode": {
    "name": "ipython",
    "version": 3
   },
   "file_extension": ".py",
   "mimetype": "text/x-python",
   "name": "python",
   "nbconvert_exporter": "python",
   "pygments_lexer": "ipython3",
   "version": "3.11.5"
  }
 },
 "nbformat": 4,
 "nbformat_minor": 5
}
