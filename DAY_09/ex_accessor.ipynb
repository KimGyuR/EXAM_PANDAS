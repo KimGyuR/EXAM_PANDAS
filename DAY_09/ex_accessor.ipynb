{
 "cells": [
  {
   "cell_type": "markdown",
   "id": "52a92b47",
   "metadata": {},
   "source": [
    "## [ 접근자 Accessor ]\n",
    "- Series/DataFrame의 데이터가 날짜시간(datetime), 문자열(object), 범주형(Category)등의 경우 데이터타입과 관련된 전용의 함수들을 사용할 수 있도록 해주는 속성\n",
    "- Series.str.문자열처리 관련 함수명()\n",
    "- Series.dt.날짜시간처리 관련 속성명()"
   ]
  },
  {
   "cell_type": "markdown",
   "id": "3ba3d976",
   "metadata": {},
   "source": [
    "(1) 모듈 로딩 <hr>"
   ]
  },
  {
   "cell_type": "code",
   "execution_count": 151,
   "id": "dfa44601",
   "metadata": {},
   "outputs": [],
   "source": [
    "import pandas as pd"
   ]
  },
  {
   "cell_type": "markdown",
   "id": "c385e653",
   "metadata": {},
   "source": [
    "(2) 데이터 준비 <hr>"
   ]
  },
  {
   "cell_type": "code",
   "execution_count": 152,
   "id": "e0a3153d",
   "metadata": {},
   "outputs": [],
   "source": [
    "datas={\"name\":[\"홍 길동\", \"이 나영\", \"마 징가\", \"베 토벤\"], \n",
    "       \"age\":[10,20,30,80],\n",
    "      \"reg_date\": [\"2000/01/31\", \"2010/03/13\", \"1990/05/29\", \"1980/09/21\"]}\n",
    "\n",
    "datas2=[[\"홍 길동\", \"이 나영\", \"마 징가\", \"베 토벤\"], \n",
    "        [10,20,30,80],\n",
    "        [\"2000/01/31\", \"2010/03/13\", \"1990/05/29\", \"1980/09/21\"]]"
   ]
  },
  {
   "cell_type": "markdown",
   "id": "c13f58df",
   "metadata": {},
   "source": [
    "(3) 데이터 저장 <hr>"
   ]
  },
  {
   "cell_type": "code",
   "execution_count": 153,
   "id": "d312d62c",
   "metadata": {},
   "outputs": [
    {
     "data": {
      "text/html": [
       "<div>\n",
       "<style scoped>\n",
       "    .dataframe tbody tr th:only-of-type {\n",
       "        vertical-align: middle;\n",
       "    }\n",
       "\n",
       "    .dataframe tbody tr th {\n",
       "        vertical-align: top;\n",
       "    }\n",
       "\n",
       "    .dataframe thead th {\n",
       "        text-align: right;\n",
       "    }\n",
       "</style>\n",
       "<table border=\"1\" class=\"dataframe\">\n",
       "  <thead>\n",
       "    <tr style=\"text-align: right;\">\n",
       "      <th></th>\n",
       "      <th>name</th>\n",
       "      <th>age</th>\n",
       "      <th>reg_date</th>\n",
       "    </tr>\n",
       "  </thead>\n",
       "  <tbody>\n",
       "    <tr>\n",
       "      <th>0</th>\n",
       "      <td>홍 길동</td>\n",
       "      <td>10</td>\n",
       "      <td>2000/01/31</td>\n",
       "    </tr>\n",
       "    <tr>\n",
       "      <th>1</th>\n",
       "      <td>이 나영</td>\n",
       "      <td>20</td>\n",
       "      <td>2010/03/13</td>\n",
       "    </tr>\n",
       "    <tr>\n",
       "      <th>2</th>\n",
       "      <td>마 징가</td>\n",
       "      <td>30</td>\n",
       "      <td>1990/05/29</td>\n",
       "    </tr>\n",
       "    <tr>\n",
       "      <th>3</th>\n",
       "      <td>베 토벤</td>\n",
       "      <td>80</td>\n",
       "      <td>1980/09/21</td>\n",
       "    </tr>\n",
       "  </tbody>\n",
       "</table>\n",
       "</div>"
      ],
      "text/plain": [
       "   name  age    reg_date\n",
       "0  홍 길동   10  2000/01/31\n",
       "1  이 나영   20  2010/03/13\n",
       "2  마 징가   30  1990/05/29\n",
       "3  베 토벤   80  1980/09/21"
      ]
     },
     "execution_count": 153,
     "metadata": {},
     "output_type": "execute_result"
    }
   ],
   "source": [
    "# Dict ==> DataFrame ==> 값이 열로 들어감\n",
    "df1=pd.DataFrame(datas)\n",
    "df1"
   ]
  },
  {
   "cell_type": "code",
   "execution_count": 154,
   "id": "c259c5f4",
   "metadata": {},
   "outputs": [
    {
     "data": {
      "text/html": [
       "<div>\n",
       "<style scoped>\n",
       "    .dataframe tbody tr th:only-of-type {\n",
       "        vertical-align: middle;\n",
       "    }\n",
       "\n",
       "    .dataframe tbody tr th {\n",
       "        vertical-align: top;\n",
       "    }\n",
       "\n",
       "    .dataframe thead th {\n",
       "        text-align: right;\n",
       "    }\n",
       "</style>\n",
       "<table border=\"1\" class=\"dataframe\">\n",
       "  <thead>\n",
       "    <tr style=\"text-align: right;\">\n",
       "      <th></th>\n",
       "      <th>0</th>\n",
       "      <th>1</th>\n",
       "      <th>2</th>\n",
       "      <th>3</th>\n",
       "    </tr>\n",
       "  </thead>\n",
       "  <tbody>\n",
       "    <tr>\n",
       "      <th>0</th>\n",
       "      <td>홍 길동</td>\n",
       "      <td>이 나영</td>\n",
       "      <td>마 징가</td>\n",
       "      <td>베 토벤</td>\n",
       "    </tr>\n",
       "    <tr>\n",
       "      <th>1</th>\n",
       "      <td>10</td>\n",
       "      <td>20</td>\n",
       "      <td>30</td>\n",
       "      <td>80</td>\n",
       "    </tr>\n",
       "    <tr>\n",
       "      <th>2</th>\n",
       "      <td>2000/01/31</td>\n",
       "      <td>2010/03/13</td>\n",
       "      <td>1990/05/29</td>\n",
       "      <td>1980/09/21</td>\n",
       "    </tr>\n",
       "  </tbody>\n",
       "</table>\n",
       "</div>"
      ],
      "text/plain": [
       "            0           1           2           3\n",
       "0        홍 길동        이 나영        마 징가        베 토벤\n",
       "1          10          20          30          80\n",
       "2  2000/01/31  2010/03/13  1990/05/29  1980/09/21"
      ]
     },
     "execution_count": 154,
     "metadata": {},
     "output_type": "execute_result"
    }
   ],
   "source": [
    "# List ==> DataFrame ==> 값이 행으로 들어감\n",
    "df2=pd.DataFrame(datas2)\n",
    "df2"
   ]
  },
  {
   "cell_type": "markdown",
   "id": "7af0daeb",
   "metadata": {},
   "source": [
    "(4) 데이터 정보 확인 <hr>"
   ]
  },
  {
   "cell_type": "code",
   "execution_count": 155,
   "id": "8562e974",
   "metadata": {},
   "outputs": [
    {
     "name": "stdout",
     "output_type": "stream",
     "text": [
      "<class 'pandas.core.frame.DataFrame'>\n",
      "RangeIndex: 3 entries, 0 to 2\n",
      "Data columns (total 4 columns):\n",
      " #   Column  Non-Null Count  Dtype \n",
      "---  ------  --------------  ----- \n",
      " 0   0       3 non-null      object\n",
      " 1   1       3 non-null      object\n",
      " 2   2       3 non-null      object\n",
      " 3   3       3 non-null      object\n",
      "dtypes: object(4)\n",
      "memory usage: 228.0+ bytes\n"
     ]
    }
   ],
   "source": [
    "# 데이터의 전체 기본 정보 => info()\n",
    "df2.info()"
   ]
  },
  {
   "cell_type": "markdown",
   "id": "914adac8",
   "metadata": {},
   "source": [
    "(5) 데이터 전처리"
   ]
  },
  {
   "cell_type": "markdown",
   "id": "30ccb3ea",
   "metadata": {},
   "source": [
    "- (5-1) 행 <=> 열 치환"
   ]
  },
  {
   "cell_type": "code",
   "execution_count": 156,
   "id": "09e9b6b3",
   "metadata": {},
   "outputs": [
    {
     "data": {
      "text/html": [
       "<div>\n",
       "<style scoped>\n",
       "    .dataframe tbody tr th:only-of-type {\n",
       "        vertical-align: middle;\n",
       "    }\n",
       "\n",
       "    .dataframe tbody tr th {\n",
       "        vertical-align: top;\n",
       "    }\n",
       "\n",
       "    .dataframe thead th {\n",
       "        text-align: right;\n",
       "    }\n",
       "</style>\n",
       "<table border=\"1\" class=\"dataframe\">\n",
       "  <thead>\n",
       "    <tr style=\"text-align: right;\">\n",
       "      <th></th>\n",
       "      <th>0</th>\n",
       "      <th>1</th>\n",
       "      <th>2</th>\n",
       "    </tr>\n",
       "  </thead>\n",
       "  <tbody>\n",
       "    <tr>\n",
       "      <th>0</th>\n",
       "      <td>홍 길동</td>\n",
       "      <td>10</td>\n",
       "      <td>2000/01/31</td>\n",
       "    </tr>\n",
       "    <tr>\n",
       "      <th>1</th>\n",
       "      <td>이 나영</td>\n",
       "      <td>20</td>\n",
       "      <td>2010/03/13</td>\n",
       "    </tr>\n",
       "    <tr>\n",
       "      <th>2</th>\n",
       "      <td>마 징가</td>\n",
       "      <td>30</td>\n",
       "      <td>1990/05/29</td>\n",
       "    </tr>\n",
       "    <tr>\n",
       "      <th>3</th>\n",
       "      <td>베 토벤</td>\n",
       "      <td>80</td>\n",
       "      <td>1980/09/21</td>\n",
       "    </tr>\n",
       "  </tbody>\n",
       "</table>\n",
       "</div>"
      ],
      "text/plain": [
       "      0   1           2\n",
       "0  홍 길동  10  2000/01/31\n",
       "1  이 나영  20  2010/03/13\n",
       "2  마 징가  30  1990/05/29\n",
       "3  베 토벤  80  1980/09/21"
      ]
     },
     "execution_count": 156,
     "metadata": {},
     "output_type": "execute_result"
    }
   ],
   "source": [
    "df2.T"
   ]
  },
  {
   "cell_type": "code",
   "execution_count": 157,
   "id": "87915ec0",
   "metadata": {},
   "outputs": [
    {
     "data": {
      "text/html": [
       "<div>\n",
       "<style scoped>\n",
       "    .dataframe tbody tr th:only-of-type {\n",
       "        vertical-align: middle;\n",
       "    }\n",
       "\n",
       "    .dataframe tbody tr th {\n",
       "        vertical-align: top;\n",
       "    }\n",
       "\n",
       "    .dataframe thead th {\n",
       "        text-align: right;\n",
       "    }\n",
       "</style>\n",
       "<table border=\"1\" class=\"dataframe\">\n",
       "  <thead>\n",
       "    <tr style=\"text-align: right;\">\n",
       "      <th></th>\n",
       "      <th>0</th>\n",
       "      <th>1</th>\n",
       "      <th>2</th>\n",
       "    </tr>\n",
       "  </thead>\n",
       "  <tbody>\n",
       "    <tr>\n",
       "      <th>0</th>\n",
       "      <td>홍 길동</td>\n",
       "      <td>10</td>\n",
       "      <td>2000/01/31</td>\n",
       "    </tr>\n",
       "    <tr>\n",
       "      <th>1</th>\n",
       "      <td>이 나영</td>\n",
       "      <td>20</td>\n",
       "      <td>2010/03/13</td>\n",
       "    </tr>\n",
       "    <tr>\n",
       "      <th>2</th>\n",
       "      <td>마 징가</td>\n",
       "      <td>30</td>\n",
       "      <td>1990/05/29</td>\n",
       "    </tr>\n",
       "    <tr>\n",
       "      <th>3</th>\n",
       "      <td>베 토벤</td>\n",
       "      <td>80</td>\n",
       "      <td>1980/09/21</td>\n",
       "    </tr>\n",
       "  </tbody>\n",
       "</table>\n",
       "</div>"
      ],
      "text/plain": [
       "      0   1           2\n",
       "0  홍 길동  10  2000/01/31\n",
       "1  이 나영  20  2010/03/13\n",
       "2  마 징가  30  1990/05/29\n",
       "3  베 토벤  80  1980/09/21"
      ]
     },
     "execution_count": 157,
     "metadata": {},
     "output_type": "execute_result"
    }
   ],
   "source": [
    "df2.transpose()"
   ]
  },
  {
   "cell_type": "code",
   "execution_count": 158,
   "id": "081229a5",
   "metadata": {},
   "outputs": [
    {
     "name": "stdout",
     "output_type": "stream",
     "text": [
      "<class 'pandas.core.frame.DataFrame'>\n",
      "RangeIndex: 4 entries, 0 to 3\n",
      "Data columns (total 3 columns):\n",
      " #   Column  Non-Null Count  Dtype \n",
      "---  ------  --------------  ----- \n",
      " 0   0       4 non-null      object\n",
      " 1   1       4 non-null      object\n",
      " 2   2       4 non-null      object\n",
      "dtypes: object(3)\n",
      "memory usage: 228.0+ bytes\n"
     ]
    }
   ],
   "source": [
    "df2=df2.transpose()\n",
    "df2.info()"
   ]
  },
  {
   "cell_type": "markdown",
   "id": "00c0bb77",
   "metadata": {},
   "source": [
    "- (5-2) 실제 데이터와 타입 확인 후 형변환하기"
   ]
  },
  {
   "cell_type": "code",
   "execution_count": 159,
   "id": "9c4b5d46",
   "metadata": {},
   "outputs": [
    {
     "data": {
      "text/html": [
       "<div>\n",
       "<style scoped>\n",
       "    .dataframe tbody tr th:only-of-type {\n",
       "        vertical-align: middle;\n",
       "    }\n",
       "\n",
       "    .dataframe tbody tr th {\n",
       "        vertical-align: top;\n",
       "    }\n",
       "\n",
       "    .dataframe thead th {\n",
       "        text-align: right;\n",
       "    }\n",
       "</style>\n",
       "<table border=\"1\" class=\"dataframe\">\n",
       "  <thead>\n",
       "    <tr style=\"text-align: right;\">\n",
       "      <th></th>\n",
       "      <th>0</th>\n",
       "      <th>1</th>\n",
       "      <th>2</th>\n",
       "    </tr>\n",
       "  </thead>\n",
       "  <tbody>\n",
       "    <tr>\n",
       "      <th>0</th>\n",
       "      <td>홍 길동</td>\n",
       "      <td>10</td>\n",
       "      <td>2000/01/31</td>\n",
       "    </tr>\n",
       "    <tr>\n",
       "      <th>1</th>\n",
       "      <td>이 나영</td>\n",
       "      <td>20</td>\n",
       "      <td>2010/03/13</td>\n",
       "    </tr>\n",
       "    <tr>\n",
       "      <th>2</th>\n",
       "      <td>마 징가</td>\n",
       "      <td>30</td>\n",
       "      <td>1990/05/29</td>\n",
       "    </tr>\n",
       "    <tr>\n",
       "      <th>3</th>\n",
       "      <td>베 토벤</td>\n",
       "      <td>80</td>\n",
       "      <td>1980/09/21</td>\n",
       "    </tr>\n",
       "  </tbody>\n",
       "</table>\n",
       "</div>"
      ],
      "text/plain": [
       "      0   1           2\n",
       "0  홍 길동  10  2000/01/31\n",
       "1  이 나영  20  2010/03/13\n",
       "2  마 징가  30  1990/05/29\n",
       "3  베 토벤  80  1980/09/21"
      ]
     },
     "execution_count": 159,
     "metadata": {},
     "output_type": "execute_result"
    }
   ],
   "source": [
    "df2.head()"
   ]
  },
  {
   "cell_type": "code",
   "execution_count": 160,
   "id": "5d27f212",
   "metadata": {},
   "outputs": [],
   "source": [
    "# 1번 컬럼 : object => 정수\n",
    "df2[1] = df2[1].astype('uint8')"
   ]
  },
  {
   "cell_type": "code",
   "execution_count": 161,
   "id": "ac143e7e",
   "metadata": {},
   "outputs": [
    {
     "data": {
      "text/plain": [
       "0    object\n",
       "1     uint8\n",
       "2    object\n",
       "dtype: object"
      ]
     },
     "execution_count": 161,
     "metadata": {},
     "output_type": "execute_result"
    }
   ],
   "source": [
    "df2.dtypes"
   ]
  },
  {
   "cell_type": "code",
   "execution_count": 162,
   "id": "a2efeb9b",
   "metadata": {},
   "outputs": [],
   "source": [
    "# 2번 컬럼 : object => datetime64[ns]\n",
    "df2[2] = df2[2].astype('datetime64[ns]')"
   ]
  },
  {
   "cell_type": "code",
   "execution_count": 163,
   "id": "495de8c8",
   "metadata": {},
   "outputs": [
    {
     "data": {
      "text/plain": [
       "0            object\n",
       "1             uint8\n",
       "2    datetime64[ns]\n",
       "dtype: object"
      ]
     },
     "execution_count": 163,
     "metadata": {},
     "output_type": "execute_result"
    }
   ],
   "source": [
    "df2.dtypes"
   ]
  },
  {
   "cell_type": "markdown",
   "id": "b1cedebe",
   "metadata": {},
   "source": [
    "- (5-3) 0번 컬럼의 이름을 성과 이름으로 분리"
   ]
  },
  {
   "cell_type": "code",
   "execution_count": 164,
   "id": "1a91ab83",
   "metadata": {},
   "outputs": [
    {
     "data": {
      "text/plain": [
       "0    홍 길동\n",
       "1    이 나영\n",
       "2    마 징가\n",
       "3    베 토벤\n",
       "Name: 0, dtype: object"
      ]
     },
     "execution_count": 164,
     "metadata": {},
     "output_type": "execute_result"
    }
   ],
   "source": [
    "# 0번 컬럼만 추출\n",
    "nameSR = df2[0]\n",
    "nameSR"
   ]
  },
  {
   "cell_type": "code",
   "execution_count": 165,
   "id": "0eb4304b",
   "metadata": {},
   "outputs": [
    {
     "data": {
      "text/plain": [
       "(str, '이 나영')"
      ]
     },
     "execution_count": 165,
     "metadata": {},
     "output_type": "execute_result"
    }
   ],
   "source": [
    "# \"이 나영\" 데이터를 추출 => 성과 이름으로 분리\n",
    "type(nameSR[1]), nameSR[1].upper()"
   ]
  },
  {
   "cell_type": "code",
   "execution_count": 166,
   "id": "f1d8556c",
   "metadata": {},
   "outputs": [],
   "source": [
    "#for idx in range(nameSR.shape[0]):\n",
    "#    nameSR[idx] = nameSR[idx].split()"
   ]
  },
  {
   "cell_type": "code",
   "execution_count": 167,
   "id": "fddeb146",
   "metadata": {},
   "outputs": [],
   "source": [
    "namesDF = nameSR.str.split(expand=True)"
   ]
  },
  {
   "cell_type": "code",
   "execution_count": 168,
   "id": "567a4311",
   "metadata": {},
   "outputs": [
    {
     "data": {
      "text/plain": [
       "(      0   1          2\n",
       " 0  홍 길동  10 2000-01-31\n",
       " 1  이 나영  20 2010-03-13\n",
       " 2  마 징가  30 1990-05-29\n",
       " 3  베 토벤  80 1980-09-21,\n",
       "    0   1\n",
       " 0  홍  길동\n",
       " 1  이  나영\n",
       " 2  마  징가\n",
       " 3  베  토벤)"
      ]
     },
     "execution_count": 168,
     "metadata": {},
     "output_type": "execute_result"
    }
   ],
   "source": [
    "df2, namesDF"
   ]
  },
  {
   "cell_type": "markdown",
   "id": "c050cb92",
   "metadata": {},
   "source": [
    "- (5-4) 두 개의 DataFrame을 컬럼 방향으로 연결"
   ]
  },
  {
   "cell_type": "code",
   "execution_count": 169,
   "id": "867db67a",
   "metadata": {},
   "outputs": [
    {
     "data": {
      "text/html": [
       "<div>\n",
       "<style scoped>\n",
       "    .dataframe tbody tr th:only-of-type {\n",
       "        vertical-align: middle;\n",
       "    }\n",
       "\n",
       "    .dataframe tbody tr th {\n",
       "        vertical-align: top;\n",
       "    }\n",
       "\n",
       "    .dataframe thead th {\n",
       "        text-align: right;\n",
       "    }\n",
       "</style>\n",
       "<table border=\"1\" class=\"dataframe\">\n",
       "  <thead>\n",
       "    <tr style=\"text-align: right;\">\n",
       "      <th></th>\n",
       "      <th>0</th>\n",
       "      <th>1</th>\n",
       "      <th>2</th>\n",
       "      <th>3</th>\n",
       "      <th>4</th>\n",
       "    </tr>\n",
       "  </thead>\n",
       "  <tbody>\n",
       "    <tr>\n",
       "      <th>0</th>\n",
       "      <td>홍 길동</td>\n",
       "      <td>10</td>\n",
       "      <td>2000-01-31</td>\n",
       "      <td>홍</td>\n",
       "      <td>길동</td>\n",
       "    </tr>\n",
       "    <tr>\n",
       "      <th>1</th>\n",
       "      <td>이 나영</td>\n",
       "      <td>20</td>\n",
       "      <td>2010-03-13</td>\n",
       "      <td>이</td>\n",
       "      <td>나영</td>\n",
       "    </tr>\n",
       "    <tr>\n",
       "      <th>2</th>\n",
       "      <td>마 징가</td>\n",
       "      <td>30</td>\n",
       "      <td>1990-05-29</td>\n",
       "      <td>마</td>\n",
       "      <td>징가</td>\n",
       "    </tr>\n",
       "    <tr>\n",
       "      <th>3</th>\n",
       "      <td>베 토벤</td>\n",
       "      <td>80</td>\n",
       "      <td>1980-09-21</td>\n",
       "      <td>베</td>\n",
       "      <td>토벤</td>\n",
       "    </tr>\n",
       "  </tbody>\n",
       "</table>\n",
       "</div>"
      ],
      "text/plain": [
       "      0   1          2  3   4\n",
       "0  홍 길동  10 2000-01-31  홍  길동\n",
       "1  이 나영  20 2010-03-13  이  나영\n",
       "2  마 징가  30 1990-05-29  마  징가\n",
       "3  베 토벤  80 1980-09-21  베  토벤"
      ]
     },
     "execution_count": 169,
     "metadata": {},
     "output_type": "execute_result"
    }
   ],
   "source": [
    "pd.concat([df2, namesDF], axis=\"columns\", ignore_index=True)"
   ]
  },
  {
   "cell_type": "markdown",
   "id": "9b4d0095",
   "metadata": {},
   "source": [
    "- (5-5) 2번 컬럼에서 년,월,일을 분리"
   ]
  },
  {
   "cell_type": "code",
   "execution_count": 170,
   "id": "0bb2b33e",
   "metadata": {},
   "outputs": [
    {
     "data": {
      "text/plain": [
       "0   2000-01-31\n",
       "1   2010-03-13\n",
       "2   1990-05-29\n",
       "3   1980-09-21\n",
       "Name: 2, dtype: datetime64[ns]"
      ]
     },
     "execution_count": 170,
     "metadata": {},
     "output_type": "execute_result"
    }
   ],
   "source": [
    "df2[2]"
   ]
  },
  {
   "cell_type": "code",
   "execution_count": 174,
   "id": "6f148829",
   "metadata": {},
   "outputs": [],
   "source": [
    "yearSR = df2[2].dt.year"
   ]
  },
  {
   "cell_type": "code",
   "execution_count": 175,
   "id": "57266a4d",
   "metadata": {},
   "outputs": [],
   "source": [
    "monthSR = df2[2].dt.month"
   ]
  },
  {
   "cell_type": "code",
   "execution_count": 176,
   "id": "795103a7",
   "metadata": {},
   "outputs": [],
   "source": [
    "daySR = df2[2].dt.day"
   ]
  },
  {
   "cell_type": "code",
   "execution_count": 177,
   "id": "2609b5e1",
   "metadata": {},
   "outputs": [
    {
     "data": {
      "text/html": [
       "<div>\n",
       "<style scoped>\n",
       "    .dataframe tbody tr th:only-of-type {\n",
       "        vertical-align: middle;\n",
       "    }\n",
       "\n",
       "    .dataframe tbody tr th {\n",
       "        vertical-align: top;\n",
       "    }\n",
       "\n",
       "    .dataframe thead th {\n",
       "        text-align: right;\n",
       "    }\n",
       "</style>\n",
       "<table border=\"1\" class=\"dataframe\">\n",
       "  <thead>\n",
       "    <tr style=\"text-align: right;\">\n",
       "      <th></th>\n",
       "      <th>0</th>\n",
       "      <th>1</th>\n",
       "      <th>2</th>\n",
       "      <th>3</th>\n",
       "    </tr>\n",
       "  </thead>\n",
       "  <tbody>\n",
       "    <tr>\n",
       "      <th>0</th>\n",
       "      <td>홍 길동</td>\n",
       "      <td>10</td>\n",
       "      <td>2000-01-31</td>\n",
       "      <td>2000</td>\n",
       "    </tr>\n",
       "    <tr>\n",
       "      <th>1</th>\n",
       "      <td>이 나영</td>\n",
       "      <td>20</td>\n",
       "      <td>2010-03-13</td>\n",
       "      <td>2010</td>\n",
       "    </tr>\n",
       "    <tr>\n",
       "      <th>2</th>\n",
       "      <td>마 징가</td>\n",
       "      <td>30</td>\n",
       "      <td>1990-05-29</td>\n",
       "      <td>1990</td>\n",
       "    </tr>\n",
       "    <tr>\n",
       "      <th>3</th>\n",
       "      <td>베 토벤</td>\n",
       "      <td>80</td>\n",
       "      <td>1980-09-21</td>\n",
       "      <td>1980</td>\n",
       "    </tr>\n",
       "  </tbody>\n",
       "</table>\n",
       "</div>"
      ],
      "text/plain": [
       "      0   1          2     3\n",
       "0  홍 길동  10 2000-01-31  2000\n",
       "1  이 나영  20 2010-03-13  2010\n",
       "2  마 징가  30 1990-05-29  1990\n",
       "3  베 토벤  80 1980-09-21  1980"
      ]
     },
     "execution_count": 177,
     "metadata": {},
     "output_type": "execute_result"
    }
   ],
   "source": [
    "pd.concat([df2, yearSR], axis=1, ignore_index=True)"
   ]
  },
  {
   "cell_type": "code",
   "execution_count": 178,
   "id": "28e22bfa",
   "metadata": {},
   "outputs": [
    {
     "data": {
      "text/html": [
       "<div>\n",
       "<style scoped>\n",
       "    .dataframe tbody tr th:only-of-type {\n",
       "        vertical-align: middle;\n",
       "    }\n",
       "\n",
       "    .dataframe tbody tr th {\n",
       "        vertical-align: top;\n",
       "    }\n",
       "\n",
       "    .dataframe thead th {\n",
       "        text-align: right;\n",
       "    }\n",
       "</style>\n",
       "<table border=\"1\" class=\"dataframe\">\n",
       "  <thead>\n",
       "    <tr style=\"text-align: right;\">\n",
       "      <th></th>\n",
       "      <th>0</th>\n",
       "      <th>1</th>\n",
       "      <th>2</th>\n",
       "      <th>3</th>\n",
       "      <th>4</th>\n",
       "      <th>5</th>\n",
       "    </tr>\n",
       "  </thead>\n",
       "  <tbody>\n",
       "    <tr>\n",
       "      <th>0</th>\n",
       "      <td>홍 길동</td>\n",
       "      <td>10</td>\n",
       "      <td>2000-01-31</td>\n",
       "      <td>2000</td>\n",
       "      <td>1</td>\n",
       "      <td>31</td>\n",
       "    </tr>\n",
       "    <tr>\n",
       "      <th>1</th>\n",
       "      <td>이 나영</td>\n",
       "      <td>20</td>\n",
       "      <td>2010-03-13</td>\n",
       "      <td>2010</td>\n",
       "      <td>3</td>\n",
       "      <td>13</td>\n",
       "    </tr>\n",
       "    <tr>\n",
       "      <th>2</th>\n",
       "      <td>마 징가</td>\n",
       "      <td>30</td>\n",
       "      <td>1990-05-29</td>\n",
       "      <td>1990</td>\n",
       "      <td>5</td>\n",
       "      <td>29</td>\n",
       "    </tr>\n",
       "    <tr>\n",
       "      <th>3</th>\n",
       "      <td>베 토벤</td>\n",
       "      <td>80</td>\n",
       "      <td>1980-09-21</td>\n",
       "      <td>1980</td>\n",
       "      <td>9</td>\n",
       "      <td>21</td>\n",
       "    </tr>\n",
       "  </tbody>\n",
       "</table>\n",
       "</div>"
      ],
      "text/plain": [
       "      0   1          2     3  4   5\n",
       "0  홍 길동  10 2000-01-31  2000  1  31\n",
       "1  이 나영  20 2010-03-13  2010  3  13\n",
       "2  마 징가  30 1990-05-29  1990  5  29\n",
       "3  베 토벤  80 1980-09-21  1980  9  21"
      ]
     },
     "execution_count": 178,
     "metadata": {},
     "output_type": "execute_result"
    }
   ],
   "source": [
    "pd.concat([df2, yearSR, monthSR, daySR], axis=1, ignore_index=True)"
   ]
  },
  {
   "cell_type": "markdown",
   "id": "ec491282",
   "metadata": {},
   "source": [
    "- (5-6) 현재 DataFrame을 파일로 저장하기 => pandas.to_XXX(\"파일경로+파일명\")"
   ]
  },
  {
   "cell_type": "code",
   "execution_count": 179,
   "id": "c25180cc",
   "metadata": {},
   "outputs": [],
   "source": [
    "# CSV ==> 데이터와 데이터의 구분자\n",
    "filename=\"./backup.csv\"      # \"backup.csv\""
   ]
  },
  {
   "cell_type": "code",
   "execution_count": 184,
   "id": "3ccf9305",
   "metadata": {},
   "outputs": [],
   "source": [
    "df2.to_csv(filename, sep=\" \", header=False, index=False)"
   ]
  },
  {
   "cell_type": "code",
   "execution_count": 187,
   "id": "3efbff27",
   "metadata": {},
   "outputs": [
    {
     "data": {
      "text/html": [
       "<div>\n",
       "<style scoped>\n",
       "    .dataframe tbody tr th:only-of-type {\n",
       "        vertical-align: middle;\n",
       "    }\n",
       "\n",
       "    .dataframe tbody tr th {\n",
       "        vertical-align: top;\n",
       "    }\n",
       "\n",
       "    .dataframe thead th {\n",
       "        text-align: right;\n",
       "    }\n",
       "</style>\n",
       "<table border=\"1\" class=\"dataframe\">\n",
       "  <thead>\n",
       "    <tr style=\"text-align: right;\">\n",
       "      <th></th>\n",
       "      <th>0</th>\n",
       "      <th>1</th>\n",
       "      <th>2</th>\n",
       "    </tr>\n",
       "  </thead>\n",
       "  <tbody>\n",
       "    <tr>\n",
       "      <th>0</th>\n",
       "      <td>홍 길동</td>\n",
       "      <td>10</td>\n",
       "      <td>2000-01-31</td>\n",
       "    </tr>\n",
       "    <tr>\n",
       "      <th>1</th>\n",
       "      <td>이 나영</td>\n",
       "      <td>20</td>\n",
       "      <td>2010-03-13</td>\n",
       "    </tr>\n",
       "    <tr>\n",
       "      <th>2</th>\n",
       "      <td>마 징가</td>\n",
       "      <td>30</td>\n",
       "      <td>1990-05-29</td>\n",
       "    </tr>\n",
       "    <tr>\n",
       "      <th>3</th>\n",
       "      <td>베 토벤</td>\n",
       "      <td>80</td>\n",
       "      <td>1980-09-21</td>\n",
       "    </tr>\n",
       "  </tbody>\n",
       "</table>\n",
       "</div>"
      ],
      "text/plain": [
       "      0   1           2\n",
       "0  홍 길동  10  2000-01-31\n",
       "1  이 나영  20  2010-03-13\n",
       "2  마 징가  30  1990-05-29\n",
       "3  베 토벤  80  1980-09-21"
      ]
     },
     "execution_count": 187,
     "metadata": {},
     "output_type": "execute_result"
    }
   ],
   "source": [
    "pd.read_csv(filename, header=None, sep=\" \")"
   ]
  },
  {
   "cell_type": "code",
   "execution_count": null,
   "id": "0f568c60",
   "metadata": {},
   "outputs": [],
   "source": []
  }
 ],
 "metadata": {
  "kernelspec": {
   "display_name": "Python 3 (ipykernel)",
   "language": "python",
   "name": "python3"
  },
  "language_info": {
   "codemirror_mode": {
    "name": "ipython",
    "version": 3
   },
   "file_extension": ".py",
   "mimetype": "text/x-python",
   "name": "python",
   "nbconvert_exporter": "python",
   "pygments_lexer": "ipython3",
   "version": "3.11.5"
  }
 },
 "nbformat": 4,
 "nbformat_minor": 5
}
