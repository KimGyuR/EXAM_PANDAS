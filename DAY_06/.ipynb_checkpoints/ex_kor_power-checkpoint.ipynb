{
 "cells": [
  {
   "cell_type": "markdown",
   "id": "d42a3839",
   "metadata": {},
   "source": [
    "### [ 데이터기반 시각화 ]\n",
    "- 데이터 : 남북한발전전력.xlsx\n",
    "- 남북한 수력발전전력에 대한 시각화"
   ]
  },
  {
   "cell_type": "markdown",
   "id": "78bab7c4",
   "metadata": {},
   "source": [
    "(1) 모듈 로딩 <hr>"
   ]
  },
  {
   "cell_type": "code",
   "execution_count": 220,
   "id": "a1fa3ce1",
   "metadata": {},
   "outputs": [],
   "source": [
    "import pandas as pd\n",
    "import matplotlib.pyplot as plt\n",
    "import matplotlib as mpl\n",
    "import matplotlib.font_manager as fm\n",
    "import numpy as np"
   ]
  },
  {
   "cell_type": "markdown",
   "id": "b518aec5",
   "metadata": {},
   "source": [
    "(2) 데이터 준비 <hr>"
   ]
  },
  {
   "cell_type": "code",
   "execution_count": 221,
   "id": "88882c00",
   "metadata": {},
   "outputs": [],
   "source": [
    "file='../DATA/남북한발전전력량.xlsx'"
   ]
  },
  {
   "cell_type": "markdown",
   "id": "9733aaa3",
   "metadata": {},
   "source": [
    "- 실제 데이터 파일 확인 결과\n",
    "* 첫 번째 행은 컬럼명 데이터\n",
    "* 첫 번째와 두번째 컬럼을 행 인덱스 사용으로 적합\n",
    "* 입력값이 없는 쉘에 '-' 채워져 있음 =>  insnull/isna로는 결측치 체크 X \n",
    "    - 삭제하지 않고 대체로 처리 => 대체값 0"
   ]
  },
  {
   "cell_type": "markdown",
   "id": "d9a2d24e",
   "metadata": {},
   "source": [
    "(3) 데이터 저장 : EXCEL => DataFrame"
   ]
  },
  {
   "cell_type": "code",
   "execution_count": 222,
   "id": "4154b137",
   "metadata": {},
   "outputs": [],
   "source": [
    "korpowerDF=pd.read_excel(file, index_col=[0,1])"
   ]
  },
  {
   "cell_type": "markdown",
   "id": "54b889e3",
   "metadata": {},
   "source": [
    "(4) 데이터 확인"
   ]
  },
  {
   "cell_type": "markdown",
   "id": "19ec24b8",
   "metadata": {},
   "source": [
    "- (4-1) 데이터 타입과 실제 데이터 체크\n",
    "    * '-' 데이터를 '0'으로 변경\n",
    "    * object 타입을 uint16 변경"
   ]
  },
  {
   "cell_type": "code",
   "execution_count": 223,
   "id": "edd0a4a2",
   "metadata": {},
   "outputs": [
    {
     "name": "stdout",
     "output_type": "stream",
     "text": [
      "<class 'pandas.core.frame.DataFrame'>\n",
      "MultiIndex: 9 entries, ('남한', '합계') to ('북한', '원자력')\n",
      "Data columns (total 27 columns):\n",
      " #   Column  Non-Null Count  Dtype \n",
      "---  ------  --------------  ----- \n",
      " 0   1990    9 non-null      object\n",
      " 1   1991    9 non-null      object\n",
      " 2   1992    9 non-null      object\n",
      " 3   1993    9 non-null      object\n",
      " 4   1994    9 non-null      object\n",
      " 5   1995    9 non-null      object\n",
      " 6   1996    9 non-null      object\n",
      " 7   1997    9 non-null      object\n",
      " 8   1998    9 non-null      object\n",
      " 9   1999    9 non-null      object\n",
      " 10  2000    9 non-null      object\n",
      " 11  2001    9 non-null      object\n",
      " 12  2002    9 non-null      object\n",
      " 13  2003    9 non-null      object\n",
      " 14  2004    9 non-null      object\n",
      " 15  2005    9 non-null      object\n",
      " 16  2006    9 non-null      object\n",
      " 17  2007    9 non-null      object\n",
      " 18  2008    9 non-null      object\n",
      " 19  2009    9 non-null      object\n",
      " 20  2010    9 non-null      object\n",
      " 21  2011    9 non-null      object\n",
      " 22  2012    9 non-null      object\n",
      " 23  2013    9 non-null      object\n",
      " 24  2014    9 non-null      object\n",
      " 25  2015    9 non-null      object\n",
      " 26  2016    9 non-null      object\n",
      "dtypes: object(27)\n",
      "memory usage: 2.4+ KB\n"
     ]
    }
   ],
   "source": [
    "korpowerDF.info()"
   ]
  },
  {
   "cell_type": "code",
   "execution_count": 224,
   "id": "f7f00dcd",
   "metadata": {},
   "outputs": [
    {
     "data": {
      "text/html": [
       "<div>\n",
       "<style scoped>\n",
       "    .dataframe tbody tr th:only-of-type {\n",
       "        vertical-align: middle;\n",
       "    }\n",
       "\n",
       "    .dataframe tbody tr th {\n",
       "        vertical-align: top;\n",
       "    }\n",
       "\n",
       "    .dataframe thead th {\n",
       "        text-align: right;\n",
       "    }\n",
       "</style>\n",
       "<table border=\"1\" class=\"dataframe\">\n",
       "  <thead>\n",
       "    <tr style=\"text-align: right;\">\n",
       "      <th></th>\n",
       "      <th></th>\n",
       "      <th>1990</th>\n",
       "      <th>1991</th>\n",
       "      <th>1992</th>\n",
       "      <th>1993</th>\n",
       "      <th>1994</th>\n",
       "      <th>1995</th>\n",
       "      <th>1996</th>\n",
       "      <th>1997</th>\n",
       "      <th>1998</th>\n",
       "      <th>1999</th>\n",
       "      <th>...</th>\n",
       "      <th>2007</th>\n",
       "      <th>2008</th>\n",
       "      <th>2009</th>\n",
       "      <th>2010</th>\n",
       "      <th>2011</th>\n",
       "      <th>2012</th>\n",
       "      <th>2013</th>\n",
       "      <th>2014</th>\n",
       "      <th>2015</th>\n",
       "      <th>2016</th>\n",
       "    </tr>\n",
       "    <tr>\n",
       "      <th>전력량 (억㎾h)</th>\n",
       "      <th>발전 전력별</th>\n",
       "      <th></th>\n",
       "      <th></th>\n",
       "      <th></th>\n",
       "      <th></th>\n",
       "      <th></th>\n",
       "      <th></th>\n",
       "      <th></th>\n",
       "      <th></th>\n",
       "      <th></th>\n",
       "      <th></th>\n",
       "      <th></th>\n",
       "      <th></th>\n",
       "      <th></th>\n",
       "      <th></th>\n",
       "      <th></th>\n",
       "      <th></th>\n",
       "      <th></th>\n",
       "      <th></th>\n",
       "      <th></th>\n",
       "      <th></th>\n",
       "      <th></th>\n",
       "    </tr>\n",
       "  </thead>\n",
       "  <tbody>\n",
       "    <tr>\n",
       "      <th rowspan=\"5\" valign=\"top\">남한</th>\n",
       "      <th>합계</th>\n",
       "      <td>1077</td>\n",
       "      <td>1186</td>\n",
       "      <td>1310</td>\n",
       "      <td>1444</td>\n",
       "      <td>1650</td>\n",
       "      <td>1847</td>\n",
       "      <td>2055</td>\n",
       "      <td>2244</td>\n",
       "      <td>2153</td>\n",
       "      <td>2393</td>\n",
       "      <td>...</td>\n",
       "      <td>4031</td>\n",
       "      <td>4224</td>\n",
       "      <td>4336</td>\n",
       "      <td>4747</td>\n",
       "      <td>4969</td>\n",
       "      <td>5096</td>\n",
       "      <td>5171</td>\n",
       "      <td>5220</td>\n",
       "      <td>5281</td>\n",
       "      <td>5404</td>\n",
       "    </tr>\n",
       "    <tr>\n",
       "      <th>수력</th>\n",
       "      <td>64</td>\n",
       "      <td>51</td>\n",
       "      <td>49</td>\n",
       "      <td>60</td>\n",
       "      <td>41</td>\n",
       "      <td>55</td>\n",
       "      <td>52</td>\n",
       "      <td>54</td>\n",
       "      <td>61</td>\n",
       "      <td>61</td>\n",
       "      <td>...</td>\n",
       "      <td>50</td>\n",
       "      <td>56</td>\n",
       "      <td>56</td>\n",
       "      <td>65</td>\n",
       "      <td>78</td>\n",
       "      <td>77</td>\n",
       "      <td>84</td>\n",
       "      <td>78</td>\n",
       "      <td>58</td>\n",
       "      <td>66</td>\n",
       "    </tr>\n",
       "    <tr>\n",
       "      <th>화력</th>\n",
       "      <td>484</td>\n",
       "      <td>573</td>\n",
       "      <td>696</td>\n",
       "      <td>803</td>\n",
       "      <td>1022</td>\n",
       "      <td>1122</td>\n",
       "      <td>1264</td>\n",
       "      <td>1420</td>\n",
       "      <td>1195</td>\n",
       "      <td>1302</td>\n",
       "      <td>...</td>\n",
       "      <td>2551</td>\n",
       "      <td>2658</td>\n",
       "      <td>2802</td>\n",
       "      <td>3196</td>\n",
       "      <td>3343</td>\n",
       "      <td>3430</td>\n",
       "      <td>3581</td>\n",
       "      <td>3427</td>\n",
       "      <td>3402</td>\n",
       "      <td>3523</td>\n",
       "    </tr>\n",
       "    <tr>\n",
       "      <th>원자력</th>\n",
       "      <td>529</td>\n",
       "      <td>563</td>\n",
       "      <td>565</td>\n",
       "      <td>581</td>\n",
       "      <td>587</td>\n",
       "      <td>670</td>\n",
       "      <td>739</td>\n",
       "      <td>771</td>\n",
       "      <td>897</td>\n",
       "      <td>1031</td>\n",
       "      <td>...</td>\n",
       "      <td>1429</td>\n",
       "      <td>1510</td>\n",
       "      <td>1478</td>\n",
       "      <td>1486</td>\n",
       "      <td>1547</td>\n",
       "      <td>1503</td>\n",
       "      <td>1388</td>\n",
       "      <td>1564</td>\n",
       "      <td>1648</td>\n",
       "      <td>1620</td>\n",
       "    </tr>\n",
       "    <tr>\n",
       "      <th>신재생</th>\n",
       "      <td>-</td>\n",
       "      <td>-</td>\n",
       "      <td>-</td>\n",
       "      <td>-</td>\n",
       "      <td>-</td>\n",
       "      <td>-</td>\n",
       "      <td>-</td>\n",
       "      <td>-</td>\n",
       "      <td>-</td>\n",
       "      <td>-</td>\n",
       "      <td>...</td>\n",
       "      <td>-</td>\n",
       "      <td>-</td>\n",
       "      <td>-</td>\n",
       "      <td>-</td>\n",
       "      <td>-</td>\n",
       "      <td>86</td>\n",
       "      <td>118</td>\n",
       "      <td>151</td>\n",
       "      <td>173</td>\n",
       "      <td>195</td>\n",
       "    </tr>\n",
       "  </tbody>\n",
       "</table>\n",
       "<p>5 rows × 27 columns</p>\n",
       "</div>"
      ],
      "text/plain": [
       "                  1990  1991  1992  1993  1994  1995  1996  1997  1998  1999  \\\n",
       "전력량 (억㎾h) 발전 전력별                                                               \n",
       "남한        합계      1077  1186  1310  1444  1650  1847  2055  2244  2153  2393   \n",
       "          수력        64    51    49    60    41    55    52    54    61    61   \n",
       "          화력       484   573   696   803  1022  1122  1264  1420  1195  1302   \n",
       "          원자력      529   563   565   581   587   670   739   771   897  1031   \n",
       "          신재생        -     -     -     -     -     -     -     -     -     -   \n",
       "\n",
       "                  ...  2007  2008  2009  2010  2011  2012  2013  2014  2015  \\\n",
       "전력량 (억㎾h) 발전 전력별  ...                                                         \n",
       "남한        합계      ...  4031  4224  4336  4747  4969  5096  5171  5220  5281   \n",
       "          수력      ...    50    56    56    65    78    77    84    78    58   \n",
       "          화력      ...  2551  2658  2802  3196  3343  3430  3581  3427  3402   \n",
       "          원자력     ...  1429  1510  1478  1486  1547  1503  1388  1564  1648   \n",
       "          신재생     ...     -     -     -     -     -    86   118   151   173   \n",
       "\n",
       "                  2016  \n",
       "전력량 (억㎾h) 발전 전력별        \n",
       "남한        합계      5404  \n",
       "          수력        66  \n",
       "          화력      3523  \n",
       "          원자력     1620  \n",
       "          신재생      195  \n",
       "\n",
       "[5 rows x 27 columns]"
      ]
     },
     "execution_count": 224,
     "metadata": {},
     "output_type": "execute_result"
    }
   ],
   "source": [
    "korpowerDF.head()"
   ]
  },
  {
   "cell_type": "markdown",
   "id": "1a56a194",
   "metadata": {},
   "source": [
    "- (4-2) 인덱스와 컬럼 속성 확인"
   ]
  },
  {
   "cell_type": "code",
   "execution_count": 225,
   "id": "43ae8368",
   "metadata": {},
   "outputs": [
    {
     "name": "stdout",
     "output_type": "stream",
     "text": [
      "MultiIndex([('남한',  '합계'),\n",
      "            ('남한',  '수력'),\n",
      "            ('남한',  '화력'),\n",
      "            ('남한', '원자력'),\n",
      "            ('남한', '신재생'),\n",
      "            ('북한',  '합계'),\n",
      "            ('북한',  '수력'),\n",
      "            ('북한',  '화력'),\n",
      "            ('북한', '원자력')],\n",
      "           names=['전력량 (억㎾h)', '발전 전력별'])\n",
      "\n",
      "Index(['1990', '1991', '1992', '1993', '1994', '1995', '1996', '1997', '1998',\n",
      "       '1999', '2000', '2001', '2002', '2003', '2004', '2005', '2006', '2007',\n",
      "       '2008', '2009', '2010', '2011', '2012', '2013', '2014', '2015', '2016'],\n",
      "      dtype='object')\n"
     ]
    }
   ],
   "source": [
    "print(korpowerDF.index, korpowerDF.columns, sep='\\n\\n')"
   ]
  },
  {
   "cell_type": "markdown",
   "id": "883938e2",
   "metadata": {},
   "source": [
    "(5) 데이터 전처리"
   ]
  },
  {
   "cell_type": "markdown",
   "id": "f755fc1b",
   "metadata": {},
   "source": [
    "- (5-1) 데이터 자료형 변환"
   ]
  },
  {
   "cell_type": "code",
   "execution_count": 226,
   "id": "05de0c51",
   "metadata": {},
   "outputs": [],
   "source": [
    "# '-' => '0'\n",
    "korpowerDF2 = korpowerDF.replace('-','0')"
   ]
  },
  {
   "cell_type": "code",
   "execution_count": 227,
   "id": "2a97084d",
   "metadata": {},
   "outputs": [
    {
     "name": "stdout",
     "output_type": "stream",
     "text": [
      "<class 'pandas.core.frame.DataFrame'>\n",
      "MultiIndex: 9 entries, ('남한', '합계') to ('북한', '원자력')\n",
      "Data columns (total 27 columns):\n",
      " #   Column  Non-Null Count  Dtype\n",
      "---  ------  --------------  -----\n",
      " 0   1990    9 non-null      int16\n",
      " 1   1991    9 non-null      int16\n",
      " 2   1992    9 non-null      int16\n",
      " 3   1993    9 non-null      int16\n",
      " 4   1994    9 non-null      int16\n",
      " 5   1995    9 non-null      int16\n",
      " 6   1996    9 non-null      int16\n",
      " 7   1997    9 non-null      int16\n",
      " 8   1998    9 non-null      int16\n",
      " 9   1999    9 non-null      int16\n",
      " 10  2000    9 non-null      int16\n",
      " 11  2001    9 non-null      int16\n",
      " 12  2002    9 non-null      int16\n",
      " 13  2003    9 non-null      int16\n",
      " 14  2004    9 non-null      int16\n",
      " 15  2005    9 non-null      int16\n",
      " 16  2006    9 non-null      int16\n",
      " 17  2007    9 non-null      int16\n",
      " 18  2008    9 non-null      int16\n",
      " 19  2009    9 non-null      int16\n",
      " 20  2010    9 non-null      int16\n",
      " 21  2011    9 non-null      int16\n",
      " 22  2012    9 non-null      int16\n",
      " 23  2013    9 non-null      int16\n",
      " 24  2014    9 non-null      int16\n",
      " 25  2015    9 non-null      int16\n",
      " 26  2016    9 non-null      int16\n",
      "dtypes: int16(27)\n",
      "memory usage: 1018.0+ bytes\n"
     ]
    }
   ],
   "source": [
    "# object => int16\n",
    "korpowerDF2 = korpowerDF2.astype('int16')\n",
    "korpowerDF2.info()"
   ]
  },
  {
   "cell_type": "markdown",
   "id": "2ce44867",
   "metadata": {},
   "source": [
    "(6) 데이터 분석 작업 <hr>"
   ]
  },
  {
   "cell_type": "markdown",
   "id": "b2e0cc1b",
   "metadata": {},
   "source": [
    "- 남북한의 수력발전량 비교하기"
   ]
  },
  {
   "cell_type": "code",
   "execution_count": 228,
   "id": "82c962a6",
   "metadata": {},
   "outputs": [
    {
     "data": {
      "text/plain": [
       "(2, 27)"
      ]
     },
     "execution_count": 228,
     "metadata": {},
     "output_type": "execute_result"
    }
   ],
   "source": [
    "# 수력발전량 행 데이터 추출\n",
    "waterDF = korpowerDF2.xs('수력', level=1)\n",
    "waterDF.shape"
   ]
  },
  {
   "cell_type": "code",
   "execution_count": 229,
   "id": "e54fcbad",
   "metadata": {},
   "outputs": [
    {
     "data": {
      "text/html": [
       "<div>\n",
       "<style scoped>\n",
       "    .dataframe tbody tr th:only-of-type {\n",
       "        vertical-align: middle;\n",
       "    }\n",
       "\n",
       "    .dataframe tbody tr th {\n",
       "        vertical-align: top;\n",
       "    }\n",
       "\n",
       "    .dataframe thead th {\n",
       "        text-align: right;\n",
       "    }\n",
       "</style>\n",
       "<table border=\"1\" class=\"dataframe\">\n",
       "  <thead>\n",
       "    <tr style=\"text-align: right;\">\n",
       "      <th></th>\n",
       "      <th>1990</th>\n",
       "      <th>1991</th>\n",
       "      <th>1992</th>\n",
       "      <th>1993</th>\n",
       "      <th>1994</th>\n",
       "      <th>1995</th>\n",
       "      <th>1996</th>\n",
       "      <th>1997</th>\n",
       "      <th>1998</th>\n",
       "      <th>1999</th>\n",
       "      <th>...</th>\n",
       "      <th>2007</th>\n",
       "      <th>2008</th>\n",
       "      <th>2009</th>\n",
       "      <th>2010</th>\n",
       "      <th>2011</th>\n",
       "      <th>2012</th>\n",
       "      <th>2013</th>\n",
       "      <th>2014</th>\n",
       "      <th>2015</th>\n",
       "      <th>2016</th>\n",
       "    </tr>\n",
       "    <tr>\n",
       "      <th>전력량 (억㎾h)</th>\n",
       "      <th></th>\n",
       "      <th></th>\n",
       "      <th></th>\n",
       "      <th></th>\n",
       "      <th></th>\n",
       "      <th></th>\n",
       "      <th></th>\n",
       "      <th></th>\n",
       "      <th></th>\n",
       "      <th></th>\n",
       "      <th></th>\n",
       "      <th></th>\n",
       "      <th></th>\n",
       "      <th></th>\n",
       "      <th></th>\n",
       "      <th></th>\n",
       "      <th></th>\n",
       "      <th></th>\n",
       "      <th></th>\n",
       "      <th></th>\n",
       "      <th></th>\n",
       "    </tr>\n",
       "  </thead>\n",
       "  <tbody>\n",
       "    <tr>\n",
       "      <th>남한</th>\n",
       "      <td>64</td>\n",
       "      <td>51</td>\n",
       "      <td>49</td>\n",
       "      <td>60</td>\n",
       "      <td>41</td>\n",
       "      <td>55</td>\n",
       "      <td>52</td>\n",
       "      <td>54</td>\n",
       "      <td>61</td>\n",
       "      <td>61</td>\n",
       "      <td>...</td>\n",
       "      <td>50</td>\n",
       "      <td>56</td>\n",
       "      <td>56</td>\n",
       "      <td>65</td>\n",
       "      <td>78</td>\n",
       "      <td>77</td>\n",
       "      <td>84</td>\n",
       "      <td>78</td>\n",
       "      <td>58</td>\n",
       "      <td>66</td>\n",
       "    </tr>\n",
       "    <tr>\n",
       "      <th>북한</th>\n",
       "      <td>156</td>\n",
       "      <td>150</td>\n",
       "      <td>142</td>\n",
       "      <td>133</td>\n",
       "      <td>138</td>\n",
       "      <td>142</td>\n",
       "      <td>125</td>\n",
       "      <td>107</td>\n",
       "      <td>102</td>\n",
       "      <td>103</td>\n",
       "      <td>...</td>\n",
       "      <td>133</td>\n",
       "      <td>141</td>\n",
       "      <td>125</td>\n",
       "      <td>134</td>\n",
       "      <td>132</td>\n",
       "      <td>135</td>\n",
       "      <td>139</td>\n",
       "      <td>130</td>\n",
       "      <td>100</td>\n",
       "      <td>128</td>\n",
       "    </tr>\n",
       "  </tbody>\n",
       "</table>\n",
       "<p>2 rows × 27 columns</p>\n",
       "</div>"
      ],
      "text/plain": [
       "           1990  1991  1992  1993  1994  1995  1996  1997  1998  1999  ...  \\\n",
       "전력량 (억㎾h)                                                              ...   \n",
       "남한           64    51    49    60    41    55    52    54    61    61  ...   \n",
       "북한          156   150   142   133   138   142   125   107   102   103  ...   \n",
       "\n",
       "           2007  2008  2009  2010  2011  2012  2013  2014  2015  2016  \n",
       "전력량 (억㎾h)                                                              \n",
       "남한           50    56    56    65    78    77    84    78    58    66  \n",
       "북한          133   141   125   134   132   135   139   130   100   128  \n",
       "\n",
       "[2 rows x 27 columns]"
      ]
     },
     "execution_count": 229,
     "metadata": {},
     "output_type": "execute_result"
    }
   ],
   "source": [
    "waterDF"
   ]
  },
  {
   "cell_type": "code",
   "execution_count": 230,
   "id": "13d43722",
   "metadata": {},
   "outputs": [],
   "source": [
    "font_path = r'C:\\Windows\\Fonts\\NGULIM.TTF'  "
   ]
  },
  {
   "cell_type": "code",
   "execution_count": 231,
   "id": "08e323a4",
   "metadata": {},
   "outputs": [],
   "source": [
    "myFont = fm.FontProperties(fname=font_path).get_name()\n",
    "mpl.rc('font', family=myFont)"
   ]
  },
  {
   "cell_type": "code",
   "execution_count": 232,
   "id": "d02578ed",
   "metadata": {},
   "outputs": [],
   "source": [
    "x=waterDF.columns\n",
    "y =waterDF.loc['남한']"
   ]
  },
  {
   "cell_type": "code",
   "execution_count": 233,
   "id": "10d17da6",
   "metadata": {},
   "outputs": [
    {
     "data": {
      "text/plain": [
       "Text(5, 150, '북한 수력발전량')"
      ]
     },
     "execution_count": 233,
     "metadata": {},
     "output_type": "execute_result"
    },
    {
     "data": {
      "image/png": "[encoded data removed]",
      "text/plain": [
       "<Figure size 1400x700 with 1 Axes>"
      ]
     },
     "metadata": {},
     "output_type": "display_data"
    }
   ],
   "source": [
    "plt.figure(figsize=(14,7))\n",
    "plt.plot(waterDF.loc['남한'], 'bo-', waterDF.loc['북한'], 'r^-')\n",
    "plt.title('[남북한 수력발전량]')\n",
    "\n",
    "plt.xlabel(\"년도\", loc='right', fontsize='x-large', color='green')\n",
    "plt.ylabel(\"전력량(억kWh)\", loc='top', fontsize='x-large', color='green', rotation='horizontal')\n",
    "\n",
    "plt.legend(['남한', '북한'])\n",
    "\n",
    "plt.text(5,70,\"남한 수력발전량\", backgroundcolor='gray')\n",
    "plt.text(5,150,\"북한 수력발전량\", backgroundcolor='gray')\n"
   ]
  },
  {
   "cell_type": "code",
   "execution_count": 234,
   "id": "5ad74d28",
   "metadata": {},
   "outputs": [
    {
     "data": {
      "text/plain": [
       "(2, 27)"
      ]
     },
     "execution_count": 234,
     "metadata": {},
     "output_type": "execute_result"
    }
   ],
   "source": [
    "fireDF = korpowerDF2.xs('화력', level=1)\n",
    "fireDF.shape"
   ]
  },
  {
   "cell_type": "code",
   "execution_count": 235,
   "id": "69c3490f",
   "metadata": {},
   "outputs": [
    {
     "data": {
      "text/html": [
       "<div>\n",
       "<style scoped>\n",
       "    .dataframe tbody tr th:only-of-type {\n",
       "        vertical-align: middle;\n",
       "    }\n",
       "\n",
       "    .dataframe tbody tr th {\n",
       "        vertical-align: top;\n",
       "    }\n",
       "\n",
       "    .dataframe thead th {\n",
       "        text-align: right;\n",
       "    }\n",
       "</style>\n",
       "<table border=\"1\" class=\"dataframe\">\n",
       "  <thead>\n",
       "    <tr style=\"text-align: right;\">\n",
       "      <th></th>\n",
       "      <th>1990</th>\n",
       "      <th>1991</th>\n",
       "      <th>1992</th>\n",
       "      <th>1993</th>\n",
       "      <th>1994</th>\n",
       "      <th>1995</th>\n",
       "      <th>1996</th>\n",
       "      <th>1997</th>\n",
       "      <th>1998</th>\n",
       "      <th>1999</th>\n",
       "      <th>...</th>\n",
       "      <th>2007</th>\n",
       "      <th>2008</th>\n",
       "      <th>2009</th>\n",
       "      <th>2010</th>\n",
       "      <th>2011</th>\n",
       "      <th>2012</th>\n",
       "      <th>2013</th>\n",
       "      <th>2014</th>\n",
       "      <th>2015</th>\n",
       "      <th>2016</th>\n",
       "    </tr>\n",
       "    <tr>\n",
       "      <th>전력량 (억㎾h)</th>\n",
       "      <th></th>\n",
       "      <th></th>\n",
       "      <th></th>\n",
       "      <th></th>\n",
       "      <th></th>\n",
       "      <th></th>\n",
       "      <th></th>\n",
       "      <th></th>\n",
       "      <th></th>\n",
       "      <th></th>\n",
       "      <th></th>\n",
       "      <th></th>\n",
       "      <th></th>\n",
       "      <th></th>\n",
       "      <th></th>\n",
       "      <th></th>\n",
       "      <th></th>\n",
       "      <th></th>\n",
       "      <th></th>\n",
       "      <th></th>\n",
       "      <th></th>\n",
       "    </tr>\n",
       "  </thead>\n",
       "  <tbody>\n",
       "    <tr>\n",
       "      <th>남한</th>\n",
       "      <td>484</td>\n",
       "      <td>573</td>\n",
       "      <td>696</td>\n",
       "      <td>803</td>\n",
       "      <td>1022</td>\n",
       "      <td>1122</td>\n",
       "      <td>1264</td>\n",
       "      <td>1420</td>\n",
       "      <td>1195</td>\n",
       "      <td>1302</td>\n",
       "      <td>...</td>\n",
       "      <td>2551</td>\n",
       "      <td>2658</td>\n",
       "      <td>2802</td>\n",
       "      <td>3196</td>\n",
       "      <td>3343</td>\n",
       "      <td>3430</td>\n",
       "      <td>3581</td>\n",
       "      <td>3427</td>\n",
       "      <td>3402</td>\n",
       "      <td>3523</td>\n",
       "    </tr>\n",
       "    <tr>\n",
       "      <th>북한</th>\n",
       "      <td>121</td>\n",
       "      <td>113</td>\n",
       "      <td>105</td>\n",
       "      <td>88</td>\n",
       "      <td>93</td>\n",
       "      <td>88</td>\n",
       "      <td>88</td>\n",
       "      <td>86</td>\n",
       "      <td>68</td>\n",
       "      <td>83</td>\n",
       "      <td>...</td>\n",
       "      <td>103</td>\n",
       "      <td>114</td>\n",
       "      <td>110</td>\n",
       "      <td>103</td>\n",
       "      <td>79</td>\n",
       "      <td>80</td>\n",
       "      <td>82</td>\n",
       "      <td>86</td>\n",
       "      <td>90</td>\n",
       "      <td>111</td>\n",
       "    </tr>\n",
       "  </tbody>\n",
       "</table>\n",
       "<p>2 rows × 27 columns</p>\n",
       "</div>"
      ],
      "text/plain": [
       "           1990  1991  1992  1993  1994  1995  1996  1997  1998  1999  ...  \\\n",
       "전력량 (억㎾h)                                                              ...   \n",
       "남한          484   573   696   803  1022  1122  1264  1420  1195  1302  ...   \n",
       "북한          121   113   105    88    93    88    88    86    68    83  ...   \n",
       "\n",
       "           2007  2008  2009  2010  2011  2012  2013  2014  2015  2016  \n",
       "전력량 (억㎾h)                                                              \n",
       "남한         2551  2658  2802  3196  3343  3430  3581  3427  3402  3523  \n",
       "북한          103   114   110   103    79    80    82    86    90   111  \n",
       "\n",
       "[2 rows x 27 columns]"
      ]
     },
     "execution_count": 235,
     "metadata": {},
     "output_type": "execute_result"
    }
   ],
   "source": [
    "fireDF"
   ]
  },
  {
   "cell_type": "code",
   "execution_count": 236,
   "id": "e7266995",
   "metadata": {},
   "outputs": [
    {
     "data": {
      "text/plain": [
       "Text(5, 250, '북한 화력발전량')"
      ]
     },
     "execution_count": 236,
     "metadata": {},
     "output_type": "execute_result"
    },
    {
     "data": {
      "image/png": "[encoded data removed]",
      "text/plain": [
       "<Figure size 1400x700 with 1 Axes>"
      ]
     },
     "metadata": {},
     "output_type": "display_data"
    }
   ],
   "source": [
    "plt.figure(figsize=(14,7))\n",
    "plt.plot(fireDF.loc['남한'], 'bo-', fireDF.loc['북한'], 'r^-')\n",
    "plt.title('[남북한 화력발전량]')\n",
    "\n",
    "plt.xlabel(\"년도\", loc='right', fontsize='x-large', color='green')\n",
    "plt.ylabel(\"전력량(억kWh)\", loc='top', fontsize='x-large', color='green', rotation='horizontal')\n",
    "\n",
    "plt.legend(['남한', '북한'])\n",
    "\n",
    "plt.text(5,2000,\"남한 화력발전량\", backgroundcolor='gray')\n",
    "plt.text(5,250,\"북한 화력발전량\", backgroundcolor='gray')"
   ]
  },
  {
   "cell_type": "code",
   "execution_count": 237,
   "id": "1b1b2c2b",
   "metadata": {},
   "outputs": [
    {
     "data": {
      "text/plain": [
       "(2, 27)"
      ]
     },
     "execution_count": 237,
     "metadata": {},
     "output_type": "execute_result"
    }
   ],
   "source": [
    "atomicDF = korpowerDF2.xs('원자력', level=1)\n",
    "atomicDF.shape"
   ]
  },
  {
   "cell_type": "code",
   "execution_count": 238,
   "id": "59b8c2d6",
   "metadata": {},
   "outputs": [
    {
     "data": {
      "text/html": [
       "<div>\n",
       "<style scoped>\n",
       "    .dataframe tbody tr th:only-of-type {\n",
       "        vertical-align: middle;\n",
       "    }\n",
       "\n",
       "    .dataframe tbody tr th {\n",
       "        vertical-align: top;\n",
       "    }\n",
       "\n",
       "    .dataframe thead th {\n",
       "        text-align: right;\n",
       "    }\n",
       "</style>\n",
       "<table border=\"1\" class=\"dataframe\">\n",
       "  <thead>\n",
       "    <tr style=\"text-align: right;\">\n",
       "      <th></th>\n",
       "      <th>1990</th>\n",
       "      <th>1991</th>\n",
       "      <th>1992</th>\n",
       "      <th>1993</th>\n",
       "      <th>1994</th>\n",
       "      <th>1995</th>\n",
       "      <th>1996</th>\n",
       "      <th>1997</th>\n",
       "      <th>1998</th>\n",
       "      <th>1999</th>\n",
       "      <th>...</th>\n",
       "      <th>2007</th>\n",
       "      <th>2008</th>\n",
       "      <th>2009</th>\n",
       "      <th>2010</th>\n",
       "      <th>2011</th>\n",
       "      <th>2012</th>\n",
       "      <th>2013</th>\n",
       "      <th>2014</th>\n",
       "      <th>2015</th>\n",
       "      <th>2016</th>\n",
       "    </tr>\n",
       "    <tr>\n",
       "      <th>전력량 (억㎾h)</th>\n",
       "      <th></th>\n",
       "      <th></th>\n",
       "      <th></th>\n",
       "      <th></th>\n",
       "      <th></th>\n",
       "      <th></th>\n",
       "      <th></th>\n",
       "      <th></th>\n",
       "      <th></th>\n",
       "      <th></th>\n",
       "      <th></th>\n",
       "      <th></th>\n",
       "      <th></th>\n",
       "      <th></th>\n",
       "      <th></th>\n",
       "      <th></th>\n",
       "      <th></th>\n",
       "      <th></th>\n",
       "      <th></th>\n",
       "      <th></th>\n",
       "      <th></th>\n",
       "    </tr>\n",
       "  </thead>\n",
       "  <tbody>\n",
       "    <tr>\n",
       "      <th>남한</th>\n",
       "      <td>529</td>\n",
       "      <td>563</td>\n",
       "      <td>565</td>\n",
       "      <td>581</td>\n",
       "      <td>587</td>\n",
       "      <td>670</td>\n",
       "      <td>739</td>\n",
       "      <td>771</td>\n",
       "      <td>897</td>\n",
       "      <td>1031</td>\n",
       "      <td>...</td>\n",
       "      <td>1429</td>\n",
       "      <td>1510</td>\n",
       "      <td>1478</td>\n",
       "      <td>1486</td>\n",
       "      <td>1547</td>\n",
       "      <td>1503</td>\n",
       "      <td>1388</td>\n",
       "      <td>1564</td>\n",
       "      <td>1648</td>\n",
       "      <td>1620</td>\n",
       "    </tr>\n",
       "    <tr>\n",
       "      <th>북한</th>\n",
       "      <td>0</td>\n",
       "      <td>0</td>\n",
       "      <td>0</td>\n",
       "      <td>0</td>\n",
       "      <td>0</td>\n",
       "      <td>0</td>\n",
       "      <td>0</td>\n",
       "      <td>0</td>\n",
       "      <td>0</td>\n",
       "      <td>0</td>\n",
       "      <td>...</td>\n",
       "      <td>0</td>\n",
       "      <td>0</td>\n",
       "      <td>0</td>\n",
       "      <td>0</td>\n",
       "      <td>0</td>\n",
       "      <td>0</td>\n",
       "      <td>0</td>\n",
       "      <td>0</td>\n",
       "      <td>0</td>\n",
       "      <td>0</td>\n",
       "    </tr>\n",
       "  </tbody>\n",
       "</table>\n",
       "<p>2 rows × 27 columns</p>\n",
       "</div>"
      ],
      "text/plain": [
       "           1990  1991  1992  1993  1994  1995  1996  1997  1998  1999  ...  \\\n",
       "전력량 (억㎾h)                                                              ...   \n",
       "남한          529   563   565   581   587   670   739   771   897  1031  ...   \n",
       "북한            0     0     0     0     0     0     0     0     0     0  ...   \n",
       "\n",
       "           2007  2008  2009  2010  2011  2012  2013  2014  2015  2016  \n",
       "전력량 (억㎾h)                                                              \n",
       "남한         1429  1510  1478  1486  1547  1503  1388  1564  1648  1620  \n",
       "북한            0     0     0     0     0     0     0     0     0     0  \n",
       "\n",
       "[2 rows x 27 columns]"
      ]
     },
     "execution_count": 238,
     "metadata": {},
     "output_type": "execute_result"
    }
   ],
   "source": [
    "atomicDF"
   ]
  },
  {
   "cell_type": "code",
   "execution_count": 239,
   "id": "818d307a",
   "metadata": {},
   "outputs": [
    {
     "data": {
      "text/plain": [
       "Text(5, 100, '북한 원자력발전량')"
      ]
     },
     "execution_count": 239,
     "metadata": {},
     "output_type": "execute_result"
    },
    {
     "data": {
      "image/png": "[encoded data removed]",
      "text/plain": [
       "<Figure size 1400x700 with 1 Axes>"
      ]
     },
     "metadata": {},
     "output_type": "display_data"
    }
   ],
   "source": [
    "plt.figure(figsize=(14,7))\n",
    "plt.plot(atomicDF.loc['남한'], 'bo-', atomicDF.loc['북한'], 'r^-')\n",
    "plt.title('[남북한 원자력발전량]')\n",
    "\n",
    "plt.xlabel(\"년도\", loc='right', fontsize='x-large', color='green')\n",
    "plt.ylabel(\"전력량(억kWh)\", loc='top', fontsize='x-large', color='green', rotation='horizontal')\n",
    "\n",
    "plt.legend(['남한', '북한'])\n",
    "\n",
    "plt.text(5,1300,\"남한 원자력발전량\", backgroundcolor='gray')\n",
    "plt.text(5,100,\"북한 원자력발전량\", backgroundcolor='gray')"
   ]
  },
  {
   "cell_type": "code",
   "execution_count": 240,
   "id": "46a162f8",
   "metadata": {},
   "outputs": [
    {
     "data": {
      "text/plain": [
       "(1, 27)"
      ]
     },
     "execution_count": 240,
     "metadata": {},
     "output_type": "execute_result"
    }
   ],
   "source": [
    "reuseDF = korpowerDF2.xs('신재생', level=1)\n",
    "reuseDF.shape"
   ]
  },
  {
   "cell_type": "code",
   "execution_count": 241,
   "id": "345d091b",
   "metadata": {},
   "outputs": [
    {
     "data": {
      "text/html": [
       "<div>\n",
       "<style scoped>\n",
       "    .dataframe tbody tr th:only-of-type {\n",
       "        vertical-align: middle;\n",
       "    }\n",
       "\n",
       "    .dataframe tbody tr th {\n",
       "        vertical-align: top;\n",
       "    }\n",
       "\n",
       "    .dataframe thead th {\n",
       "        text-align: right;\n",
       "    }\n",
       "</style>\n",
       "<table border=\"1\" class=\"dataframe\">\n",
       "  <thead>\n",
       "    <tr style=\"text-align: right;\">\n",
       "      <th></th>\n",
       "      <th>1990</th>\n",
       "      <th>1991</th>\n",
       "      <th>1992</th>\n",
       "      <th>1993</th>\n",
       "      <th>1994</th>\n",
       "      <th>1995</th>\n",
       "      <th>1996</th>\n",
       "      <th>1997</th>\n",
       "      <th>1998</th>\n",
       "      <th>1999</th>\n",
       "      <th>...</th>\n",
       "      <th>2007</th>\n",
       "      <th>2008</th>\n",
       "      <th>2009</th>\n",
       "      <th>2010</th>\n",
       "      <th>2011</th>\n",
       "      <th>2012</th>\n",
       "      <th>2013</th>\n",
       "      <th>2014</th>\n",
       "      <th>2015</th>\n",
       "      <th>2016</th>\n",
       "    </tr>\n",
       "    <tr>\n",
       "      <th>전력량 (억㎾h)</th>\n",
       "      <th></th>\n",
       "      <th></th>\n",
       "      <th></th>\n",
       "      <th></th>\n",
       "      <th></th>\n",
       "      <th></th>\n",
       "      <th></th>\n",
       "      <th></th>\n",
       "      <th></th>\n",
       "      <th></th>\n",
       "      <th></th>\n",
       "      <th></th>\n",
       "      <th></th>\n",
       "      <th></th>\n",
       "      <th></th>\n",
       "      <th></th>\n",
       "      <th></th>\n",
       "      <th></th>\n",
       "      <th></th>\n",
       "      <th></th>\n",
       "      <th></th>\n",
       "    </tr>\n",
       "  </thead>\n",
       "  <tbody>\n",
       "    <tr>\n",
       "      <th>남한</th>\n",
       "      <td>0</td>\n",
       "      <td>0</td>\n",
       "      <td>0</td>\n",
       "      <td>0</td>\n",
       "      <td>0</td>\n",
       "      <td>0</td>\n",
       "      <td>0</td>\n",
       "      <td>0</td>\n",
       "      <td>0</td>\n",
       "      <td>0</td>\n",
       "      <td>...</td>\n",
       "      <td>0</td>\n",
       "      <td>0</td>\n",
       "      <td>0</td>\n",
       "      <td>0</td>\n",
       "      <td>0</td>\n",
       "      <td>86</td>\n",
       "      <td>118</td>\n",
       "      <td>151</td>\n",
       "      <td>173</td>\n",
       "      <td>195</td>\n",
       "    </tr>\n",
       "  </tbody>\n",
       "</table>\n",
       "<p>1 rows × 27 columns</p>\n",
       "</div>"
      ],
      "text/plain": [
       "           1990  1991  1992  1993  1994  1995  1996  1997  1998  1999  ...  \\\n",
       "전력량 (억㎾h)                                                              ...   \n",
       "남한            0     0     0     0     0     0     0     0     0     0  ...   \n",
       "\n",
       "           2007  2008  2009  2010  2011  2012  2013  2014  2015  2016  \n",
       "전력량 (억㎾h)                                                              \n",
       "남한            0     0     0     0     0    86   118   151   173   195  \n",
       "\n",
       "[1 rows x 27 columns]"
      ]
     },
     "execution_count": 241,
     "metadata": {},
     "output_type": "execute_result"
    }
   ],
   "source": [
    "reuseDF"
   ]
  },
  {
   "cell_type": "code",
   "execution_count": 242,
   "id": "69c31894",
   "metadata": {},
   "outputs": [
    {
     "data": {
      "text/plain": [
       "Text(20, 175.0, '남한 신재생발전량')"
      ]
     },
     "execution_count": 242,
     "metadata": {},
     "output_type": "execute_result"
    },
    {
     "data": {
      "image/png": "[encoded data removed]",
      "text/plain": [
       "<Figure size 1400x700 with 1 Axes>"
      ]
     },
     "metadata": {},
     "output_type": "display_data"
    }
   ],
   "source": [
    "plt.figure(figsize=(14,7))\n",
    "plt.plot(reuseDF.loc['남한'], 'bo-')\n",
    "plt.title('[남북한 신재생발전량]')\n",
    "\n",
    "plt.xlabel(\"년도\", loc='right', fontsize='x-large', color='green')\n",
    "plt.ylabel(\"전력량(억kWh)\", loc='top', fontsize='x-large', color='green', rotation='horizontal')\n",
    "\n",
    "plt.legend(['남한', '북한'], loc='upper left')\n",
    "\n",
    "plt.annotate('남한 신재생발전량',\n",
    "ha = 'center', va= 'bottom',\n",
    "             xytext = (20, 175.),\n",
    "             xy = (25, 175),\n",
    "             arrowprops = {'facecolor':'blue', 'shrink':0.08})"
   ]
  },
  {
   "cell_type": "code",
   "execution_count": null,
   "id": "b05ed371",
   "metadata": {},
   "outputs": [],
   "source": []
  }
 ],
 "metadata": {
  "kernelspec": {
   "display_name": "Python 3 (ipykernel)",
   "language": "python",
   "name": "python3"
  },
  "language_info": {
   "codemirror_mode": {
    "name": "ipython",
    "version": 3
   },
   "file_extension": ".py",
   "mimetype": "text/x-python",
   "name": "python",
   "nbconvert_exporter": "python",
   "pygments_lexer": "ipython3",
   "version": "3.11.5"
  }
 },
 "nbformat": 4,
 "nbformat_minor": 5
}
