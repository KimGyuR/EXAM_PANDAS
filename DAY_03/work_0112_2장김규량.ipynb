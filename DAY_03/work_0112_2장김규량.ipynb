{
 "cells": [
  {
   "cell_type": "markdown",
   "id": "23326e59",
   "metadata": {},
   "source": [
    "## [2장 복습과 코딩 챌린지]"
   ]
  },
  {
   "cell_type": "markdown",
   "id": "17eea8a0",
   "metadata": {},
   "source": [
    "- 모듈 생성(Series 객체 생성)"
   ]
  },
  {
   "cell_type": "code",
   "execution_count": 20,
   "id": "f70cf72a",
   "metadata": {},
   "outputs": [],
   "source": [
    "import pandas as pd\n",
    "import numpy as np"
   ]
  },
  {
   "cell_type": "markdown",
   "id": "d588a474",
   "metadata": {},
   "source": [
    "- 클래스 및 인스턴스"
   ]
  },
  {
   "cell_type": "code",
   "execution_count": 21,
   "id": "bf2abd74",
   "metadata": {},
   "outputs": [
    {
     "data": {
      "text/plain": [
       "Series([], dtype: object)"
      ]
     },
     "execution_count": 21,
     "metadata": {},
     "output_type": "execute_result"
    }
   ],
   "source": [
    "pd.Series()"
   ]
  },
  {
   "cell_type": "markdown",
   "id": "92c0bfe7",
   "metadata": {},
   "source": [
    "- Series 값 채우기"
   ]
  },
  {
   "cell_type": "code",
   "execution_count": 22,
   "id": "6285a0ac",
   "metadata": {},
   "outputs": [
    {
     "data": {
      "text/plain": [
       "0    LAD\n",
       "1    LAA\n",
       "2    NYM\n",
       "3    NYY\n",
       "dtype: object"
      ]
     },
     "execution_count": 22,
     "metadata": {},
     "output_type": "execute_result"
    }
   ],
   "source": [
    "mlb_baseball = ['LAD','LAA','NYM','NYY']\n",
    "pd.Series(mlb_baseball)"
   ]
  },
  {
   "cell_type": "code",
   "execution_count": 23,
   "id": "cd2edb41",
   "metadata": {},
   "outputs": [
    {
     "data": {
      "text/plain": [
       "0    LAD\n",
       "1    LAA\n",
       "2    NYM\n",
       "3    NYY\n",
       "dtype: object"
      ]
     },
     "execution_count": 23,
     "metadata": {},
     "output_type": "execute_result"
    }
   ],
   "source": [
    "pd.Series(mlb_baseball)\n",
    "pd.Series(data = mlb_baseball)"
   ]
  },
  {
   "cell_type": "markdown",
   "id": "7fa36820",
   "metadata": {},
   "source": [
    "- Series 인덱스 사용자 정의"
   ]
  },
  {
   "cell_type": "code",
   "execution_count": 24,
   "id": "502e62f9",
   "metadata": {},
   "outputs": [
    {
     "data": {
      "text/plain": [
       "Sun    LAD\n",
       "Tue    LAA\n",
       "Wed    NYM\n",
       "Fri    NYY\n",
       "dtype: object"
      ]
     },
     "execution_count": 24,
     "metadata": {},
     "output_type": "execute_result"
    }
   ],
   "source": [
    "mlb_baseball = ['LAD','LAA','NYM','NYY']\n",
    "homeG_day = ('Sun','Tue','Wed','Fri')\n",
    "\n",
    "pd.Series(mlb_baseball, homeG_day)\n",
    "pd.Series(data = mlb_baseball, index=homeG_day)"
   ]
  },
  {
   "cell_type": "code",
   "execution_count": 25,
   "id": "dc39ae5c",
   "metadata": {},
   "outputs": [
    {
     "data": {
      "text/plain": [
       "Sun    LAD\n",
       "Fri    LAA\n",
       "Wed    NYM\n",
       "Fri    NYY\n",
       "dtype: object"
      ]
     },
     "execution_count": 25,
     "metadata": {},
     "output_type": "execute_result"
    }
   ],
   "source": [
    "mlb_baseball = ['LAD','LAA','NYM','NYY']\n",
    "homeG_day = ('Sun','Fri','Wed','Fri')\n",
    "\n",
    "pd.Series(mlb_baseball, homeG_day)\n",
    "pd.Series(data = mlb_baseball, index=homeG_day)"
   ]
  },
  {
   "cell_type": "code",
   "execution_count": 26,
   "id": "90a18d78",
   "metadata": {},
   "outputs": [
    {
     "data": {
      "text/plain": [
       "0     True\n",
       "1    False\n",
       "2    False\n",
       "dtype: bool"
      ]
     },
     "execution_count": 26,
     "metadata": {},
     "output_type": "execute_result"
    }
   ],
   "source": [
    "bunch_of_bools = [True, False, False]\n",
    "pd.Series(bunch_of_bools)"
   ]
  },
  {
   "cell_type": "code",
   "execution_count": 31,
   "id": "1231ecbe",
   "metadata": {},
   "outputs": [
    {
     "data": {
      "text/plain": [
       "Open     985.32\n",
       "Close    950.44\n",
       "dtype: float64"
      ]
     },
     "execution_count": 31,
     "metadata": {},
     "output_type": "execute_result"
    }
   ],
   "source": [
    "stock_prices = [985.32, 950.44]\n",
    "time_of_day = [\"Open\", \"Close\"]\n",
    "pd.Series(data = stock_prices, index = time_of_day)"
   ]
  },
  {
   "cell_type": "code",
   "execution_count": 35,
   "id": "53e2e43c",
   "metadata": {},
   "outputs": [
    {
     "data": {
      "text/plain": [
       "0     4\n",
       "1     8\n",
       "2    15\n",
       "3    16\n",
       "4    23\n",
       "5    42\n",
       "dtype: int64"
      ]
     },
     "execution_count": 35,
     "metadata": {},
     "output_type": "execute_result"
    }
   ],
   "source": [
    "lucky_numbers = [4,8,15,16,23,42]\n",
    "pd.Series(lucky_numbers)"
   ]
  },
  {
   "cell_type": "code",
   "execution_count": 36,
   "id": "5ff527be",
   "metadata": {},
   "outputs": [
    {
     "data": {
      "text/plain": [
       "0     4.0\n",
       "1     8.0\n",
       "2    15.0\n",
       "3    16.0\n",
       "4    23.0\n",
       "5    42.0\n",
       "dtype: float64"
      ]
     },
     "execution_count": 36,
     "metadata": {},
     "output_type": "execute_result"
    }
   ],
   "source": [
    "lucky_numbers = [4,8,15,16,23,42]\n",
    "pd.Series(lucky_numbers, dtype='float')"
   ]
  },
  {
   "cell_type": "markdown",
   "id": "93b073e5",
   "metadata": {},
   "source": [
    "- 결측값이 있는 Series 생성"
   ]
  },
  {
   "cell_type": "code",
   "execution_count": 37,
   "id": "b53bb0b4",
   "metadata": {},
   "outputs": [
    {
     "data": {
      "text/plain": [
       "0    94.0\n",
       "1    88.0\n",
       "2     NaN\n",
       "3    91.0\n",
       "dtype: float64"
      ]
     },
     "execution_count": 37,
     "metadata": {},
     "output_type": "execute_result"
    }
   ],
   "source": [
    "temperatures = [94, 88, np.nan, 91]\n",
    "pd.Series(temperatures)"
   ]
  },
  {
   "cell_type": "code",
   "execution_count": null,
   "id": "43691164",
   "metadata": {},
   "outputs": [],
   "source": []
  }
 ],
 "metadata": {
  "kernelspec": {
   "display_name": "Python 3 (ipykernel)",
   "language": "python",
   "name": "python3"
  },
  "language_info": {
   "codemirror_mode": {
    "name": "ipython",
    "version": 3
   },
   "file_extension": ".py",
   "mimetype": "text/x-python",
   "name": "python",
   "nbconvert_exporter": "python",
   "pygments_lexer": "ipython3",
   "version": "3.11.5"
  }
 },
 "nbformat": 4,
 "nbformat_minor": 5
}
