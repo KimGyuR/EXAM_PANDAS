{
 "cells": [
  {
   "cell_type": "markdown",
   "id": "87114e1c",
   "metadata": {},
   "source": [
    "## [DataFrame에 행/열 추가]"
   ]
  },
  {
   "cell_type": "markdown",
   "id": "862eff11",
   "metadata": {},
   "source": [
    "(1) 모듈 로딩 <hr>"
   ]
  },
  {
   "cell_type": "code",
   "execution_count": 1,
   "id": "b2d8d4b4",
   "metadata": {},
   "outputs": [],
   "source": [
    "import pandas as pd"
   ]
  },
  {
   "cell_type": "markdown",
   "id": "ab01fbf0",
   "metadata": {},
   "source": [
    "(2) 데이터 준비 <hr>"
   ]
  },
  {
   "cell_type": "code",
   "execution_count": 2,
   "id": "eb6a0d4a",
   "metadata": {},
   "outputs": [],
   "source": [
    "# dict 타입의 데이터 생성\n",
    "exam={'이름':['김','이','박','조','전'],\n",
    "       '국어': [90,60,40,39,84],\n",
    "       '수학': [80,30,40,20,35],\n",
    "       '사회': [30,35,49,97,45],\n",
    "       '과학': [47,60,30,65,87],\n",
    "       '체육': [90,70,60,59,99]}"
   ]
  },
  {
   "cell_type": "markdown",
   "id": "15aab537",
   "metadata": {},
   "source": [
    "(3) DataFrame에 데이터 저장 <hr>"
   ]
  },
  {
   "cell_type": "code",
   "execution_count": 3,
   "id": "4d3539b2",
   "metadata": {},
   "outputs": [],
   "source": [
    "examDF=pd.DataFrame(exam)"
   ]
  },
  {
   "cell_type": "code",
   "execution_count": 5,
   "id": "08e2fc3a",
   "metadata": {},
   "outputs": [
    {
     "data": {
      "text/html": [
       "<div>\n",
       "<style scoped>\n",
       "    .dataframe tbody tr th:only-of-type {\n",
       "        vertical-align: middle;\n",
       "    }\n",
       "\n",
       "    .dataframe tbody tr th {\n",
       "        vertical-align: top;\n",
       "    }\n",
       "\n",
       "    .dataframe thead th {\n",
       "        text-align: right;\n",
       "    }\n",
       "</style>\n",
       "<table border=\"1\" class=\"dataframe\">\n",
       "  <thead>\n",
       "    <tr style=\"text-align: right;\">\n",
       "      <th></th>\n",
       "      <th>이름</th>\n",
       "      <th>국어</th>\n",
       "      <th>수학</th>\n",
       "      <th>사회</th>\n",
       "      <th>과학</th>\n",
       "      <th>체육</th>\n",
       "    </tr>\n",
       "  </thead>\n",
       "  <tbody>\n",
       "    <tr>\n",
       "      <th>0</th>\n",
       "      <td>김</td>\n",
       "      <td>90</td>\n",
       "      <td>80</td>\n",
       "      <td>30</td>\n",
       "      <td>47</td>\n",
       "      <td>90</td>\n",
       "    </tr>\n",
       "    <tr>\n",
       "      <th>1</th>\n",
       "      <td>이</td>\n",
       "      <td>60</td>\n",
       "      <td>30</td>\n",
       "      <td>35</td>\n",
       "      <td>60</td>\n",
       "      <td>70</td>\n",
       "    </tr>\n",
       "    <tr>\n",
       "      <th>2</th>\n",
       "      <td>박</td>\n",
       "      <td>40</td>\n",
       "      <td>40</td>\n",
       "      <td>49</td>\n",
       "      <td>30</td>\n",
       "      <td>60</td>\n",
       "    </tr>\n",
       "    <tr>\n",
       "      <th>3</th>\n",
       "      <td>조</td>\n",
       "      <td>39</td>\n",
       "      <td>20</td>\n",
       "      <td>97</td>\n",
       "      <td>65</td>\n",
       "      <td>59</td>\n",
       "    </tr>\n",
       "    <tr>\n",
       "      <th>4</th>\n",
       "      <td>전</td>\n",
       "      <td>84</td>\n",
       "      <td>35</td>\n",
       "      <td>45</td>\n",
       "      <td>87</td>\n",
       "      <td>99</td>\n",
       "    </tr>\n",
       "  </tbody>\n",
       "</table>\n",
       "</div>"
      ],
      "text/plain": [
       "  이름  국어  수학  사회  과학  체육\n",
       "0  김  90  80  30  47  90\n",
       "1  이  60  30  35  60  70\n",
       "2  박  40  40  49  30  60\n",
       "3  조  39  20  97  65  59\n",
       "4  전  84  35  45  87  99"
      ]
     },
     "execution_count": 5,
     "metadata": {},
     "output_type": "execute_result"
    }
   ],
   "source": [
    "examDF"
   ]
  },
  {
   "cell_type": "markdown",
   "id": "1b369e02",
   "metadata": {},
   "source": [
    "(4) 저장된 데이터 속성 확인 <hr>"
   ]
  },
  {
   "cell_type": "code",
   "execution_count": 14,
   "id": "c727092f",
   "metadata": {},
   "outputs": [],
   "source": [
    "def printAttribute(df,dfname):\n",
    "    print(f'[{dfname} Attributes]')\n",
    "    print(f'index\\n ==> {df.index}')\n",
    "    print(f'columns\\n ==> {df.columns}')\n",
    "    print(f'shape\\n ==> {df.shape}')\n",
    "    print(f'ndim\\n ==> {df.ndim}')\n",
    "    print(f'size\\n ==> {df.size}')\n",
    "    print(f'dtypes\\n ==> {df.dtypes}')"
   ]
  },
  {
   "cell_type": "code",
   "execution_count": 15,
   "id": "51aaefc8",
   "metadata": {},
   "outputs": [
    {
     "name": "stdout",
     "output_type": "stream",
     "text": [
      "[examDF Attributes]\n",
      "index\n",
      " ==> RangeIndex(start=0, stop=5, step=1)\n",
      "columns\n",
      " ==> Index(['이름', '국어', '수학', '사회', '과학', '체육'], dtype='object')\n",
      "shape\n",
      " ==> (5, 6)\n",
      "ndim\n",
      " ==> 2\n",
      "size\n",
      " ==> 30\n",
      "dtypes\n",
      " ==> 이름    object\n",
      "국어     int64\n",
      "수학     int64\n",
      "사회     int64\n",
      "과학     int64\n",
      "체육     int64\n",
      "dtype: object\n"
     ]
    }
   ],
   "source": [
    "printAttribute(examDF, 'examDF')"
   ]
  },
  {
   "cell_type": "code",
   "execution_count": null,
   "id": "0a79ea25",
   "metadata": {},
   "outputs": [],
   "source": []
  },
  {
   "cell_type": "code",
   "execution_count": null,
   "id": "2d9e9b17",
   "metadata": {},
   "outputs": [],
   "source": []
  }
 ],
 "metadata": {
  "kernelspec": {
   "display_name": "Python 3 (ipykernel)",
   "language": "python",
   "name": "python3"
  },
  "language_info": {
   "codemirror_mode": {
    "name": "ipython",
    "version": 3
   },
   "file_extension": ".py",
   "mimetype": "text/x-python",
   "name": "python",
   "nbconvert_exporter": "python",
   "pygments_lexer": "ipython3",
   "version": "3.11.5"
  }
 },
 "nbformat": 4,
 "nbformat_minor": 5
}
