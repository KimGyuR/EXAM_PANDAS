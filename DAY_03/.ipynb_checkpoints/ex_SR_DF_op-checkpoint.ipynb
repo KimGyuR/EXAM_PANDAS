{
 "cells": [
  {
   "cell_type": "markdown",
   "id": "97779145",
   "metadata": {},
   "source": [
    "## [ Series 데이터 연산 ]"
   ]
  },
  {
   "cell_type": "markdown",
   "id": "ade766da",
   "metadata": {},
   "source": [
    "- (1) 모듈 로딩"
   ]
  },
  {
   "cell_type": "code",
   "execution_count": 2,
   "id": "bc9dd738",
   "metadata": {},
   "outputs": [],
   "source": [
    "import pandas as pd \n",
    "import numpy as np"
   ]
  },
  {
   "cell_type": "markdown",
   "id": "3fddf0f0",
   "metadata": {},
   "source": [
    "- (2) 데이터 준비"
   ]
  },
  {
   "cell_type": "code",
   "execution_count": 3,
   "id": "c0d7593b",
   "metadata": {},
   "outputs": [],
   "source": [
    "data=[5,7,np.nan,9,11]     # 1차원 디멘션"
   ]
  },
  {
   "cell_type": "markdown",
   "id": "00f92e10",
   "metadata": {},
   "source": [
    "- (3) 데이터 저장 => 1차원 데이터로 Series에 저장"
   ]
  },
  {
   "cell_type": "code",
   "execution_count": 4,
   "id": "d38169f6",
   "metadata": {},
   "outputs": [],
   "source": [
    "sr=pd.Series(data)"
   ]
  },
  {
   "cell_type": "markdown",
   "id": "21b877d5",
   "metadata": {},
   "source": [
    "- (4) 데이터 확인"
   ]
  },
  {
   "cell_type": "code",
   "execution_count": 6,
   "id": "00171af5",
   "metadata": {},
   "outputs": [
    {
     "data": {
      "text/plain": [
       "(RangeIndex(start=0, stop=5, step=1), (5,), 1, dtype('float64'), 5)"
      ]
     },
     "execution_count": 6,
     "metadata": {},
     "output_type": "execute_result"
    }
   ],
   "source": [
    "sr.index, sr.shape, sr.ndim, sr.dtype, sr.size"
   ]
  },
  {
   "cell_type": "code",
   "execution_count": 7,
   "id": "eadb06ca",
   "metadata": {},
   "outputs": [
    {
     "data": {
      "text/plain": [
       "array([ 5.,  7., nan,  9., 11.])"
      ]
     },
     "execution_count": 7,
     "metadata": {},
     "output_type": "execute_result"
    }
   ],
   "source": [
    "sr.values"
   ]
  },
  {
   "cell_type": "markdown",
   "id": "6db1fe73",
   "metadata": {},
   "source": [
    "- (5) 연산 수행 => Series 객체 - 연산자 - 숫자"
   ]
  },
  {
   "cell_type": "code",
   "execution_count": 13,
   "id": "879449b6",
   "metadata": {},
   "outputs": [
    {
     "data": {
      "text/plain": [
       "0    10.0\n",
       "1    12.0\n",
       "2     NaN\n",
       "3    14.0\n",
       "4    16.0\n",
       "dtype: float64"
      ]
     },
     "execution_count": 13,
     "metadata": {},
     "output_type": "execute_result"
    }
   ],
   "source": [
    "sr + 5"
   ]
  },
  {
   "cell_type": "code",
   "execution_count": 14,
   "id": "fb59fc68",
   "metadata": {},
   "outputs": [
    {
     "data": {
      "text/plain": [
       "0    0.0\n",
       "1    2.0\n",
       "2    NaN\n",
       "3    4.0\n",
       "4    6.0\n",
       "dtype: float64"
      ]
     },
     "execution_count": 14,
     "metadata": {},
     "output_type": "execute_result"
    }
   ],
   "source": [
    "sr - 5"
   ]
  },
  {
   "cell_type": "code",
   "execution_count": 15,
   "id": "2f9aa6a8",
   "metadata": {},
   "outputs": [
    {
     "data": {
      "text/plain": [
       "0    25.0\n",
       "1    35.0\n",
       "2     NaN\n",
       "3    45.0\n",
       "4    55.0\n",
       "dtype: float64"
      ]
     },
     "execution_count": 15,
     "metadata": {},
     "output_type": "execute_result"
    }
   ],
   "source": [
    "sr * 5"
   ]
  },
  {
   "cell_type": "code",
   "execution_count": 16,
   "id": "b22a3e7d",
   "metadata": {},
   "outputs": [
    {
     "data": {
      "text/plain": [
       "0    1.0\n",
       "1    1.4\n",
       "2    NaN\n",
       "3    1.8\n",
       "4    2.2\n",
       "dtype: float64"
      ]
     },
     "execution_count": 16,
     "metadata": {},
     "output_type": "execute_result"
    }
   ],
   "source": [
    "sr / 5 "
   ]
  },
  {
   "cell_type": "code",
   "execution_count": 17,
   "id": "008532da",
   "metadata": {},
   "outputs": [
    {
     "data": {
      "text/plain": [
       "0    1.0\n",
       "1    1.0\n",
       "2    NaN\n",
       "3    1.0\n",
       "4    2.0\n",
       "dtype: float64"
      ]
     },
     "execution_count": 17,
     "metadata": {},
     "output_type": "execute_result"
    }
   ],
   "source": [
    "sr // 5"
   ]
  },
  {
   "cell_type": "code",
   "execution_count": 18,
   "id": "a94f2761",
   "metadata": {},
   "outputs": [
    {
     "data": {
      "text/plain": [
       "0    0.0\n",
       "1    2.0\n",
       "2    NaN\n",
       "3    4.0\n",
       "4    1.0\n",
       "dtype: float64"
      ]
     },
     "execution_count": 18,
     "metadata": {},
     "output_type": "execute_result"
    }
   ],
   "source": [
    "sr % 5"
   ]
  },
  {
   "cell_type": "code",
   "execution_count": 19,
   "id": "0afa2804",
   "metadata": {},
   "outputs": [
    {
     "data": {
      "text/plain": [
       "0    False\n",
       "1     True\n",
       "2    False\n",
       "3     True\n",
       "4     True\n",
       "dtype: bool"
      ]
     },
     "execution_count": 19,
     "metadata": {},
     "output_type": "execute_result"
    }
   ],
   "source": [
    "sr > 5"
   ]
  },
  {
   "cell_type": "code",
   "execution_count": 21,
   "id": "55dbc196",
   "metadata": {},
   "outputs": [
    {
     "data": {
      "text/plain": [
       "0     True\n",
       "1     True\n",
       "2    False\n",
       "3     True\n",
       "4    False\n",
       "dtype: bool"
      ]
     },
     "execution_count": 21,
     "metadata": {},
     "output_type": "execute_result"
    }
   ],
   "source": [
    "sr <10"
   ]
  },
  {
   "cell_type": "markdown",
   "id": "3d0d1697",
   "metadata": {},
   "source": [
    "- 논리연산 => & : and 연산  | : or 연산  ~ : not 연산"
   ]
  },
  {
   "cell_type": "code",
   "execution_count": 28,
   "id": "c2838499",
   "metadata": {},
   "outputs": [
    {
     "data": {
      "text/plain": [
       "0    False\n",
       "1     True\n",
       "2    False\n",
       "3     True\n",
       "4    False\n",
       "dtype: bool"
      ]
     },
     "execution_count": 28,
     "metadata": {},
     "output_type": "execute_result"
    }
   ],
   "source": [
    "(sr > 5) & (sr < 10)"
   ]
  },
  {
   "cell_type": "code",
   "execution_count": 29,
   "id": "e483b8fd",
   "metadata": {},
   "outputs": [
    {
     "data": {
      "text/plain": [
       "0     True\n",
       "1     True\n",
       "2    False\n",
       "3     True\n",
       "4     True\n",
       "dtype: bool"
      ]
     },
     "execution_count": 29,
     "metadata": {},
     "output_type": "execute_result"
    }
   ],
   "source": [
    "(sr > 5) | (sr < 10)"
   ]
  },
  {
   "cell_type": "code",
   "execution_count": 30,
   "id": "b4077f98",
   "metadata": {},
   "outputs": [
    {
     "name": "stdout",
     "output_type": "stream",
     "text": [
      "0     True\n",
      "1    False\n",
      "2     True\n",
      "3    False\n",
      "4    False\n",
      "dtype: bool0    False\n",
      "1     True\n",
      "2    False\n",
      "3     True\n",
      "4     True\n",
      "dtype: bool\n"
     ]
    }
   ],
   "source": [
    "print(~(sr > 5), sr > 5, sep='')"
   ]
  },
  {
   "cell_type": "markdown",
   "id": "2d4abc63",
   "metadata": {},
   "source": [
    "- (5) 연산 수행 => Series 객체 + Series 객체"
   ]
  },
  {
   "cell_type": "code",
   "execution_count": 31,
   "id": "baee90d1",
   "metadata": {},
   "outputs": [],
   "source": [
    "data2=[2,4,6,8,9]\n",
    "\n",
    "sr2=pd.Series(data2)"
   ]
  },
  {
   "cell_type": "code",
   "execution_count": 35,
   "id": "e9e57fa9",
   "metadata": {
    "collapsed": true
   },
   "outputs": [
    {
     "name": "stdout",
     "output_type": "stream",
     "text": [
      "0     7.0\n",
      "1    11.0\n",
      "2     NaN\n",
      "3    17.0\n",
      "4    20.0\n",
      "dtype: float64\n",
      "\n",
      "0    3.0\n",
      "1    3.0\n",
      "2    NaN\n",
      "3    1.0\n",
      "4    2.0\n",
      "dtype: float64\n",
      "\n",
      "0    10.0\n",
      "1    28.0\n",
      "2     NaN\n",
      "3    72.0\n",
      "4    99.0\n",
      "dtype: float64\n",
      "\n",
      "0    2.500000\n",
      "1    1.750000\n",
      "2         NaN\n",
      "3    1.125000\n",
      "4    1.222222\n",
      "dtype: float64\n",
      "\n",
      "0    1.0\n",
      "1    3.0\n",
      "2    NaN\n",
      "3    1.0\n",
      "4    2.0\n",
      "dtype: float64\n"
     ]
    }
   ],
   "source": [
    "print(sr+sr2, sr-sr2, sr*sr2, sr/sr2, sr%sr2, sep='\\n\\n')"
   ]
  },
  {
   "cell_type": "code",
   "execution_count": 36,
   "id": "a06b6fae",
   "metadata": {
    "collapsed": true
   },
   "outputs": [
    {
     "name": "stdout",
     "output_type": "stream",
     "text": [
      "0     True\n",
      "1     True\n",
      "2    False\n",
      "3     True\n",
      "4     True\n",
      "dtype: bool\n",
      "\n",
      "0    False\n",
      "1    False\n",
      "2    False\n",
      "3    False\n",
      "4    False\n",
      "dtype: bool\n"
     ]
    }
   ],
   "source": [
    "print(sr>sr2, sr<sr2, sep='\\n\\n')"
   ]
  },
  {
   "cell_type": "code",
   "execution_count": 38,
   "id": "1fed0ef1",
   "metadata": {},
   "outputs": [
    {
     "data": {
      "text/plain": [
       "2    2\n",
       "3    4\n",
       "4    6\n",
       "5    8\n",
       "6    9\n",
       "dtype: int64"
      ]
     },
     "execution_count": 38,
     "metadata": {},
     "output_type": "execute_result"
    }
   ],
   "source": [
    "sr2.index=[2,3,4,5,6]\n",
    "sr2"
   ]
  },
  {
   "cell_type": "code",
   "execution_count": 39,
   "id": "e198f28f",
   "metadata": {},
   "outputs": [
    {
     "name": "stdout",
     "output_type": "stream",
     "text": [
      "0     NaN\n",
      "1     NaN\n",
      "2     NaN\n",
      "3    13.0\n",
      "4    17.0\n",
      "5     NaN\n",
      "6     NaN\n",
      "dtype: float64\n",
      "\n",
      "0    NaN\n",
      "1    NaN\n",
      "2    NaN\n",
      "3    5.0\n",
      "4    5.0\n",
      "5    NaN\n",
      "6    NaN\n",
      "dtype: float64\n",
      "\n",
      "0     NaN\n",
      "1     NaN\n",
      "2     NaN\n",
      "3    36.0\n",
      "4    66.0\n",
      "5     NaN\n",
      "6     NaN\n",
      "dtype: float64\n",
      "\n",
      "0         NaN\n",
      "1         NaN\n",
      "2         NaN\n",
      "3    2.250000\n",
      "4    1.833333\n",
      "5         NaN\n",
      "6         NaN\n",
      "dtype: float64\n",
      "\n",
      "0    NaN\n",
      "1    NaN\n",
      "2    NaN\n",
      "3    1.0\n",
      "4    5.0\n",
      "5    NaN\n",
      "6    NaN\n",
      "dtype: float64\n"
     ]
    }
   ],
   "source": [
    "print(sr+sr2, sr-sr2, sr*sr2, sr/sr2, sr%sr2, sep='\\n\\n')"
   ]
  },
  {
   "cell_type": "code",
   "execution_count": 42,
   "id": "183d394f",
   "metadata": {},
   "outputs": [
    {
     "name": "stdout",
     "output_type": "stream",
     "text": [
      "   index  0\n",
      "0      2  2\n",
      "1      3  4\n",
      "2      4  6\n",
      "3      5  8\n",
      "4      6  9\n",
      "\n",
      "0    2\n",
      "1    4\n",
      "2    6\n",
      "3    8\n",
      "4    9\n",
      "dtype: int64\n"
     ]
    }
   ],
   "source": [
    "print(sr2.reset_index(), sr2.reset_index(drop=True), sep='\\n\\n')"
   ]
  },
  {
   "cell_type": "markdown",
   "id": "4b39833e",
   "metadata": {},
   "source": [
    "- (5) Series 연산수행 => 전용 메서드"
   ]
  },
  {
   "cell_type": "code",
   "execution_count": 44,
   "id": "bb3d4066",
   "metadata": {},
   "outputs": [
    {
     "name": "stdout",
     "output_type": "stream",
     "text": [
      "0    10.0\n",
      "1    12.0\n",
      "2     NaN\n",
      "3    14.0\n",
      "4    16.0\n",
      "dtype: float64\n",
      "\n",
      "0    10.0\n",
      "1    12.0\n",
      "2     5.0\n",
      "3    14.0\n",
      "4    16.0\n",
      "dtype: float64\n"
     ]
    }
   ],
   "source": [
    "print(sr.add(5), sr.add(5, fill_value=0), sep='\\n\\n')"
   ]
  },
  {
   "cell_type": "code",
   "execution_count": 45,
   "id": "ce60592a",
   "metadata": {},
   "outputs": [
    {
     "name": "stdout",
     "output_type": "stream",
     "text": [
      "0    0.0\n",
      "1    2.0\n",
      "2    NaN\n",
      "3    4.0\n",
      "4    6.0\n",
      "dtype: float64\n",
      "\n",
      "0    0.0\n",
      "1    2.0\n",
      "2   -5.0\n",
      "3    4.0\n",
      "4    6.0\n",
      "dtype: float64\n"
     ]
    }
   ],
   "source": [
    "print(sr.sub(5), sr.sub(5, fill_value=0), sep='\\n\\n')"
   ]
  },
  {
   "cell_type": "code",
   "execution_count": 46,
   "id": "86750def",
   "metadata": {},
   "outputs": [
    {
     "name": "stdout",
     "output_type": "stream",
     "text": [
      "0    NaN\n",
      "1    NaN\n",
      "2    NaN\n",
      "3    5.0\n",
      "4    5.0\n",
      "5    NaN\n",
      "6    NaN\n",
      "dtype: float64\n",
      "\n",
      "0    5.0\n",
      "1    7.0\n",
      "2   -2.0\n",
      "3    5.0\n",
      "4    5.0\n",
      "5   -8.0\n",
      "6   -9.0\n",
      "dtype: float64\n"
     ]
    }
   ],
   "source": [
    "print(sr.sub(sr2), sr.sub(sr2, fill_value=0), sep='\\n\\n')"
   ]
  },
  {
   "cell_type": "code",
   "execution_count": 47,
   "id": "4f0cc2c5",
   "metadata": {},
   "outputs": [],
   "source": [
    "addSR=sr.add(sr2, fill_value=0)\n",
    "subSR=sr.sub(sr2, fill_value=0)\n",
    "mulSR=sr.mul(sr2, fill_value=0)\n",
    "divSR=sr.div(sr2, fill_value=0)"
   ]
  },
  {
   "cell_type": "code",
   "execution_count": 48,
   "id": "b9363529",
   "metadata": {
    "collapsed": true
   },
   "outputs": [
    {
     "data": {
      "text/plain": [
       "(0     5.0\n",
       " 1     7.0\n",
       " 2     2.0\n",
       " 3    13.0\n",
       " 4    17.0\n",
       " 5     8.0\n",
       " 6     9.0\n",
       " dtype: float64,\n",
       " 0    5.0\n",
       " 1    7.0\n",
       " 2   -2.0\n",
       " 3    5.0\n",
       " 4    5.0\n",
       " 5   -8.0\n",
       " 6   -9.0\n",
       " dtype: float64,\n",
       " 0     0.0\n",
       " 1     0.0\n",
       " 2     0.0\n",
       " 3    36.0\n",
       " 4    66.0\n",
       " 5     0.0\n",
       " 6     0.0\n",
       " dtype: float64,\n",
       " 0         inf\n",
       " 1         inf\n",
       " 2    0.000000\n",
       " 3    2.250000\n",
       " 4    1.833333\n",
       " 5    0.000000\n",
       " 6    0.000000\n",
       " dtype: float64)"
      ]
     },
     "execution_count": 48,
     "metadata": {},
     "output_type": "execute_result"
    }
   ],
   "source": [
    "addSR, subSR, mulSR, divSR"
   ]
  },
  {
   "cell_type": "markdown",
   "id": "c6f87942",
   "metadata": {},
   "source": [
    "- (6) DataFrame 연산 수행"
   ]
  },
  {
   "cell_type": "code",
   "execution_count": 51,
   "id": "55939975",
   "metadata": {},
   "outputs": [],
   "source": [
    "df=pd.DataFrame([addSR,subSR,mulSR,divSR], index=['add','sub','mul','div'])"
   ]
  },
  {
   "cell_type": "code",
   "execution_count": 52,
   "id": "28ed374d",
   "metadata": {},
   "outputs": [
    {
     "data": {
      "text/html": [
       "<div>\n",
       "<style scoped>\n",
       "    .dataframe tbody tr th:only-of-type {\n",
       "        vertical-align: middle;\n",
       "    }\n",
       "\n",
       "    .dataframe tbody tr th {\n",
       "        vertical-align: top;\n",
       "    }\n",
       "\n",
       "    .dataframe thead th {\n",
       "        text-align: right;\n",
       "    }\n",
       "</style>\n",
       "<table border=\"1\" class=\"dataframe\">\n",
       "  <thead>\n",
       "    <tr style=\"text-align: right;\">\n",
       "      <th></th>\n",
       "      <th>0</th>\n",
       "      <th>1</th>\n",
       "      <th>2</th>\n",
       "      <th>3</th>\n",
       "      <th>4</th>\n",
       "      <th>5</th>\n",
       "      <th>6</th>\n",
       "    </tr>\n",
       "  </thead>\n",
       "  <tbody>\n",
       "    <tr>\n",
       "      <th>add</th>\n",
       "      <td>5.0</td>\n",
       "      <td>7.0</td>\n",
       "      <td>2.0</td>\n",
       "      <td>13.00</td>\n",
       "      <td>17.000000</td>\n",
       "      <td>8.0</td>\n",
       "      <td>9.0</td>\n",
       "    </tr>\n",
       "    <tr>\n",
       "      <th>sub</th>\n",
       "      <td>5.0</td>\n",
       "      <td>7.0</td>\n",
       "      <td>-2.0</td>\n",
       "      <td>5.00</td>\n",
       "      <td>5.000000</td>\n",
       "      <td>-8.0</td>\n",
       "      <td>-9.0</td>\n",
       "    </tr>\n",
       "    <tr>\n",
       "      <th>mul</th>\n",
       "      <td>0.0</td>\n",
       "      <td>0.0</td>\n",
       "      <td>0.0</td>\n",
       "      <td>36.00</td>\n",
       "      <td>66.000000</td>\n",
       "      <td>0.0</td>\n",
       "      <td>0.0</td>\n",
       "    </tr>\n",
       "    <tr>\n",
       "      <th>div</th>\n",
       "      <td>inf</td>\n",
       "      <td>inf</td>\n",
       "      <td>0.0</td>\n",
       "      <td>2.25</td>\n",
       "      <td>1.833333</td>\n",
       "      <td>0.0</td>\n",
       "      <td>0.0</td>\n",
       "    </tr>\n",
       "  </tbody>\n",
       "</table>\n",
       "</div>"
      ],
      "text/plain": [
       "       0    1    2      3          4    5    6\n",
       "add  5.0  7.0  2.0  13.00  17.000000  8.0  9.0\n",
       "sub  5.0  7.0 -2.0   5.00   5.000000 -8.0 -9.0\n",
       "mul  0.0  0.0  0.0  36.00  66.000000  0.0  0.0\n",
       "div  inf  inf  0.0   2.25   1.833333  0.0  0.0"
      ]
     },
     "execution_count": 52,
     "metadata": {},
     "output_type": "execute_result"
    }
   ],
   "source": [
    "df"
   ]
  },
  {
   "cell_type": "markdown",
   "id": "966add33",
   "metadata": {},
   "source": [
    "- DataFrame과 숫자 연산 수행"
   ]
  },
  {
   "cell_type": "code",
   "execution_count": 57,
   "id": "26bcc96b",
   "metadata": {},
   "outputs": [
    {
     "name": "stdout",
     "output_type": "stream",
     "text": [
      "        0     1    2      3          4     5     6\n",
      "add  10.0  12.0  7.0  18.00  22.000000  13.0  14.0\n",
      "sub  10.0  12.0  3.0  10.00  10.000000  -3.0  -4.0\n",
      "mul   5.0   5.0  5.0  41.00  71.000000   5.0   5.0\n",
      "div   inf   inf  5.0   7.25   6.833333   5.0   5.0\n",
      "\n",
      "       0    1    2      3          4     5     6\n",
      "add  0.0  2.0 -3.0   8.00  12.000000   3.0   4.0\n",
      "sub  0.0  2.0 -7.0   0.00   0.000000 -13.0 -14.0\n",
      "mul -5.0 -5.0 -5.0  31.00  61.000000  -5.0  -5.0\n",
      "div  inf  inf -5.0  -2.75  -3.166667  -5.0  -5.0\n"
     ]
    }
   ],
   "source": [
    "print(df+5, df-5,sep='\\n\\n')"
   ]
  },
  {
   "cell_type": "code",
   "execution_count": 59,
   "id": "0ea934cc",
   "metadata": {},
   "outputs": [
    {
     "name": "stdout",
     "output_type": "stream",
     "text": [
      "         0      1      2      3      4      5      6\n",
      "add  False   True  False   True   True   True   True\n",
      "sub  False   True  False  False  False  False  False\n",
      "mul  False  False  False   True   True  False  False\n",
      "div   True   True  False  False  False  False  False\n",
      "\n",
      "         0      1     2      3      4      5      6\n",
      "add  False  False  True  False  False  False  False\n",
      "sub  False  False  True  False  False   True   True\n",
      "mul   True   True  True  False  False   True   True\n",
      "div  False  False  True   True   True   True   True\n"
     ]
    }
   ],
   "source": [
    "print(df>5, df<5,sep='\\n\\n')"
   ]
  },
  {
   "cell_type": "markdown",
   "id": "14d97dd2",
   "metadata": {},
   "source": [
    "- DataFrame과 DataFrame 연산 수행 => 동일 위치에 원소끼리 연산 수행"
   ]
  },
  {
   "cell_type": "code",
   "execution_count": 62,
   "id": "24616a4e",
   "metadata": {},
   "outputs": [
    {
     "data": {
      "text/html": [
       "<div>\n",
       "<style scoped>\n",
       "    .dataframe tbody tr th:only-of-type {\n",
       "        vertical-align: middle;\n",
       "    }\n",
       "\n",
       "    .dataframe tbody tr th {\n",
       "        vertical-align: top;\n",
       "    }\n",
       "\n",
       "    .dataframe thead th {\n",
       "        text-align: right;\n",
       "    }\n",
       "</style>\n",
       "<table border=\"1\" class=\"dataframe\">\n",
       "  <thead>\n",
       "    <tr style=\"text-align: right;\">\n",
       "      <th></th>\n",
       "      <th>0</th>\n",
       "      <th>1</th>\n",
       "      <th>2</th>\n",
       "      <th>3</th>\n",
       "      <th>4</th>\n",
       "      <th>5</th>\n",
       "      <th>6</th>\n",
       "    </tr>\n",
       "  </thead>\n",
       "  <tbody>\n",
       "    <tr>\n",
       "      <th>add</th>\n",
       "      <td>50.0</td>\n",
       "      <td>70.0</td>\n",
       "      <td>20.0</td>\n",
       "      <td>130.0</td>\n",
       "      <td>170.000000</td>\n",
       "      <td>80.0</td>\n",
       "      <td>90.0</td>\n",
       "    </tr>\n",
       "    <tr>\n",
       "      <th>sub</th>\n",
       "      <td>50.0</td>\n",
       "      <td>70.0</td>\n",
       "      <td>-20.0</td>\n",
       "      <td>50.0</td>\n",
       "      <td>50.000000</td>\n",
       "      <td>-80.0</td>\n",
       "      <td>-90.0</td>\n",
       "    </tr>\n",
       "    <tr>\n",
       "      <th>mul</th>\n",
       "      <td>0.0</td>\n",
       "      <td>0.0</td>\n",
       "      <td>0.0</td>\n",
       "      <td>360.0</td>\n",
       "      <td>660.000000</td>\n",
       "      <td>0.0</td>\n",
       "      <td>0.0</td>\n",
       "    </tr>\n",
       "    <tr>\n",
       "      <th>div</th>\n",
       "      <td>inf</td>\n",
       "      <td>inf</td>\n",
       "      <td>0.0</td>\n",
       "      <td>22.5</td>\n",
       "      <td>18.333333</td>\n",
       "      <td>0.0</td>\n",
       "      <td>0.0</td>\n",
       "    </tr>\n",
       "  </tbody>\n",
       "</table>\n",
       "</div>"
      ],
      "text/plain": [
       "        0     1     2      3           4     5     6\n",
       "add  50.0  70.0  20.0  130.0  170.000000  80.0  90.0\n",
       "sub  50.0  70.0 -20.0   50.0   50.000000 -80.0 -90.0\n",
       "mul   0.0   0.0   0.0  360.0  660.000000   0.0   0.0\n",
       "div   inf   inf   0.0   22.5   18.333333   0.0   0.0"
      ]
     },
     "execution_count": 62,
     "metadata": {},
     "output_type": "execute_result"
    }
   ],
   "source": [
    "df2 = df*10\n",
    "df2"
   ]
  },
  {
   "cell_type": "code",
   "execution_count": 63,
   "id": "f263b5c0",
   "metadata": {},
   "outputs": [
    {
     "name": "stdout",
     "output_type": "stream",
     "text": [
      "        0     1     2       3           4     5     6\n",
      "add  55.0  77.0  22.0  143.00  187.000000  88.0  99.0\n",
      "sub  55.0  77.0 -22.0   55.00   55.000000 -88.0 -99.0\n",
      "mul   0.0   0.0   0.0  396.00  726.000000   0.0   0.0\n",
      "div   inf   inf   0.0   24.75   20.166667   0.0   0.0\n",
      "\n",
      "         0      1     2          3             4      5      6\n",
      "add  250.0  490.0  40.0   1690.000   2890.000000  640.0  810.0\n",
      "sub  250.0  490.0  40.0    250.000    250.000000  640.0  810.0\n",
      "mul    0.0    0.0   0.0  12960.000  43560.000000    0.0    0.0\n",
      "div    inf    inf   0.0     50.625     33.611111    0.0    0.0\n"
     ]
    }
   ],
   "source": [
    "print(df+df2, df*df2, sep='\\n\\n')"
   ]
  },
  {
   "cell_type": "code",
   "execution_count": 66,
   "id": "46e162ff",
   "metadata": {},
   "outputs": [
    {
     "data": {
      "text/plain": [
       "(Index(['add', 'sub', 'mul', 'div'], dtype='object'),\n",
       " Index([0, 1, 2, 3, 4, 5, 6], dtype='int64'))"
      ]
     },
     "execution_count": 66,
     "metadata": {},
     "output_type": "execute_result"
    }
   ],
   "source": [
    "df2.index, df2.columns"
   ]
  },
  {
   "cell_type": "code",
   "execution_count": 67,
   "id": "b711dee6",
   "metadata": {},
   "outputs": [],
   "source": [
    "df2.index=['add','minus','mul','/']"
   ]
  },
  {
   "cell_type": "code",
   "execution_count": 68,
   "id": "0384b45e",
   "metadata": {},
   "outputs": [
    {
     "name": "stdout",
     "output_type": "stream",
     "text": [
      "          0     1     2      3      4     5     6\n",
      "/       NaN   NaN   NaN    NaN    NaN   NaN   NaN\n",
      "add    55.0  77.0  22.0  143.0  187.0  88.0  99.0\n",
      "div     NaN   NaN   NaN    NaN    NaN   NaN   NaN\n",
      "minus   NaN   NaN   NaN    NaN    NaN   NaN   NaN\n",
      "mul     0.0   0.0   0.0  396.0  726.0   0.0   0.0\n",
      "sub     NaN   NaN   NaN    NaN    NaN   NaN   NaN\n",
      "\n",
      "           0      1     2        3        4      5      6\n",
      "/        NaN    NaN   NaN      NaN      NaN    NaN    NaN\n",
      "add    250.0  490.0  40.0   1690.0   2890.0  640.0  810.0\n",
      "div      NaN    NaN   NaN      NaN      NaN    NaN    NaN\n",
      "minus    NaN    NaN   NaN      NaN      NaN    NaN    NaN\n",
      "mul      0.0    0.0   0.0  12960.0  43560.0    0.0    0.0\n",
      "sub      NaN    NaN   NaN      NaN      NaN    NaN    NaN\n"
     ]
    }
   ],
   "source": [
    "print(df+df2, df*df2, sep='\\n\\n')"
   ]
  },
  {
   "cell_type": "markdown",
   "id": "1d47302a",
   "metadata": {},
   "source": [
    "- 연산 수행 메서드 활용 => 결측치 즉 NaN 빈칸에 대한 처리를 수행 가능\n",
    "    * fill_value 파라미터에 값 설정"
   ]
  },
  {
   "cell_type": "code",
   "execution_count": 71,
   "id": "8317c489",
   "metadata": {},
   "outputs": [
    {
     "data": {
      "text/html": [
       "<div>\n",
       "<style scoped>\n",
       "    .dataframe tbody tr th:only-of-type {\n",
       "        vertical-align: middle;\n",
       "    }\n",
       "\n",
       "    .dataframe tbody tr th {\n",
       "        vertical-align: top;\n",
       "    }\n",
       "\n",
       "    .dataframe thead th {\n",
       "        text-align: right;\n",
       "    }\n",
       "</style>\n",
       "<table border=\"1\" class=\"dataframe\">\n",
       "  <thead>\n",
       "    <tr style=\"text-align: right;\">\n",
       "      <th></th>\n",
       "      <th>0</th>\n",
       "      <th>1</th>\n",
       "      <th>2</th>\n",
       "      <th>3</th>\n",
       "      <th>4</th>\n",
       "      <th>5</th>\n",
       "      <th>6</th>\n",
       "    </tr>\n",
       "  </thead>\n",
       "  <tbody>\n",
       "    <tr>\n",
       "      <th>/</th>\n",
       "      <td>inf</td>\n",
       "      <td>inf</td>\n",
       "      <td>0.0</td>\n",
       "      <td>22.50</td>\n",
       "      <td>18.333333</td>\n",
       "      <td>0.0</td>\n",
       "      <td>0.0</td>\n",
       "    </tr>\n",
       "    <tr>\n",
       "      <th>add</th>\n",
       "      <td>55.0</td>\n",
       "      <td>77.0</td>\n",
       "      <td>22.0</td>\n",
       "      <td>143.00</td>\n",
       "      <td>187.000000</td>\n",
       "      <td>88.0</td>\n",
       "      <td>99.0</td>\n",
       "    </tr>\n",
       "    <tr>\n",
       "      <th>div</th>\n",
       "      <td>inf</td>\n",
       "      <td>inf</td>\n",
       "      <td>0.0</td>\n",
       "      <td>2.25</td>\n",
       "      <td>1.833333</td>\n",
       "      <td>0.0</td>\n",
       "      <td>0.0</td>\n",
       "    </tr>\n",
       "    <tr>\n",
       "      <th>minus</th>\n",
       "      <td>50.0</td>\n",
       "      <td>70.0</td>\n",
       "      <td>-20.0</td>\n",
       "      <td>50.00</td>\n",
       "      <td>50.000000</td>\n",
       "      <td>-80.0</td>\n",
       "      <td>-90.0</td>\n",
       "    </tr>\n",
       "    <tr>\n",
       "      <th>mul</th>\n",
       "      <td>0.0</td>\n",
       "      <td>0.0</td>\n",
       "      <td>0.0</td>\n",
       "      <td>396.00</td>\n",
       "      <td>726.000000</td>\n",
       "      <td>0.0</td>\n",
       "      <td>0.0</td>\n",
       "    </tr>\n",
       "    <tr>\n",
       "      <th>sub</th>\n",
       "      <td>5.0</td>\n",
       "      <td>7.0</td>\n",
       "      <td>-2.0</td>\n",
       "      <td>5.00</td>\n",
       "      <td>5.000000</td>\n",
       "      <td>-8.0</td>\n",
       "      <td>-9.0</td>\n",
       "    </tr>\n",
       "  </tbody>\n",
       "</table>\n",
       "</div>"
      ],
      "text/plain": [
       "          0     1     2       3           4     5     6\n",
       "/       inf   inf   0.0   22.50   18.333333   0.0   0.0\n",
       "add    55.0  77.0  22.0  143.00  187.000000  88.0  99.0\n",
       "div     inf   inf   0.0    2.25    1.833333   0.0   0.0\n",
       "minus  50.0  70.0 -20.0   50.00   50.000000 -80.0 -90.0\n",
       "mul     0.0   0.0   0.0  396.00  726.000000   0.0   0.0\n",
       "sub     5.0   7.0  -2.0    5.00    5.000000  -8.0  -9.0"
      ]
     },
     "execution_count": 71,
     "metadata": {},
     "output_type": "execute_result"
    }
   ],
   "source": [
    "df.add(df2, fill_value=0)"
   ]
  },
  {
   "cell_type": "code",
   "execution_count": 72,
   "id": "9dba7998",
   "metadata": {},
   "outputs": [
    {
     "data": {
      "text/html": [
       "<div>\n",
       "<style scoped>\n",
       "    .dataframe tbody tr th:only-of-type {\n",
       "        vertical-align: middle;\n",
       "    }\n",
       "\n",
       "    .dataframe tbody tr th {\n",
       "        vertical-align: top;\n",
       "    }\n",
       "\n",
       "    .dataframe thead th {\n",
       "        text-align: right;\n",
       "    }\n",
       "</style>\n",
       "<table border=\"1\" class=\"dataframe\">\n",
       "  <thead>\n",
       "    <tr style=\"text-align: right;\">\n",
       "      <th></th>\n",
       "      <th>0</th>\n",
       "      <th>1</th>\n",
       "      <th>2</th>\n",
       "      <th>3</th>\n",
       "      <th>4</th>\n",
       "      <th>5</th>\n",
       "      <th>6</th>\n",
       "    </tr>\n",
       "  </thead>\n",
       "  <tbody>\n",
       "    <tr>\n",
       "      <th>/</th>\n",
       "      <td>-inf</td>\n",
       "      <td>-inf</td>\n",
       "      <td>0.0</td>\n",
       "      <td>-22.50</td>\n",
       "      <td>-18.333333</td>\n",
       "      <td>0.0</td>\n",
       "      <td>0.0</td>\n",
       "    </tr>\n",
       "    <tr>\n",
       "      <th>add</th>\n",
       "      <td>-45.0</td>\n",
       "      <td>-63.0</td>\n",
       "      <td>-18.0</td>\n",
       "      <td>-117.00</td>\n",
       "      <td>-153.000000</td>\n",
       "      <td>-72.0</td>\n",
       "      <td>-81.0</td>\n",
       "    </tr>\n",
       "    <tr>\n",
       "      <th>div</th>\n",
       "      <td>inf</td>\n",
       "      <td>inf</td>\n",
       "      <td>0.0</td>\n",
       "      <td>2.25</td>\n",
       "      <td>1.833333</td>\n",
       "      <td>0.0</td>\n",
       "      <td>0.0</td>\n",
       "    </tr>\n",
       "    <tr>\n",
       "      <th>minus</th>\n",
       "      <td>-50.0</td>\n",
       "      <td>-70.0</td>\n",
       "      <td>20.0</td>\n",
       "      <td>-50.00</td>\n",
       "      <td>-50.000000</td>\n",
       "      <td>80.0</td>\n",
       "      <td>90.0</td>\n",
       "    </tr>\n",
       "    <tr>\n",
       "      <th>mul</th>\n",
       "      <td>0.0</td>\n",
       "      <td>0.0</td>\n",
       "      <td>0.0</td>\n",
       "      <td>-324.00</td>\n",
       "      <td>-594.000000</td>\n",
       "      <td>0.0</td>\n",
       "      <td>0.0</td>\n",
       "    </tr>\n",
       "    <tr>\n",
       "      <th>sub</th>\n",
       "      <td>5.0</td>\n",
       "      <td>7.0</td>\n",
       "      <td>-2.0</td>\n",
       "      <td>5.00</td>\n",
       "      <td>5.000000</td>\n",
       "      <td>-8.0</td>\n",
       "      <td>-9.0</td>\n",
       "    </tr>\n",
       "  </tbody>\n",
       "</table>\n",
       "</div>"
      ],
      "text/plain": [
       "          0     1     2       3           4     5     6\n",
       "/      -inf  -inf   0.0  -22.50  -18.333333   0.0   0.0\n",
       "add   -45.0 -63.0 -18.0 -117.00 -153.000000 -72.0 -81.0\n",
       "div     inf   inf   0.0    2.25    1.833333   0.0   0.0\n",
       "minus -50.0 -70.0  20.0  -50.00  -50.000000  80.0  90.0\n",
       "mul     0.0   0.0   0.0 -324.00 -594.000000   0.0   0.0\n",
       "sub     5.0   7.0  -2.0    5.00    5.000000  -8.0  -9.0"
      ]
     },
     "execution_count": 72,
     "metadata": {},
     "output_type": "execute_result"
    }
   ],
   "source": [
    "df.sub(df2, fill_value=0)"
   ]
  },
  {
   "cell_type": "code",
   "execution_count": null,
   "id": "12b48191",
   "metadata": {},
   "outputs": [],
   "source": []
  }
 ],
 "metadata": {
  "kernelspec": {
   "display_name": "Python 3 (ipykernel)",
   "language": "python",
   "name": "python3"
  },
  "language_info": {
   "codemirror_mode": {
    "name": "ipython",
    "version": 3
   },
   "file_extension": ".py",
   "mimetype": "text/x-python",
   "name": "python",
   "nbconvert_exporter": "python",
   "pygments_lexer": "ipython3",
   "version": "3.11.5"
  }
 },
 "nbformat": 4,
 "nbformat_minor": 5
}
